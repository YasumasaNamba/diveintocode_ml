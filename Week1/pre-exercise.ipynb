{
 "cells": [
  {
   "cell_type": "markdown",
   "metadata": {},
   "source": [
    "### 課題：紙を折る\n",
    "紙を折り続けると厚さが増していき、43回で月に届くという話があります。しかし、実際には10回も折ることができません。また、手計算も大変です。\n",
    "そこで今回の課題では **1枚の紙を43回折り曲げた時の厚さを計算するプログラム** を作成します。\n",
    "43回折った紙の厚さ$t_{43}$は、折る前の紙の厚さ$t_0$を使い以下の数式で求まります。\n",
    "$$ t_{43} = t_{0} \\times 2^{43} $$\n",
    "折る前の紙の厚さ$t_0$は、**0.00008m**とします。一般点的なコピー用紙の厚さです。"
   ]
  },
  {
   "cell_type": "code",
   "execution_count": 2,
   "metadata": {},
   "outputs": [
    {
     "name": "stdout",
     "output_type": "stream",
     "text": [
      "厚さ: 703687441.77664メートル\n"
     ]
    }
   ],
   "source": [
    "# 問題1　べき乗の算術演算子を使用して作成\n",
    "\"\"\"\n",
    "紙を1回折った時の厚さを計算するコード\n",
    "\"\"\"\n",
    "THICKNESS = 0.00008\n",
    "folded_thickness = THICKNESS * (2 ** 43)\n",
    "\n",
    "print('厚さ: {}メートル'.format(folded_thickness))"
   ]
  },
  {
   "cell_type": "code",
   "execution_count": 3,
   "metadata": {},
   "outputs": [
    {
     "name": "stdout",
     "output_type": "stream",
     "text": [
      "厚さ: 703687.44キロメートル\n"
     ]
    }
   ],
   "source": [
    "# 問題2　単位の変換\n",
    "# メートルをキロメートルに変換して小数点以下2桁で表示する\n",
    "print('厚さ: {:.2f}キロメートル'.format(folded_thickness/1000))"
   ]
  },
  {
   "cell_type": "code",
   "execution_count": 6,
   "metadata": {},
   "outputs": [
    {
     "name": "stdout",
     "output_type": "stream",
     "text": [
      "厚さ: 703687.44キロメートル\n"
     ]
    }
   ],
   "source": [
    "# 問題3 for文を使用して作成\n",
    "folded_thickness = 0.00008\n",
    "for _ in range(43):\n",
    "    folded_thickness *= 2\n",
    "print('厚さ: {:.2f}キロメートル'.format(folded_thickness/1000))"
   ]
  },
  {
   "cell_type": "code",
   "execution_count": 20,
   "metadata": {},
   "outputs": [
    {
     "name": "stdout",
     "output_type": "stream",
     "text": [
      "time('exponentiation'): 9.30e-05[s]\n",
      "time('for loop'): 7.32e-05[s]\n"
     ]
    }
   ],
   "source": [
    "# 問題4 計算時間の比較\n",
    "import time\n",
    "\n",
    "# べき乗での計算時間\n",
    "THICKNESS = 0.00008\n",
    "start = time.time()\n",
    "folded_thickness = THICKNESS * (2 ** 43)\n",
    "elapsed_time_exp = time.time() - start\n",
    "\n",
    "print(\"time('exponentiation'): {:.2e}[s]\".format(elapsed_time_exp))\n",
    "\n",
    "\n",
    "# for loopでの計算時間\n",
    "folded_thickness = 0.00008\n",
    "start = time.time()\n",
    "for _ in range(43):\n",
    "    folded_thickness *= 2\n",
    "elapsed_time_forloop = time.time() - start\n",
    "\n",
    "print(\"time('for loop'): {:.2e}[s]\".format(elapsed_time_forloop))"
   ]
  },
  {
   "cell_type": "markdown",
   "metadata": {},
   "source": [
    "計算速度の観点からは大きな違いはない。<p>"
   ]
  },
  {
   "cell_type": "code",
   "execution_count": 24,
   "metadata": {},
   "outputs": [
    {
     "name": "stdout",
     "output_type": "stream",
     "text": [
      "44\n"
     ]
    }
   ],
   "source": [
    "# 問題5 リストへの保存\n",
    "THICKNESS = 0.00008  # 紙の厚さ\n",
    "thickness_list = []  # 0回〜43回折った時の紙の厚さを保存するリスト\n",
    "for i in range(44):\n",
    "    thickness_list.append(THICKNESS * 2 ** i)\n",
    "print(len(thickness_list))"
   ]
  },
  {
   "cell_type": "code",
   "execution_count": 26,
   "metadata": {},
   "outputs": [
    {
     "data": {
      "image/png": "[encoded data removed]",
      "text/plain": [
       "<Figure size 432x288 with 1 Axes>"
      ]
     },
     "metadata": {
      "needs_background": "light"
     },
     "output_type": "display_data"
    }
   ],
   "source": [
    "# 問題6 折れ線グラフの表示\n",
    "\"\"\"\n",
    "グラフを表示する。タイトルと軸ラベル付き。\n",
    "\"\"\"\n",
    "import matplotlib.pyplot as plt\n",
    "%matplotlib inline\n",
    "\n",
    "plt.title('thickness of folded paper')\n",
    "plt.xlabel('number of folds')\n",
    "plt.ylabel('thickness[m]')\n",
    "plt.plot(thickness_list, '-o', color='k')\n",
    "plt.show()"
   ]
  },
  {
   "cell_type": "markdown",
   "metadata": {},
   "source": [
    "後半になる程1回折ることによる厚みの変化が大きくなることがわかった"
   ]
  },
  {
   "cell_type": "code",
   "execution_count": 31,
   "metadata": {},
   "outputs": [
    {
     "data": {
      "image/png": "[encoded data removed]",
      "text/plain": [
       "<Figure size 432x288 with 1 Axes>"
      ]
     },
     "metadata": {
      "needs_background": "light"
     },
     "output_type": "display_data"
    }
   ],
   "source": [
    "# 問題7　グラフのカスタマイズ\n",
    "\"\"\"\n",
    "赤い折れ線グラフを表示する。\n",
    "\"\"\"\n",
    "plt.title('thickness of folded paper')\n",
    "plt.xlabel('number of folds')\n",
    "plt.ylabel('thickness[m]')\n",
    "plt.tick_params(labelsize=20)\n",
    "plt.plot(thickness_list, '--', color='red')\n",
    "plt.show()"
   ]
  },
  {
   "cell_type": "code",
   "execution_count": null,
   "metadata": {},
   "outputs": [],
   "source": []
  }
 ],
 "metadata": {
  "kernelspec": {
   "display_name": "Python 3",
   "language": "python",
   "name": "python3"
  },
  "language_info": {
   "codemirror_mode": {
    "name": "ipython",
    "version": 3
   },
   "file_extension": ".py",
   "mimetype": "text/x-python",
   "name": "python",
   "nbconvert_exporter": "python",
   "pygments_lexer": "ipython3",
   "version": "3.7.4"
  }
 },
 "nbformat": 4,
 "nbformat_minor": 2
}
