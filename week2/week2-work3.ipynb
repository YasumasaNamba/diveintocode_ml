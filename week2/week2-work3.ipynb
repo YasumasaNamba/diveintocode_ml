{
 "cells": [
  {
   "cell_type": "markdown",
   "metadata": {},
   "source": [
    "## 【課題1】内積を手計算しよう\n",
    "以下のような行列A, Bを考えます。\n",
    "$$ A = \\left[\n",
    "    \\begin{array}{ccc}\n",
    "      -1 & 2 & 3 \\\\\n",
    "      4 & -5 & 6 \\\\\n",
    "      7 & 8 & -9 \\\\\n",
    "    \\end{array}\n",
    "  \\right],\n",
    "  B = \\left[\n",
    "    \\begin{array}{ccc}\n",
    "      0 & 2 & 1 \\\\\n",
    "      0 & 2 & -8 \\\\\n",
    "      2 & 9 & -1 \\\\\n",
    "    \\end{array}\n",
    "  \\right] $$\n",
    "行列の内積A*Bを手計算で解きなさい。"
   ]
  },
  {
   "cell_type": "code",
   "execution_count": 3,
   "metadata": {},
   "outputs": [],
   "source": [
    "AB = [[6, 29, -20],\n",
    "      [12, 52, 38],\n",
    "      [-18, -51, -48]]"
   ]
  },
  {
   "cell_type": "markdown",
   "metadata": {},
   "source": [
    "## 【課題2】1次元配列の内積をfor文で計算しよう\n",
    "これ以降の課題は**NumPyを使って**解いてください。  \n",
    "【課題1】では手計算してもらいました。一つ一つの演算はさほど難しくありませんが、演算数は多くかなり面倒くさかったと思います。  \n",
    "この演算をpythonを使って実装するとどうなるのでしょうか？  \n",
    "手計算する際には、まず行列Aの1行目と行列Bの1列目に注目したと思います。そして、  \n",
    "- 行列Aの(0,0)の要素と行列Bの(0,0)の要素を掛け合わせる\n",
    "- 行列Aの(0,1)の要素と行列Bの(1,0)の要素を掛け合わせる\n",
    "- 行列Aの(0,2)の要素と行列Bの(2,0)の要素を掛け合わせる\n",
    "- それらの値を全て足し合わせる \n",
    "\n",
    "というフローを得て、ようやく一つ目の要素が求まるわけです。  \n",
    "まずは、ご自身で配列のindexを指定し、  \n",
    "- 行列Aの(0,0)の要素と行列Bの(0,1)の要素を掛け合わせる\n",
    "- 行列Aの(0,1)の要素と行列Bの(1,1)の要素を掛け合わせる\n",
    "- 行列Aの(0,2)の要素と行列Bの(2,1)の要素を掛け合わせる\n",
    "- それらの値を全て足し合わせる\n",
    "\n",
    "のフローをfor文を使って計算してください。"
   ]
  },
  {
   "cell_type": "code",
   "execution_count": 5,
   "metadata": {},
   "outputs": [
    {
     "data": {
      "text/plain": [
       "29"
      ]
     },
     "execution_count": 5,
     "metadata": {},
     "output_type": "execute_result"
    }
   ],
   "source": [
    "A = np.array([[-1, 2, 3], [4, -5, 6], [7, 8, -9]])\n",
    "B = np.array([[0, 2, 1], [0, 2, -8], [2, 9, -1]])\n",
    "AB_01 = 0\n",
    "\n",
    "for i in range(3):\n",
    "    AB_01 += A[0,i] * B[i,1]\n",
    "AB_01"
   ]
  },
  {
   "cell_type": "markdown",
   "metadata": {},
   "source": [
    "## 【課題3】多次元配列の内積をfor文で計算しよう\n",
    "【課題2】ではA*Bの(0,0)だけ計算するコードを実装してもらいましたが、全要素を求めるにはどうしたら良いでしょうか？  \n",
    "行列A*Bの(0,1)を求めるには  \n",
    "行列Aのインデックスは固定（0行目を選択したまま）で、行列Bのインデックスを0列目から1列目に指定しなおせば良いわけです。理解できない方は、手計算でのフローを思い出してください！  \n",
    "- 行列Aの(0,0)の要素と行列Bの(0,1)の要素を掛け合わせる\n",
    "- 行列Aの(0,1)の要素と行列Bの(1,1)の要素を掛け合わせる\n",
    "- 行列Aの(0,2)の要素と行列Bの(2,1)の要素を掛け合わせる\n",
    "- 1、2、3で求めた値を足し合わせる\n",
    "\n",
    "とすればA*Bの(0,1)の要素が求まります。\n",
    "このように同じ計算を順次インデックスを増やして行けば、全要素の計算ができます。"
   ]
  },
  {
   "cell_type": "code",
   "execution_count": 6,
   "metadata": {},
   "outputs": [
    {
     "data": {
      "text/plain": [
       "array([[  6.,  29., -20.],\n",
       "       [ 12.,  52.,  38.],\n",
       "       [-18., -51., -48.]])"
      ]
     },
     "execution_count": 6,
     "metadata": {},
     "output_type": "execute_result"
    }
   ],
   "source": [
    "AB = np.zeros([3, 3])\n",
    "\n",
    "for i in range(3):\n",
    "    for j in range(3):\n",
    "        for k in range(3):\n",
    "            AB[i, j] += A[i,k] * B[k,j]\n",
    "AB"
   ]
  },
  {
   "cell_type": "markdown",
   "metadata": {},
   "source": [
    "## 【課題4】内積をnp.dotで計算しよう\n",
    "【課題3】ではfor文を使うことで、内積を計算していただきましたが、行列の内積演算の度にこのようにfor文の処理を何回も実装しなくてもはならないのでしょうか  \n",
    "当然そんなことはなく、実はみなさんがやっていただいた処理はnumpyのメソッドですでに用意されています。\n",
    "np.dot(A,B)と計算すると、【課題3】で計算していただいたことが一瞬でできます。  \n",
    "np.dot(A,B)を計算して、【課題3】と同じになることを試してください。  "
   ]
  },
  {
   "cell_type": "code",
   "execution_count": 7,
   "metadata": {},
   "outputs": [
    {
     "data": {
      "text/plain": [
       "array([[  6,  29, -20],\n",
       "       [ 12,  52,  38],\n",
       "       [-18, -51, -48]])"
      ]
     },
     "execution_count": 7,
     "metadata": {},
     "output_type": "execute_result"
    }
   ],
   "source": [
    "import numpy as np\n",
    "A = np.array([[-1, 2, 3], [4, -5, 6], [7, 8, -9]])\n",
    "B = np.array([[0, 2, 1], [0, 2, -8], [2, 9, -1]])\n",
    "np.dot(A, B)"
   ]
  },
  {
   "cell_type": "markdown",
   "metadata": {},
   "source": [
    "## 【課題5】内積ができないときはどうするか\n",
    "以下のような例を考えます。\n",
    "$$ A = \\left[\n",
    "     \\begin{array}{ccc}\n",
    "     -1 & 2 & 3 \\\\\n",
    "      4 & -5 & 6 \\\\\n",
    "     \\end{array}\n",
    "     \\right], \n",
    "   B = \\left[\n",
    "     \\begin{array}{ccc}\n",
    "     -9 & 8 & 7 \\\\\n",
    "      6 & -5 & 4 \\\\\n",
    "     \\end{array}\n",
    "     \\right] $$\n",
    "     \n",
    "行列A\\*Bを計算しようとすると、エラーが出て計算できません。なぜエラーが出るのか理由を記載してください。  \n",
    "そして、行列A、Bのどちらかに**ある操作**をするとエラーが出ずに計算できます。  \n",
    "自分で**ある操作**を施し、内積を計算してください。"
   ]
  },
  {
   "cell_type": "code",
   "execution_count": 12,
   "metadata": {},
   "outputs": [
    {
     "data": {
      "text/plain": [
       "array([[ 33, -28,   9],\n",
       "       [-48,  41,  -6],\n",
       "       [  9,  -6,  45]])"
      ]
     },
     "execution_count": 12,
     "metadata": {},
     "output_type": "execute_result"
    }
   ],
   "source": [
    "A = np.array([[-1, 2, 3], [4, -5, 6]])\n",
    "B = np.array([[-9, 8, 7], [6, -5, 4]])\n",
    "# np.dot(A, B)はAの行数とBの列数が等しくないため計算できない\n",
    "\n",
    "#AとBの内積を計算する\n",
    "#Aの転置行列を取る\n",
    "AB = np.dot(A.T, B)\n",
    "AB"
   ]
  },
  {
   "cell_type": "code",
   "execution_count": null,
   "metadata": {},
   "outputs": [],
   "source": []
  }
 ],
 "metadata": {
  "kernelspec": {
   "display_name": "Python 3",
   "language": "python",
   "name": "python3"
  },
  "language_info": {
   "codemirror_mode": {
    "name": "ipython",
    "version": 3
   },
   "file_extension": ".py",
   "mimetype": "text/x-python",
   "name": "python",
   "nbconvert_exporter": "python",
   "pygments_lexer": "ipython3",
   "version": "3.7.4"
  }
 },
 "nbformat": 4,
 "nbformat_minor": 2
}
