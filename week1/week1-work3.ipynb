{
 "cells": [
  {
   "cell_type": "markdown",
   "metadata": {},
   "source": [
    "## 課題：栗まんじゅう問題\n",
    "漫画ドラえもんには「バイバイン」という道具が登場する、2のn乗に関する有名なエピソード[1]があります。<br>\n",
    "[1] 藤子・Ｆ・不二雄(1979)『ドラえもん（１７）』小学館.\n",
    "「バイバイン」は薬品で、これを振掛けるとその物体は5分ごとに倍に増えるという働きがあります。作中では栗まんじゅうを増やしますが、食べきれなくなったためロケットを使い宇宙に捨てました。\n",
    "ここで度々話題になるのが、栗まんじゅうはその後宇宙でどのように増えていくのかについてです。様々な議論がされていますが、今回は単純に栗まんじゅうの体積がどう増えるかを計算してみましょう。"
   ]
  },
  {
   "cell_type": "code",
   "execution_count": 1,
   "metadata": {},
   "outputs": [],
   "source": [
    "import math\n",
    "\n",
    "import matplotlib.pyplot as plt\n",
    "%matplotlib inline"
   ]
  },
  {
   "cell_type": "code",
   "execution_count": 4,
   "metadata": {},
   "outputs": [],
   "source": [
    "# 問題　栗まんじゅうが太陽系を覆う日\n",
    "\n",
    "def cal_minutes(capacity, kurimanju=0.000125):\n",
    "    \"\"\"\n",
    "    5分ごとに数が倍に増える栗まんじゅうがある。\n",
    "    空間の体積(capacity)を入力すると、何分後にその空間を覆うか計算する。\n",
    "    \n",
    "    Parameters\n",
    "    ------------------\n",
    "    capacity: float (空間の体積[m3])\n",
    "    kurimanju: float (栗まんじゅうの体積、\n",
    "                      default: 0.000125[m3](1辺5cmの直方体と仮定した)）\n",
    "    \n",
    "    Returns\n",
    "    ------------------\n",
    "    need_minute: int (栗まんじゅうが空間を覆うのに必要な時間[min])\n",
    "    \"\"\"\n",
    "\n",
    "    import math\n",
    "    \n",
    "    num_kurimanju_list = [1] #栗まんじゅうの個数リスト、最初は1個\n",
    "    fill_ratio = [kurimanju/capacity]  # 栗まんじゅうによる空間の充填率のリスト\n",
    "    times = [0] #経過時間\n",
    "    \n",
    "    # 栗まんじゅうの充填率が1以下の時、5分後の状態を計算\n",
    "    while fill_ratio[-1] < 1:\n",
    "        times.append(times[-1] + 5)\n",
    "        num_kurimanju_list.append(num_kurimanju_list[-1] * 2)\n",
    "        fill_ratio.append(num_kurimanju_list[-1] * kurimanju / capacity)\n",
    "\n",
    "    fig = plt.figure(figsize=(6, 4))\n",
    "    axes = fig.add_subplot(111)\n",
    "    axes.plot(times, fill_ratio, '-', color='r')\n",
    "    axes.set_title('Fill Ratio', fontsize=18)\n",
    "    axes.set_xlabel('time[min]', fontsize=14)\n",
    "    axes.set_ylabel('fill ratio', fontsize=14)\n",
    "    plt.show()\n",
    "    return times[-1]"
   ]
  },
  {
   "cell_type": "code",
   "execution_count": 5,
   "metadata": {
    "scrolled": true
   },
   "outputs": [
    {
     "data": {
      "image/png": "[encoded data removed]",
      "text/plain": [
       "<Figure size 432x288 with 1 Axes>"
      ]
     },
     "metadata": {
      "needs_background": "light"
     },
     "output_type": "display_data"
    },
    {
     "name": "stdout",
     "output_type": "stream",
     "text": [
      "太陽系が栗まんじゅうで覆われるのにかかる時間: 1095分\n"
     ]
    }
   ],
   "source": [
    "capacity = 4 / 3 * math.pi * (25000*9.461e+15)**3  # 太陽系の体積\n",
    "solar_system_minute = cal_minutes(capacity=capacity)\n",
    "print('太陽系が栗まんじゅうで覆われるのにかかる時間: {}分'.format(solar_system_minute))"
   ]
  },
  {
   "cell_type": "code",
   "execution_count": null,
   "metadata": {},
   "outputs": [],
   "source": []
  }
 ],
 "metadata": {
  "kernelspec": {
   "display_name": "Python 3",
   "language": "python",
   "name": "python3"
  },
  "language_info": {
   "codemirror_mode": {
    "name": "ipython",
    "version": 3
   },
   "file_extension": ".py",
   "mimetype": "text/x-python",
   "name": "python",
   "nbconvert_exporter": "python",
   "pygments_lexer": "ipython3",
   "version": "3.7.4"
  }
 },
 "nbformat": 4,
 "nbformat_minor": 2
}
