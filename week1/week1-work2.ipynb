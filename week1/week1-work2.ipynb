{
 "cells": [
  {
   "cell_type": "markdown",
   "metadata": {},
   "source": [
    "## 課題：何回折ったら富士山超えるか問題\n",
    "「Pythonを使ってみよう」の問題では「1枚の紙を43回折り曲げた時の厚さを計算するプログラム」を作成し、43回折ることで月に届くことが確認できました。\n",
    "ここで「何回折ったらある厚さになるのか」という疑問が生まれます。こういったことを計算するプログラムを作成していきましょう。"
   ]
  },
  {
   "cell_type": "code",
   "execution_count": 1,
   "metadata": {},
   "outputs": [],
   "source": [
    "import math"
   ]
  },
  {
   "cell_type": "code",
   "execution_count": 2,
   "metadata": {},
   "outputs": [
    {
     "name": "stdout",
     "output_type": "stream",
     "text": [
      "富士山を超える最小の折る回数: 26回\n"
     ]
    }
   ],
   "source": [
    "# 問題1 富士山を超える最小の折る回数\n",
    "\n",
    "FUJI_HEIGHT = 3776  # 富士山の高さ3776メートル\n",
    "thickness = 0.00008  # 紙の厚さ0.00008メートル\n",
    "count = 0  # 折り紙を折った回数\n",
    "\n",
    "while thickness < FUJI_HEIGHT:\n",
    "    thickness *= 2\n",
    "    count += 1\n",
    "\n",
    "print('富士山を超える最小の折る回数: {}回'.format(count))"
   ]
  },
  {
   "cell_type": "code",
   "execution_count": 6,
   "metadata": {},
   "outputs": [],
   "source": [
    "# 問題2 任意の厚さに対応した関数を作成する\n",
    "\n",
    "def compute_fold_count(distance, thickness=0.00008):\n",
    "    \"\"\"\n",
    "    距離(distance)を入力すると紙を何回折ったときに超えるか計算する。\n",
    "    \n",
    "    Parameters\n",
    "    ---------------\n",
    "    distance: int (距離[m])\n",
    "    thickness: float (紙の厚さ[m] default:0.00008)\n",
    "    \n",
    "    Returns\n",
    "    ---------------\n",
    "    fold_count: int (折った回数)\n",
    "    \"\"\"\n",
    "    \n",
    "    fold_count = 0  # 紙を折った回数\n",
    "    \n",
    "    # 任意の厚さを超えるまで紙を折る\n",
    "    while thickness < distance:\n",
    "        thickness *= 2\n",
    "        fold_count += 1\n",
    "    \n",
    "    return fold_count"
   ]
  },
  {
   "cell_type": "code",
   "execution_count": 7,
   "metadata": {},
   "outputs": [
    {
     "name": "stdout",
     "output_type": "stream",
     "text": [
      "紙を折る回数: 69回\n"
     ]
    }
   ],
   "source": [
    "\"\"\"\n",
    "地球からプロキシマ・ケンタウリまで(距離4.343光年)到達するために、\n",
    "紙を何回おる必要があるか計算する。\n",
    "\"\"\"\n",
    "distance = 4.343 * 9.461e+15  # 4.343光年x9.461e+15メートル/光年\n",
    "fold_count = compute_fold_count(distance=distance)\n",
    "print('紙を折る回数: {}回'.format(fold_count))"
   ]
  },
  {
   "cell_type": "code",
   "execution_count": 8,
   "metadata": {},
   "outputs": [],
   "source": [
    "# 問題3 必要な紙の長さ"
   ]
  },
  {
   "cell_type": "markdown",
   "metadata": {},
   "source": [
    "実際のところ身近にある紙は43回はおろか10回も折れません。しかし、大きな紙ほどたくさん折ることができ、トイレットペーパーのような長い紙を一方向に折ることを考えた時の折れる回数を求める公式が存在します。\n",
    "厚さ$t_0$の紙をn回折るために必要な紙の長さLは以下の公式で求まります。\n",
    "$$ L = \\frac{{\\pi}t_0}{6}(2^n + 4)(2^n - 1) $$\n",
    "この公式を利用して、実際に紙を折り任意の厚さに到達するために必要な紙の長さを求める関数を作成してください。"
   ]
  },
  {
   "cell_type": "code",
   "execution_count": 9,
   "metadata": {},
   "outputs": [],
   "source": [
    "def compute_paper_length(fold_count, thickness=8e-5):\n",
    "    \"\"\"\n",
    "    紙を折る回数から必要な紙の長さを計算する。\n",
    "    必要な髪の長さLは、\n",
    "    L = pi * thickness / 6 * (2**n + 4) * (2**n -1)\n",
    "    \n",
    "    このとき、nは紙を折る回数。\n",
    "    \n",
    "    Parameters\n",
    "    ---------------\n",
    "    fold_count: int (紙を折る回数)\n",
    "    thickness: float (紙の厚さ[m] default:0.00008)\n",
    "    \n",
    "    Returns\n",
    "    ---------------\n",
    "    length: float (必要な紙の長さ)\n",
    "    \"\"\"\n",
    "    import math\n",
    "\n",
    "    length = (math.pi*thickness/6) * (2**fold_count + 4) * (2**fold_count - 1)\n",
    "    return length"
   ]
  },
  {
   "cell_type": "code",
   "execution_count": 11,
   "metadata": {},
   "outputs": [
    {
     "name": "stdout",
     "output_type": "stream",
     "text": [
      "月まで届くために必要な長さ: 3.24e+21メートル\n",
      "富士山頂上に届くために必要な長さ: 1.89e+11メートル\n",
      "プロキシマ・ケンタウリまで届くために必要な長さ: 1.46e+37メートル\n"
     ]
    }
   ],
   "source": [
    "#紙を折って月まで届くために必要な長さ\n",
    "moon_distance = 384400000 #384400000メートル\n",
    "moon_fold_count = compute_fold_count(moon_distance)\n",
    "moon_paper_length = compute_paper_length(moon_fold_count)\n",
    "print('月まで届くために必要な長さ: {:.2e}メートル'.format(moon_paper_length))\n",
    "\n",
    "\n",
    "#紙を折って富士山の頂上に届くために必要な長さ\n",
    "fuji_height = 3776 #3776メートル\n",
    "fuji_fold_count = compute_fold_count(fuji_height)\n",
    "fuji_paper_length = compute_paper_length(fuji_fold_count)\n",
    "print('富士山頂上に届くために必要な長さ: {:.2e}メートル'.format(fuji_paper_length))\n",
    "\n",
    "\n",
    "#紙を折ってプロキシマ・ケンタウリまで届くために必要な長さ\n",
    "distance = 4.343 * 9.461e+15 #4.343光年 * 9.461e+15メートル/光年\n",
    "fold_count = compute_fold_count(distance)\n",
    "paper_length = compute_paper_length(fold_count)\n",
    "print('プロキシマ・ケンタウリまで届くために必要な長さ: {:.2e}メートル'.format(paper_length))"
   ]
  },
  {
   "cell_type": "code",
   "execution_count": null,
   "metadata": {},
   "outputs": [],
   "source": []
  }
 ],
 "metadata": {
  "kernelspec": {
   "display_name": "Python 3",
   "language": "python",
   "name": "python3"
  },
  "language_info": {
   "codemirror_mode": {
    "name": "ipython",
    "version": 3
   },
   "file_extension": ".py",
   "mimetype": "text/x-python",
   "name": "python",
   "nbconvert_exporter": "python",
   "pygments_lexer": "ipython3",
   "version": "3.7.4"
  }
 },
 "nbformat": 4,
 "nbformat_minor": 2
}
