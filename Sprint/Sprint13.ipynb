{
 "cells": [
  {
   "cell_type": "code",
   "execution_count": 1,
   "metadata": {},
   "outputs": [],
   "source": [
    "import numpy as np\n",
    "import pandas as pd\n",
    "from sklearn.datasets import load_iris\n",
    "from sklearn.model_selection import train_test_split\n",
    "from sklearn.model_selection import KFold\n",
    "from sklearn.preprocessing import StandardScaler\n",
    "\n",
    "import tensorflow as tf\n",
    "tf.enable_eager_execution()\n",
    "import tensorflow.keras.backend as K"
   ]
  },
  {
   "cell_type": "markdown",
   "metadata": {},
   "source": [
    "## 【問題1】公式チュートリアルモデルを分担して実行"
   ]
  },
  {
   "cell_type": "code",
   "execution_count": 2,
   "metadata": {},
   "outputs": [],
   "source": [
    "from __future__ import absolute_import, division, print_function, unicode_literals\n",
    "\n",
    "import matplotlib.pyplot as plt\n",
    "import matplotlib.ticker as ticker\n",
    "\n",
    "import unicodedata\n",
    "import re\n",
    "import os\n",
    "import io\n",
    "import time"
   ]
  },
  {
   "cell_type": "code",
   "execution_count": 3,
   "metadata": {},
   "outputs": [],
   "source": [
    "path_to_zip = tf.keras.utils.get_file(\n",
    "    'spa-eng.zip', \n",
    "    origin='http://storage.googleapis.com/download.tensorflow.org/data/spa-eng.zip',\n",
    "    extract=True)\n",
    "\n",
    "path_to_file = os.path.dirname(path_to_zip) + '/spa-eng/spa.txt'"
   ]
  },
  {
   "cell_type": "code",
   "execution_count": 4,
   "metadata": {},
   "outputs": [],
   "source": [
    "def unicode_to_ascii(s):\n",
    "    return ''.join(c for c in unicodedata.normalize('NFD', s) if unicodedata.category(c) !='Mn')\n",
    "\n",
    "def preprocess_sentence(w):\n",
    "    w = unicode_to_ascii(w.lower().strip())\n",
    "    w = re.sub(r\"([?.!,¿])\", r\" \\1 \", w)\n",
    "    w = re.sub(r'[\" \"]+', \" \", w)\n",
    "    \n",
    "    w = re.sub(r\"[^a-zA-Z?.!,¿]+\", \" \", w)\n",
    "    w = w.rstrip().strip()\n",
    "    \n",
    "    w = '<start> ' + w + ' <end>'\n",
    "    return w"
   ]
  },
  {
   "cell_type": "code",
   "execution_count": 5,
   "metadata": {},
   "outputs": [
    {
     "name": "stdout",
     "output_type": "stream",
     "text": [
      "<start> may i borrow this book ? <end>\n",
      "b'<start> \\xc2\\xbf puedo tomar prestado este libro ? <end>'\n"
     ]
    }
   ],
   "source": [
    "en_sentence = u'May I borrow this book?'\n",
    "sp_sentence = u'¿Puedo tomar prestado este libro?'\n",
    "print(preprocess_sentence(en_sentence))\n",
    "print(preprocess_sentence(sp_sentence).encode('utf-8'))"
   ]
  },
  {
   "cell_type": "code",
   "execution_count": 6,
   "metadata": {},
   "outputs": [],
   "source": [
    "def create_dataset(path, num_examples):\n",
    "    lines = io.open(path, encoding='UTF-8').read().strip().split('\\n')\n",
    "    word_pairs = [[preprocess_sentence(w) for w in l.split('\\t')] for l in lines[:num_examples]]\n",
    "    return zip(*word_pairs)"
   ]
  },
  {
   "cell_type": "code",
   "execution_count": 7,
   "metadata": {},
   "outputs": [
    {
     "name": "stdout",
     "output_type": "stream",
     "text": [
      "<start> if you want to sound like a native speaker , you must be willing to practice saying the same sentence over and over in the same way that banjo players practice the same phrase over and over until they can play it correctly and at the desired tempo . <end>\n",
      "<start> si quieres sonar como un hablante nativo , debes estar dispuesto a practicar diciendo la misma frase una y otra vez de la misma manera en que un musico de banjo practica el mismo fraseo una y otra vez hasta que lo puedan tocar correctamente y en el tiempo esperado . <end>\n"
     ]
    }
   ],
   "source": [
    "en, sp = create_dataset(path_to_file, None)\n",
    "print(en[-1])\n",
    "print(sp[-1])"
   ]
  },
  {
   "cell_type": "code",
   "execution_count": 8,
   "metadata": {},
   "outputs": [],
   "source": [
    "def max_length(tensor):\n",
    "    return max([len(t) for t in tensor])"
   ]
  },
  {
   "cell_type": "code",
   "execution_count": 9,
   "metadata": {},
   "outputs": [],
   "source": [
    "def tokenize(lang):\n",
    "    lang_tokenizer = tf.keras.preprocessing.text.Tokenizer(filters='')\n",
    "    lang_tokenizer.fit_on_texts(lang)\n",
    "    \n",
    "    tensor = lang_tokenizer.texts_to_sequences(lang)\n",
    "    tensor = tf.keras.preprocessing.sequence.pad_sequences(tensor, padding='post')\n",
    "    \n",
    "    return tensor, lang_tokenizer"
   ]
  },
  {
   "cell_type": "code",
   "execution_count": 10,
   "metadata": {},
   "outputs": [],
   "source": [
    "def load_dataset(path, num_examples=None):\n",
    "    targ_lang, inp_lang = create_dataset(path, num_examples)\n",
    "    input_tensor, inp_lang_tokenizer = tokenize(inp_lang)\n",
    "    target_tensor, targ_lang_tokenizer = tokenize(targ_lang)\n",
    "    \n",
    "    return input_tensor, target_tensor, inp_lang_tokenizer, targ_lang_tokenizer"
   ]
  },
  {
   "cell_type": "code",
   "execution_count": 11,
   "metadata": {},
   "outputs": [],
   "source": [
    "num_examples = 30000\n",
    "input_tensor, target_tensor, inp_lang, targ_lang = load_dataset(path_to_file, num_examples)\n",
    "\n",
    "max_length_targ, max_length_inp = max_length(target_tensor), max_length(input_tensor)"
   ]
  },
  {
   "cell_type": "code",
   "execution_count": 12,
   "metadata": {},
   "outputs": [
    {
     "name": "stdout",
     "output_type": "stream",
     "text": [
      "24000 24000 6000 6000\n"
     ]
    }
   ],
   "source": [
    "input_tensor_train, input_tensor_val, target_tensor_train, target_tensor_val = train_test_split(input_tensor, target_tensor, test_size=0.2)\n",
    "print(len(input_tensor_train), len(target_tensor_train), len(input_tensor_val), len(target_tensor_val))"
   ]
  },
  {
   "cell_type": "code",
   "execution_count": 13,
   "metadata": {},
   "outputs": [],
   "source": [
    "def convert(lang, tensor):\n",
    "    for t in tensor:\n",
    "        if t != 0:\n",
    "            print('%d -----> %s' % (t, lang.index_word[t]))"
   ]
  },
  {
   "cell_type": "code",
   "execution_count": 14,
   "metadata": {},
   "outputs": [
    {
     "name": "stdout",
     "output_type": "stream",
     "text": [
      "Input language: index to word mapping\n",
      "1 -----> <start>\n",
      "55 -----> fue\n",
      "1098 -----> repugnante\n",
      "3 -----> .\n",
      "2 -----> <end>\n",
      "\n",
      "Target Language: index to word mapping\n",
      "1 -----> <start>\n",
      "10 -----> it\n",
      "26 -----> was\n",
      "1347 -----> gross\n",
      "3 -----> .\n",
      "2 -----> <end>\n"
     ]
    }
   ],
   "source": [
    "print('Input language: index to word mapping')\n",
    "convert(inp_lang, input_tensor_train[0])\n",
    "print()\n",
    "print('Target Language: index to word mapping')\n",
    "convert(targ_lang, target_tensor_train[0])"
   ]
  },
  {
   "cell_type": "code",
   "execution_count": 15,
   "metadata": {},
   "outputs": [],
   "source": [
    "BUFFER_SIZE = len(input_tensor_train)\n",
    "BATCH_SIZE = 64\n",
    "steps_per_epoch = len(input_tensor_train)//BATCH_SIZE\n",
    "embedding_dim = 256\n",
    "units = 1024\n",
    "vocab_inp_size = len(inp_lang.word_index)+1\n",
    "vocab_tar_size = len(targ_lang.word_index)+1\n",
    "\n",
    "dataset = tf.data.Dataset.from_tensor_slices((input_tensor_train, target_tensor_train)).shuffle(BUFFER_SIZE)\n",
    "dataset = dataset.batch(BATCH_SIZE, drop_remainder=True)"
   ]
  },
  {
   "cell_type": "code",
   "execution_count": 16,
   "metadata": {},
   "outputs": [
    {
     "data": {
      "text/plain": [
       "(TensorShape([Dimension(64), Dimension(16)]),\n",
       " TensorShape([Dimension(64), Dimension(11)]))"
      ]
     },
     "execution_count": 16,
     "metadata": {},
     "output_type": "execute_result"
    }
   ],
   "source": [
    "example_input_batch, example_target_batch = next(iter(dataset))\n",
    "example_input_batch.shape, example_target_batch.shape"
   ]
  },
  {
   "cell_type": "code",
   "execution_count": 90,
   "metadata": {},
   "outputs": [],
   "source": [
    "class Encoder(tf.keras.Model):\n",
    "    def __init__(self, vocab_size, embedding_dim, enc_units, batch_sz):\n",
    "        super(Encoder, self).__init__()\n",
    "        self.batch_sz = batch_sz\n",
    "        self.enc_units = enc_units\n",
    "        self.embedding = tf.keras.layers.Embedding(vocab_size, embedding_dim)\n",
    "        self.gru = tf.keras.layers.GRU(self.enc_units,\n",
    "                                       return_sequences=True,\n",
    "                                       return_state=True,\n",
    "                                       recurrent_initializer='glorot_uniform')\n",
    "\n",
    "    def call(self, x, hidden):\n",
    "        x = self.embedding(x)\n",
    "        output, state = self.gru(x, initial_state = hidden)\n",
    "        return output, state\n",
    "\n",
    "    def initialize_hidden_state(self):\n",
    "        return tf.zeros((self.batch_sz, self.enc_units))"
   ]
  },
  {
   "cell_type": "code",
   "execution_count": 91,
   "metadata": {},
   "outputs": [
    {
     "name": "stdout",
     "output_type": "stream",
     "text": [
      "Encoder output shape: (batch size, sequence length, units) (64, 16, 1024)\n",
      "Encoder Hidden state shape: (batch size, units) (64, 1024)\n"
     ]
    }
   ],
   "source": [
    "encoder = Encoder(vocab_inp_size, embedding_dim, units, BATCH_SIZE)\n",
    "\n",
    "# サンプル入力\n",
    "sample_hidden = encoder.initialize_hidden_state()\n",
    "sample_output, sample_hidden = encoder(example_input_batch, sample_hidden)\n",
    "print ('Encoder output shape: (batch size, sequence length, units) {}'.format(sample_output.shape))\n",
    "print ('Encoder Hidden state shape: (batch size, units) {}'.format(sample_hidden.shape))"
   ]
  },
  {
   "cell_type": "code",
   "execution_count": 93,
   "metadata": {},
   "outputs": [],
   "source": [
    "class BahdanauAttention(tf.keras.layers.Layer):\n",
    "    def __init__(self, units):\n",
    "        super(BahdanauAttention, self).__init__()\n",
    "        self.W1 = tf.keras.layers.Dense(units)\n",
    "        self.W2 = tf.keras.layers.Dense(units)\n",
    "        self.V = tf.keras.layers.Dense(1)\n",
    "\n",
    "    def call(self, query, values):\n",
    "        # hidden shape == (batch_size, hidden size)\n",
    "        # hidden_with_time_axis shape == (batch_size, 1, hidden size)\n",
    "        # スコアを計算するためにこのように加算を実行する\n",
    "        hidden_with_time_axis = tf.expand_dims(query, 1)\n",
    "\n",
    "        # score shape == (batch_size, max_length, 1)\n",
    "        # スコアを self.V に適用するために最後の軸は 1 となる\n",
    "        # self.V に適用する前のテンソルの shape は  (batch_size, max_length, units)\n",
    "        score = self.V(tf.nn.tanh(self.W1(values) + self.W2(hidden_with_time_axis)))\n",
    "\n",
    "        # attention_weights の shape == (batch_size, max_length, 1)\n",
    "        attention_weights = tf.nn.softmax(score, axis=1)\n",
    "\n",
    "        # context_vector の合計後の shape == (batch_size, hidden_size)\n",
    "        context_vector = attention_weights * values\n",
    "        context_vector = tf.reduce_sum(context_vector, axis=1)\n",
    "  \n",
    "        return context_vector, attention_weights"
   ]
  },
  {
   "cell_type": "code",
   "execution_count": 94,
   "metadata": {},
   "outputs": [
    {
     "name": "stdout",
     "output_type": "stream",
     "text": [
      "Attention result shape: (batch size, units) (64, 1024)\n",
      "Attention weights shape: (batch_size, sequence_length, 1) (64, 16, 1)\n"
     ]
    }
   ],
   "source": [
    "attention_layer = BahdanauAttention(10)\n",
    "attention_result, attention_weights = attention_layer(sample_hidden, sample_output)\n",
    "\n",
    "print(\"Attention result shape: (batch size, units) {}\".format(attention_result.shape))\n",
    "print(\"Attention weights shape: (batch_size, sequence_length, 1) {}\".format(attention_weights.shape))"
   ]
  },
  {
   "cell_type": "code",
   "execution_count": 95,
   "metadata": {},
   "outputs": [],
   "source": [
    "class Decoder(tf.keras.Model):\n",
    "    def __init__(self, vocab_size, embedding_dim, dec_units, batch_sz):\n",
    "        super(Decoder, self).__init__()\n",
    "        self.batch_sz = batch_sz\n",
    "        self.dec_units = dec_units\n",
    "        self.embedding = tf.keras.layers.Embedding(vocab_size, embedding_dim)\n",
    "        self.gru = tf.keras.layers.GRU(self.dec_units,\n",
    "                                       return_sequences=True,\n",
    "                                       return_state=True,\n",
    "                                       recurrent_initializer='glorot_uniform')\n",
    "        self.fc = tf.keras.layers.Dense(vocab_size)\n",
    " \n",
    "        # アテンションのため\n",
    "        self.attention = BahdanauAttention(self.dec_units)\n",
    "\n",
    "    def call(self, x, hidden, enc_output):\n",
    "        # enc_output の shape == (batch_size, max_length, hidden_size)\n",
    "        context_vector, attention_weights = self.attention(hidden, enc_output)\n",
    "\n",
    "        # 埋め込み層を通過したあとの x の shape  == (batch_size, 1, embedding_dim)\n",
    "        x = self.embedding(x)\n",
    "\n",
    "        # 結合後の x の shape == (batch_size, 1, embedding_dim + hidden_size)\n",
    "        x = tf.concat([tf.expand_dims(context_vector, 1), x], axis=-1)\n",
    "\n",
    "        # 結合したベクトルを GRU 層に渡す\n",
    "        output, state = self.gru(x)\n",
    "\n",
    "        # output shape == (batch_size * 1, hidden_size)\n",
    "        output = tf.reshape(output, (-1, output.shape[2]))\n",
    "\n",
    "        # output shape == (batch_size, vocab)\n",
    "        x = self.fc(output)\n",
    "\n",
    "        return x, state, attention_weights"
   ]
  },
  {
   "cell_type": "code",
   "execution_count": 96,
   "metadata": {},
   "outputs": [
    {
     "name": "stdout",
     "output_type": "stream",
     "text": [
      "Decoder output shape: (batch_size, vocab size) (64, 4935)\n"
     ]
    }
   ],
   "source": [
    "decoder = Decoder(vocab_tar_size, embedding_dim, units, BATCH_SIZE)\n",
    "\n",
    "sample_decoder_output, _, _ = decoder(tf.random.uniform((64, 1)),\n",
    "                                      sample_hidden, sample_output)\n",
    "\n",
    "print ('Decoder output shape: (batch_size, vocab size) {}'.format(sample_decoder_output.shape))"
   ]
  },
  {
   "cell_type": "code",
   "execution_count": 97,
   "metadata": {},
   "outputs": [],
   "source": [
    "optimizer = tf.keras.optimizers.Adam()\n",
    "loss_object = tf.keras.losses.SparseCategoricalCrossentropy(from_logits=True, reduction='none')\n",
    "\n",
    "def loss_function(real, pred):\n",
    "    mask = tf.math.logical_not(tf.math.equal(real, 0))\n",
    "    loss_ = loss_object(real, pred)\n",
    "\n",
    "    mask = tf.cast(mask, dtype=loss_.dtype)\n",
    "    loss_ *= mask\n",
    "\n",
    "    return tf.reduce_mean(loss_)"
   ]
  },
  {
   "cell_type": "code",
   "execution_count": 98,
   "metadata": {},
   "outputs": [],
   "source": [
    "checkpoint_dir = './training_checkpoints'\n",
    "checkpoint_prefix = os.path.join(checkpoint_dir, \"ckpt\")\n",
    "checkpoint = tf.train.Checkpoint(optimizer=optimizer,\n",
    "                                 encoder=encoder,\n",
    "                                 decoder=decoder)"
   ]
  },
  {
   "cell_type": "code",
   "execution_count": 99,
   "metadata": {},
   "outputs": [],
   "source": [
    "@tf.function\n",
    "def train_step(inp, targ, enc_hidden):\n",
    "    loss = 0\n",
    "\n",
    "    with tf.GradientTape() as tape:\n",
    "        enc_output, enc_hidden = encoder(inp, enc_hidden)\n",
    "\n",
    "        dec_hidden = enc_hidden\n",
    "\n",
    "        dec_input = tf.expand_dims([targ_lang.word_index['<start>']] * BATCH_SIZE, 1)\n",
    "\n",
    "        # Teacher Forcing - 正解値を次の入力として供給\n",
    "        for t in range(1, targ.shape[1]):\n",
    "            # passing enc_output to the decoder\n",
    "            predictions, dec_hidden, _ = decoder(dec_input, dec_hidden, enc_output)\n",
    "\n",
    "            loss += loss_function(targ[:, t], predictions)\n",
    "\n",
    "            # Teacher Forcing を使用\n",
    "            dec_input = tf.expand_dims(targ[:, t], 1)\n",
    "\n",
    "    batch_loss = (loss / int(targ.shape[1]))\n",
    "\n",
    "    variables = encoder.trainable_variables + decoder.trainable_variables\n",
    "\n",
    "    gradients = tape.gradient(loss, variables)\n",
    "\n",
    "    optimizer.apply_gradients(zip(gradients, variables))\n",
    "\n",
    "    return batch_loss"
   ]
  },
  {
   "cell_type": "code",
   "execution_count": 100,
   "metadata": {},
   "outputs": [
    {
     "name": "stdout",
     "output_type": "stream",
     "text": [
      "Epoch 1 Batch 0 Loss 4.5660\n",
      "Epoch 1 Batch 100 Loss 2.1327\n",
      "Epoch 1 Batch 200 Loss 1.8769\n",
      "Epoch 1 Batch 300 Loss 1.7543\n",
      "Epoch 1 Loss 2.0285\n",
      "Time taken for 1 epoch 2659.7747387886047 sec\n",
      "\n",
      "Epoch 2 Batch 0 Loss 1.6109\n",
      "Epoch 2 Batch 100 Loss 1.4157\n",
      "Epoch 2 Batch 200 Loss 1.4097\n",
      "Epoch 2 Batch 300 Loss 1.3260\n",
      "Epoch 2 Loss 1.4127\n",
      "Time taken for 1 epoch 2514.6982259750366 sec\n",
      "\n",
      "Epoch 3 Batch 0 Loss 1.2424\n",
      "Epoch 3 Batch 100 Loss 1.0586\n",
      "Epoch 3 Batch 200 Loss 1.0553\n",
      "Epoch 3 Batch 300 Loss 0.9308\n",
      "Epoch 3 Loss 1.0304\n",
      "Time taken for 1 epoch 2318.3936200141907 sec\n",
      "\n",
      "Epoch 4 Batch 0 Loss 0.8283\n",
      "Epoch 4 Batch 100 Loss 0.7332\n",
      "Epoch 4 Batch 200 Loss 0.7981\n",
      "Epoch 4 Batch 300 Loss 0.6085\n",
      "Epoch 4 Loss 0.7076\n",
      "Time taken for 1 epoch 3109.1433548927307 sec\n",
      "\n",
      "Epoch 5 Batch 0 Loss 0.5665\n",
      "Epoch 5 Batch 100 Loss 0.5007\n",
      "Epoch 5 Batch 200 Loss 0.5694\n",
      "Epoch 5 Batch 300 Loss 0.4116\n",
      "Epoch 5 Loss 0.4818\n",
      "Time taken for 1 epoch 7694.158794879913 sec\n",
      "\n",
      "Epoch 6 Batch 0 Loss 0.3918\n",
      "Epoch 6 Batch 100 Loss 0.3269\n",
      "Epoch 6 Batch 200 Loss 0.3923\n",
      "Epoch 6 Batch 300 Loss 0.2752\n",
      "Epoch 6 Loss 0.3332\n",
      "Time taken for 1 epoch 2152.689386844635 sec\n",
      "\n",
      "Epoch 7 Batch 0 Loss 0.2928\n",
      "Epoch 7 Batch 100 Loss 0.2299\n",
      "Epoch 7 Batch 200 Loss 0.3272\n",
      "Epoch 7 Batch 300 Loss 0.1800\n",
      "Epoch 7 Loss 0.2369\n",
      "Time taken for 1 epoch 2158.5762028694153 sec\n",
      "\n",
      "Epoch 8 Batch 0 Loss 0.2113\n",
      "Epoch 8 Batch 100 Loss 0.1863\n",
      "Epoch 8 Batch 200 Loss 0.2075\n",
      "Epoch 8 Batch 300 Loss 0.1288\n",
      "Epoch 8 Loss 0.1750\n",
      "Time taken for 1 epoch 2382.8311178684235 sec\n",
      "\n",
      "Epoch 9 Batch 0 Loss 0.1436\n",
      "Epoch 9 Batch 100 Loss 0.1483\n",
      "Epoch 9 Batch 200 Loss 0.1531\n",
      "Epoch 9 Batch 300 Loss 0.1020\n",
      "Epoch 9 Loss 0.1333\n",
      "Time taken for 1 epoch 2157.1778087615967 sec\n",
      "\n",
      "Epoch 10 Batch 0 Loss 0.1372\n",
      "Epoch 10 Batch 100 Loss 0.1227\n",
      "Epoch 10 Batch 200 Loss 0.1155\n",
      "Epoch 10 Batch 300 Loss 0.0721\n",
      "Epoch 10 Loss 0.1052\n",
      "Time taken for 1 epoch 2155.3046929836273 sec\n",
      "\n"
     ]
    }
   ],
   "source": [
    "EPOCHS = 10\n",
    "\n",
    "for epoch in range(EPOCHS):\n",
    "    start = time.time()\n",
    "\n",
    "    enc_hidden = encoder.initialize_hidden_state()\n",
    "    total_loss = 0\n",
    "\n",
    "    for (batch, (inp, targ)) in enumerate(dataset.take(steps_per_epoch)):\n",
    "        batch_loss = train_step(inp, targ, enc_hidden)\n",
    "        total_loss += batch_loss\n",
    "\n",
    "        if batch % 100 == 0:\n",
    "            print('Epoch {} Batch {} Loss {:.4f}'.format(epoch + 1,\n",
    "                                                         batch,\n",
    "                                                         batch_loss.numpy()))\n",
    "    # 2 エポックごとにモデル（のチェックポイント）を保存\n",
    "    if (epoch + 1) % 2 == 0:\n",
    "        checkpoint.save(file_prefix = checkpoint_prefix)\n",
    "\n",
    "    print('Epoch {} Loss {:.4f}'.format(epoch + 1,\n",
    "                                        total_loss / steps_per_epoch))\n",
    "    print('Time taken for 1 epoch {} sec\\n'.format(time.time() - start))"
   ]
  },
  {
   "cell_type": "code",
   "execution_count": 102,
   "metadata": {},
   "outputs": [],
   "source": [
    "def evaluate(sentence):\n",
    "    attention_plot = np.zeros((max_length_targ, max_length_inp))\n",
    "\n",
    "    sentence = preprocess_sentence(sentence)\n",
    "\n",
    "    inputs = [inp_lang.word_index[i] for i in sentence.split(' ')]\n",
    "    inputs = tf.keras.preprocessing.sequence.pad_sequences([inputs],\n",
    "                                                           maxlen=max_length_inp,\n",
    "                                                           padding='post')\n",
    "    inputs = tf.convert_to_tensor(inputs)\n",
    "\n",
    "    result = ''\n",
    "\n",
    "    hidden = [tf.zeros((1, units))]\n",
    "    enc_out, enc_hidden = encoder(inputs, hidden)\n",
    "\n",
    "    dec_hidden = enc_hidden\n",
    "    dec_input = tf.expand_dims([targ_lang.word_index['<start>']], 0)\n",
    "\n",
    "    for t in range(max_length_targ):\n",
    "        predictions, dec_hidden, attention_weights = decoder(dec_input,\n",
    "                                                             dec_hidden,\n",
    "                                                             enc_out)\n",
    "\n",
    "        # 後ほどプロットするためにアテンションの重みを保存\n",
    "        attention_weights = tf.reshape(attention_weights, (-1, ))\n",
    "        attention_plot[t] = attention_weights.numpy()\n",
    "\n",
    "        predicted_id = tf.argmax(predictions[0]).numpy()\n",
    "\n",
    "        result += targ_lang.index_word[predicted_id] + ' '\n",
    "\n",
    "        if targ_lang.index_word[predicted_id] == '<end>':\n",
    "            return result, sentence, attention_plot\n",
    "\n",
    "        # 予測された ID がモデルに戻される\n",
    "        dec_input = tf.expand_dims([predicted_id], 0)\n",
    "\n",
    "    return result, sentence, attention_plot"
   ]
  },
  {
   "cell_type": "code",
   "execution_count": 103,
   "metadata": {},
   "outputs": [],
   "source": [
    "# アテンションの重みをプロットする関数\n",
    "def plot_attention(attention, sentence, predicted_sentence):\n",
    "    fig = plt.figure(figsize=(10,10))\n",
    "    ax = fig.add_subplot(1, 1, 1)\n",
    "    ax.matshow(attention, cmap='viridis')\n",
    "\n",
    "    fontdict = {'fontsize': 14}\n",
    "\n",
    "    ax.set_xticklabels([''] + sentence, fontdict=fontdict, rotation=90)\n",
    "    ax.set_yticklabels([''] + predicted_sentence, fontdict=fontdict)\n",
    "\n",
    "    ax.xaxis.set_major_locator(ticker.MultipleLocator(1))\n",
    "    ax.yaxis.set_major_locator(ticker.MultipleLocator(1))\n",
    "\n",
    "    plt.show()"
   ]
  },
  {
   "cell_type": "code",
   "execution_count": 104,
   "metadata": {},
   "outputs": [],
   "source": [
    "def translate(sentence):\n",
    "    result, sentence, attention_plot = evaluate(sentence)\n",
    "\n",
    "    print('Input: %s' % (sentence))\n",
    "    print('Predicted translation: {}'.format(result))\n",
    "\n",
    "    attention_plot = attention_plot[:len(result.split(' ')), :len(sentence.split(' '))]\n",
    "    plot_attention(attention_plot, sentence.split(' '), result.split(' '))"
   ]
  },
  {
   "cell_type": "code",
   "execution_count": 105,
   "metadata": {},
   "outputs": [
    {
     "data": {
      "text/plain": [
       "<tensorflow.python.training.tracking.util.CheckpointLoadStatus at 0x1c998abdd0>"
      ]
     },
     "execution_count": 105,
     "metadata": {},
     "output_type": "execute_result"
    }
   ],
   "source": [
    "# checkpoint_dir の中の最後のチェックポイントを復元\n",
    "checkpoint.restore(tf.train.latest_checkpoint(checkpoint_dir))"
   ]
  },
  {
   "cell_type": "code",
   "execution_count": 106,
   "metadata": {},
   "outputs": [
    {
     "name": "stdout",
     "output_type": "stream",
     "text": [
      "Input: <start> hace mucho frio aqui . <end>\n",
      "Predicted translation: it s very cold . <end> \n"
     ]
    },
    {
     "data": {
      "image/png": "[encoded data removed]",
      "text/plain": [
       "<Figure size 720x720 with 1 Axes>"
      ]
     },
     "metadata": {
      "needs_background": "light"
     },
     "output_type": "display_data"
    }
   ],
   "source": [
    "translate(u'hace mucho frio aqui.')"
   ]
  },
  {
   "cell_type": "code",
   "execution_count": 107,
   "metadata": {},
   "outputs": [
    {
     "name": "stdout",
     "output_type": "stream",
     "text": [
      "Input: <start> esta es mi vida . <end>\n",
      "Predicted translation: this is my life . <end> \n"
     ]
    },
    {
     "data": {
      "image/png": "[encoded data removed]",
      "text/plain": [
       "<Figure size 720x720 with 1 Axes>"
      ]
     },
     "metadata": {
      "needs_background": "light"
     },
     "output_type": "display_data"
    }
   ],
   "source": [
    "translate(u'esta es mi vida.')"
   ]
  },
  {
   "cell_type": "code",
   "execution_count": 108,
   "metadata": {},
   "outputs": [
    {
     "name": "stdout",
     "output_type": "stream",
     "text": [
      "Input: <start> ¿ todavia estan en casa ? <end>\n",
      "Predicted translation: are you home home ? <end> \n"
     ]
    },
    {
     "data": {
      "image/png": "[encoded data removed]",
      "text/plain": [
       "<Figure size 720x720 with 1 Axes>"
      ]
     },
     "metadata": {
      "needs_background": "light"
     },
     "output_type": "display_data"
    }
   ],
   "source": [
    "translate(u'¿todavia estan en casa?')"
   ]
  },
  {
   "cell_type": "code",
   "execution_count": 109,
   "metadata": {},
   "outputs": [
    {
     "name": "stdout",
     "output_type": "stream",
     "text": [
      "Input: <start> trata de averiguarlo . <end>\n",
      "Predicted translation: try to figure it out . <end> \n"
     ]
    },
    {
     "data": {
      "image/png": "[encoded data removed]",
      "text/plain": [
       "<Figure size 720x720 with 1 Axes>"
      ]
     },
     "metadata": {
      "needs_background": "light"
     },
     "output_type": "display_data"
    }
   ],
   "source": [
    "# 翻訳あやまりの例\n",
    "translate(u'trata de averiguarlo.')"
   ]
  },
  {
   "cell_type": "markdown",
   "metadata": {},
   "source": [
    "## 【問題3】Iris (2値分類) をKerasで学習"
   ]
  },
  {
   "cell_type": "code",
   "execution_count": 18,
   "metadata": {},
   "outputs": [],
   "source": [
    "data = load_iris()\n",
    "X = pd.DataFrame(data.data[:100], columns=data.feature_names, dtype=np.float32).values\n",
    "y = pd.Series(data.target[:100], dtype=np.float32).values\n",
    "\n",
    "X_train, X_test, y_train, y_test = train_test_split(X, y, test_size=0.2)"
   ]
  },
  {
   "cell_type": "code",
   "execution_count": 19,
   "metadata": {},
   "outputs": [],
   "source": [
    "input_data = tf.keras.layers.Input(shape=(4,))\n",
    "x = tf.keras.layers.Dense(50, activation=tf.nn.relu)(input_data)\n",
    "x = tf.keras.layers.Dense(100, activation=tf.nn.relu)(x)\n",
    "output = tf.keras.layers.Dense(1, activation=tf.nn.sigmoid)(x)\n",
    "\n",
    "model = tf.keras.Model(inputs=input_data, outputs=output)"
   ]
  },
  {
   "cell_type": "code",
   "execution_count": 20,
   "metadata": {
    "scrolled": true
   },
   "outputs": [
    {
     "name": "stdout",
     "output_type": "stream",
     "text": [
      "WARNING:tensorflow:From /Users/nambayasumasa/opt/anaconda3/lib/python3.7/site-packages/tensorflow_core/python/ops/math_grad.py:1424: where (from tensorflow.python.ops.array_ops) is deprecated and will be removed in a future version.\n",
      "Instructions for updating:\n",
      "Use tf.where in 2.0, which has the same broadcast rule as np.where\n",
      "Train on 80 samples, validate on 20 samples\n",
      "Epoch 1/30\n",
      "80/80 [==============================] - 1s 11ms/sample - loss: 0.1483 - acc: 0.9625 - val_loss: 0.0113 - val_acc: 1.0000\n",
      "Epoch 2/30\n",
      "80/80 [==============================] - 0s 407us/sample - loss: 0.0041 - acc: 1.0000 - val_loss: 1.4809e-04 - val_acc: 1.0000\n",
      "Epoch 3/30\n",
      "80/80 [==============================] - 0s 356us/sample - loss: 9.2099e-04 - acc: 1.0000 - val_loss: 4.1531e-05 - val_acc: 1.0000\n",
      "Epoch 4/30\n",
      "80/80 [==============================] - 0s 420us/sample - loss: 1.0774e-04 - acc: 1.0000 - val_loss: 2.8491e-06 - val_acc: 1.0000\n",
      "Epoch 5/30\n",
      "80/80 [==============================] - 0s 560us/sample - loss: 1.6446e-05 - acc: 1.0000 - val_loss: 3.0965e-06 - val_acc: 1.0000\n",
      "Epoch 6/30\n",
      "80/80 [==============================] - 0s 489us/sample - loss: 1.3847e-05 - acc: 1.0000 - val_loss: 3.1829e-06 - val_acc: 1.0000\n",
      "Epoch 7/30\n",
      "80/80 [==============================] - 0s 431us/sample - loss: 1.4457e-05 - acc: 1.0000 - val_loss: 3.2991e-06 - val_acc: 1.0000\n",
      "Epoch 8/30\n",
      "80/80 [==============================] - 0s 459us/sample - loss: 1.4277e-05 - acc: 1.0000 - val_loss: 3.0309e-06 - val_acc: 1.0000\n",
      "Epoch 9/30\n",
      "80/80 [==============================] - 0s 409us/sample - loss: 1.3044e-05 - acc: 1.0000 - val_loss: 2.7657e-06 - val_acc: 1.0000\n",
      "Epoch 10/30\n",
      "80/80 [==============================] - 0s 450us/sample - loss: 1.1871e-05 - acc: 1.0000 - val_loss: 2.4617e-06 - val_acc: 1.0000\n",
      "Epoch 11/30\n",
      "80/80 [==============================] - 0s 397us/sample - loss: 1.0663e-05 - acc: 1.0000 - val_loss: 2.1905e-06 - val_acc: 1.0000\n",
      "Epoch 12/30\n",
      "80/80 [==============================] - 0s 418us/sample - loss: 1.0004e-05 - acc: 1.0000 - val_loss: 1.8984e-06 - val_acc: 1.0000\n",
      "Epoch 13/30\n",
      "80/80 [==============================] - 0s 411us/sample - loss: 8.6497e-06 - acc: 1.0000 - val_loss: 1.7136e-06 - val_acc: 1.0000\n",
      "Epoch 14/30\n",
      "80/80 [==============================] - 0s 498us/sample - loss: 8.0312e-06 - acc: 1.0000 - val_loss: 1.5378e-06 - val_acc: 1.0000\n",
      "Epoch 15/30\n",
      "80/80 [==============================] - 0s 418us/sample - loss: 7.1265e-06 - acc: 1.0000 - val_loss: 1.3799e-06 - val_acc: 1.0000\n",
      "Epoch 16/30\n",
      "80/80 [==============================] - 0s 427us/sample - loss: 6.5192e-06 - acc: 1.0000 - val_loss: 1.2606e-06 - val_acc: 1.0000\n",
      "Epoch 17/30\n",
      "80/80 [==============================] - 0s 387us/sample - loss: 6.0102e-06 - acc: 1.0000 - val_loss: 1.1504e-06 - val_acc: 1.0000\n",
      "Epoch 18/30\n",
      "80/80 [==============================] - 0s 415us/sample - loss: 5.7993e-06 - acc: 1.0000 - val_loss: 1.0580e-06 - val_acc: 1.0000\n",
      "Epoch 19/30\n",
      "80/80 [==============================] - 0s 437us/sample - loss: 5.4609e-06 - acc: 1.0000 - val_loss: 9.8646e-07 - val_acc: 1.0000\n",
      "Epoch 20/30\n",
      "80/80 [==============================] - 0s 461us/sample - loss: 5.0839e-06 - acc: 1.0000 - val_loss: 9.1195e-07 - val_acc: 1.0000\n",
      "Epoch 21/30\n",
      "80/80 [==============================] - 0s 414us/sample - loss: 4.4580e-06 - acc: 1.0000 - val_loss: 8.4639e-07 - val_acc: 1.0000\n",
      "Epoch 22/30\n",
      "80/80 [==============================] - 0s 409us/sample - loss: 4.1555e-06 - acc: 1.0000 - val_loss: 7.8380e-07 - val_acc: 1.0000\n",
      "Epoch 23/30\n",
      "80/80 [==============================] - 0s 398us/sample - loss: 3.8247e-06 - acc: 1.0000 - val_loss: 7.2718e-07 - val_acc: 1.0000\n",
      "Epoch 24/30\n",
      "80/80 [==============================] - 0s 407us/sample - loss: 3.5363e-06 - acc: 1.0000 - val_loss: 6.8545e-07 - val_acc: 1.0000\n",
      "Epoch 25/30\n",
      "80/80 [==============================] - 0s 390us/sample - loss: 3.4074e-06 - acc: 1.0000 - val_loss: 6.4671e-07 - val_acc: 1.0000\n",
      "Epoch 26/30\n",
      "80/80 [==============================] - 0s 393us/sample - loss: 3.1801e-06 - acc: 1.0000 - val_loss: 6.1095e-07 - val_acc: 1.0000\n",
      "Epoch 27/30\n",
      "80/80 [==============================] - 0s 390us/sample - loss: 3.1845e-06 - acc: 1.0000 - val_loss: 5.6028e-07 - val_acc: 1.0000\n",
      "Epoch 28/30\n",
      "80/80 [==============================] - 0s 383us/sample - loss: 3.0087e-06 - acc: 1.0000 - val_loss: 5.3644e-07 - val_acc: 1.0000\n",
      "Epoch 29/30\n",
      "80/80 [==============================] - 0s 375us/sample - loss: 2.7635e-06 - acc: 1.0000 - val_loss: 5.1260e-07 - val_acc: 1.0000\n",
      "Epoch 30/30\n",
      "80/80 [==============================] - 0s 353us/sample - loss: 2.6160e-06 - acc: 1.0000 - val_loss: 4.9174e-07 - val_acc: 1.0000\n"
     ]
    }
   ],
   "source": [
    "model.compile(loss='binary_crossentropy',\n",
    "              optimizer=tf.train.AdamOptimizer(learning_rate=0.01),\n",
    "              metrics=['accuracy'])\n",
    "history = model.fit(X_train, y_train, batch_size=10, epochs=30, verbose=1, validation_data=(X_test, y_test))"
   ]
  },
  {
   "cell_type": "markdown",
   "metadata": {},
   "source": [
    "## 【問題4】Iris (3値分類) をKerasで学習"
   ]
  },
  {
   "cell_type": "code",
   "execution_count": 21,
   "metadata": {},
   "outputs": [],
   "source": [
    "data = load_iris()\n",
    "X = pd.DataFrame(data.data, columns=data.feature_names, dtype=np.float32).values\n",
    "y = pd.get_dummies(data.target, dtype=np.float32).values\n",
    "\n",
    "X_train, X_test, y_train, y_test = train_test_split(X, y, test_size=0.2)"
   ]
  },
  {
   "cell_type": "code",
   "execution_count": 22,
   "metadata": {},
   "outputs": [],
   "source": [
    "input_data = tf.keras.layers.Input(shape=(4,))\n",
    "x = tf.keras.layers.Dense(50, activation=tf.nn.relu)(input_data)\n",
    "x = tf.keras.layers.Dense(100, activation=tf.nn.relu)(x)\n",
    "output = tf.keras.layers.Dense(3, activation=tf.nn.softmax)(x)\n",
    "\n",
    "model = tf.keras.Model(inputs=input_data, outputs=output)"
   ]
  },
  {
   "cell_type": "code",
   "execution_count": 23,
   "metadata": {
    "scrolled": true
   },
   "outputs": [
    {
     "name": "stdout",
     "output_type": "stream",
     "text": [
      "Train on 120 samples, validate on 30 samples\n",
      "Epoch 1/30\n",
      "120/120 [==============================] - 1s 5ms/sample - loss: 1.0735 - acc: 0.4083 - val_loss: 0.9478 - val_acc: 0.5667\n",
      "Epoch 2/30\n",
      "120/120 [==============================] - 0s 163us/sample - loss: 0.7656 - acc: 0.7000 - val_loss: 0.5657 - val_acc: 0.6667\n",
      "Epoch 3/30\n",
      "120/120 [==============================] - 0s 181us/sample - loss: 0.5519 - acc: 0.6667 - val_loss: 0.5205 - val_acc: 0.6667\n",
      "Epoch 4/30\n",
      "120/120 [==============================] - 0s 180us/sample - loss: 0.4120 - acc: 0.8583 - val_loss: 0.4263 - val_acc: 0.8667\n",
      "Epoch 5/30\n",
      "120/120 [==============================] - 0s 182us/sample - loss: 0.3279 - acc: 0.9417 - val_loss: 0.3301 - val_acc: 0.9333\n",
      "Epoch 6/30\n",
      "120/120 [==============================] - 0s 173us/sample - loss: 0.2627 - acc: 0.9500 - val_loss: 0.2600 - val_acc: 0.9333\n",
      "Epoch 7/30\n",
      "120/120 [==============================] - 0s 181us/sample - loss: 0.2161 - acc: 0.9500 - val_loss: 0.2224 - val_acc: 0.9000\n",
      "Epoch 8/30\n",
      "120/120 [==============================] - 0s 180us/sample - loss: 0.1729 - acc: 0.9667 - val_loss: 0.1536 - val_acc: 1.0000\n",
      "Epoch 9/30\n",
      "120/120 [==============================] - 0s 166us/sample - loss: 0.1534 - acc: 0.9583 - val_loss: 0.1302 - val_acc: 1.0000\n",
      "Epoch 10/30\n",
      "120/120 [==============================] - 0s 165us/sample - loss: 0.1358 - acc: 0.9583 - val_loss: 0.1471 - val_acc: 0.9000\n",
      "Epoch 11/30\n",
      "120/120 [==============================] - 0s 169us/sample - loss: 0.1276 - acc: 0.9583 - val_loss: 0.1059 - val_acc: 1.0000\n",
      "Epoch 12/30\n",
      "120/120 [==============================] - 0s 183us/sample - loss: 0.1406 - acc: 0.9333 - val_loss: 0.0792 - val_acc: 1.0000\n",
      "Epoch 13/30\n",
      "120/120 [==============================] - 0s 162us/sample - loss: 0.1239 - acc: 0.9417 - val_loss: 0.0780 - val_acc: 1.0000\n",
      "Epoch 14/30\n",
      "120/120 [==============================] - 0s 170us/sample - loss: 0.1245 - acc: 0.9583 - val_loss: 0.0794 - val_acc: 1.0000\n",
      "Epoch 15/30\n",
      "120/120 [==============================] - 0s 175us/sample - loss: 0.1008 - acc: 0.9667 - val_loss: 0.0660 - val_acc: 1.0000\n",
      "Epoch 16/30\n",
      "120/120 [==============================] - 0s 199us/sample - loss: 0.0842 - acc: 0.9750 - val_loss: 0.0601 - val_acc: 1.0000\n",
      "Epoch 17/30\n",
      "120/120 [==============================] - 0s 188us/sample - loss: 0.0925 - acc: 0.9667 - val_loss: 0.1033 - val_acc: 0.9000\n",
      "Epoch 18/30\n",
      "120/120 [==============================] - 0s 182us/sample - loss: 0.1129 - acc: 0.9417 - val_loss: 0.0678 - val_acc: 1.0000\n",
      "Epoch 19/30\n",
      "120/120 [==============================] - 0s 182us/sample - loss: 0.0841 - acc: 0.9750 - val_loss: 0.0783 - val_acc: 1.0000\n",
      "Epoch 20/30\n",
      "120/120 [==============================] - 0s 161us/sample - loss: 0.0804 - acc: 0.9583 - val_loss: 0.0601 - val_acc: 1.0000\n",
      "Epoch 21/30\n",
      "120/120 [==============================] - 0s 169us/sample - loss: 0.0950 - acc: 0.9583 - val_loss: 0.0886 - val_acc: 0.9667\n",
      "Epoch 22/30\n",
      "120/120 [==============================] - 0s 167us/sample - loss: 0.0955 - acc: 0.9583 - val_loss: 0.0530 - val_acc: 1.0000\n",
      "Epoch 23/30\n",
      "120/120 [==============================] - 0s 189us/sample - loss: 0.0945 - acc: 0.9667 - val_loss: 0.0548 - val_acc: 1.0000\n",
      "Epoch 24/30\n",
      "120/120 [==============================] - 0s 167us/sample - loss: 0.0755 - acc: 0.9583 - val_loss: 0.0604 - val_acc: 1.0000\n",
      "Epoch 25/30\n",
      "120/120 [==============================] - 0s 183us/sample - loss: 0.0861 - acc: 0.9750 - val_loss: 0.0429 - val_acc: 1.0000\n",
      "Epoch 26/30\n",
      "120/120 [==============================] - 0s 211us/sample - loss: 0.0661 - acc: 0.9750 - val_loss: 0.1175 - val_acc: 0.9000\n",
      "Epoch 27/30\n",
      "120/120 [==============================] - 0s 204us/sample - loss: 0.0749 - acc: 0.9583 - val_loss: 0.0407 - val_acc: 1.0000\n",
      "Epoch 28/30\n",
      "120/120 [==============================] - 0s 195us/sample - loss: 0.0969 - acc: 0.9500 - val_loss: 0.0701 - val_acc: 1.0000\n",
      "Epoch 29/30\n",
      "120/120 [==============================] - 0s 209us/sample - loss: 0.1077 - acc: 0.9500 - val_loss: 0.0695 - val_acc: 0.9667\n",
      "Epoch 30/30\n",
      "120/120 [==============================] - 0s 224us/sample - loss: 0.1252 - acc: 0.9583 - val_loss: 0.1664 - val_acc: 0.9000\n"
     ]
    }
   ],
   "source": [
    "model.compile(loss='categorical_crossentropy',\n",
    "              optimizer=tf.train.AdamOptimizer(learning_rate=0.01),\n",
    "              metrics=['accuracy'])\n",
    "history = model.fit(X_train, y_train,\n",
    "                    batch_size=30,\n",
    "                    epochs=30,\n",
    "                    verbose=1,\n",
    "                    validation_data=(X_test, y_test))"
   ]
  },
  {
   "cell_type": "markdown",
   "metadata": {},
   "source": [
    "## 【問題5】House PriceをKerasで学習"
   ]
  },
  {
   "cell_type": "code",
   "execution_count": 24,
   "metadata": {},
   "outputs": [],
   "source": [
    "df = pd.read_csv('../week3/train.csv')\n",
    "scaler = StandardScaler()\n",
    "X = scaler.fit_transform(df[['GrLivArea', 'YearBuilt']].values).astype(np.float32)\n",
    "y = scaler.fit_transform(df[['SalePrice']].values).astype(np.float32)\n",
    "\n",
    "X_train, X_test, y_train, y_test = train_test_split(X, y, test_size=0.2)"
   ]
  },
  {
   "cell_type": "code",
   "execution_count": 25,
   "metadata": {},
   "outputs": [],
   "source": [
    "input_data = tf.keras.layers.Input(shape=(2,))\n",
    "x = tf.keras.layers.Dense(100, activation=tf.nn.relu)(input_data)\n",
    "x = tf.keras.layers.Dense(50, activation=tf.nn.relu)(x)\n",
    "output = tf.keras.layers.Dense(1, activation=None)(x)\n",
    "\n",
    "model = tf.keras.Model(inputs=input_data, outputs=output)"
   ]
  },
  {
   "cell_type": "code",
   "execution_count": 26,
   "metadata": {
    "scrolled": true
   },
   "outputs": [
    {
     "name": "stdout",
     "output_type": "stream",
     "text": [
      "Train on 1168 samples, validate on 292 samples\n",
      "Epoch 1/10\n",
      "1168/1168 [==============================] - 1s 736us/sample - loss: 0.8891 - val_loss: 0.6783\n",
      "Epoch 2/10\n",
      "1168/1168 [==============================] - 0s 34us/sample - loss: 0.8206 - val_loss: 0.6257\n",
      "Epoch 3/10\n",
      "1168/1168 [==============================] - 0s 36us/sample - loss: 0.7573 - val_loss: 0.5793\n",
      "Epoch 4/10\n",
      "1168/1168 [==============================] - 0s 37us/sample - loss: 0.7011 - val_loss: 0.5396\n",
      "Epoch 5/10\n",
      "1168/1168 [==============================] - 0s 41us/sample - loss: 0.6512 - val_loss: 0.5046\n",
      "Epoch 6/10\n",
      "1168/1168 [==============================] - 0s 40us/sample - loss: 0.6012 - val_loss: 0.4747\n",
      "Epoch 7/10\n",
      "1168/1168 [==============================] - 0s 35us/sample - loss: 0.5618 - val_loss: 0.4499\n",
      "Epoch 8/10\n",
      "1168/1168 [==============================] - 0s 31us/sample - loss: 0.5239 - val_loss: 0.4294\n",
      "Epoch 9/10\n",
      "1168/1168 [==============================] - 0s 31us/sample - loss: 0.4902 - val_loss: 0.4125\n",
      "Epoch 10/10\n",
      "1168/1168 [==============================] - 0s 30us/sample - loss: 0.4620 - val_loss: 0.3996\n"
     ]
    }
   ],
   "source": [
    "model.compile(loss='mean_squared_error',\n",
    "              optimizer=tf.train.AdamOptimizer(learning_rate=0.0001))\n",
    "\n",
    "history = model.fit(X_train, y_train, batch_size=100, epochs=10, verbose=1,\n",
    "                    validation_data=(X_test, y_test))"
   ]
  },
  {
   "cell_type": "markdown",
   "metadata": {},
   "source": [
    "## 【問題6】MNISTをKerasで学習"
   ]
  },
  {
   "cell_type": "code",
   "execution_count": 27,
   "metadata": {},
   "outputs": [
    {
     "name": "stderr",
     "output_type": "stream",
     "text": [
      "Using TensorFlow backend.\n"
     ]
    }
   ],
   "source": [
    "from keras.datasets import mnist\n",
    "\n",
    "(X_train, y_train), (X_test, y_test) = mnist.load_data()\n",
    "X_train = X_train.reshape(-1, 28, 28, 1)[:5000]\n",
    "y_train = y_train[:5000]\n",
    "X_train = X_train.astype(np.float32)\n",
    "X_train /= 255\n",
    "\n",
    "from sklearn.preprocessing import OneHotEncoder\n",
    "enc = OneHotEncoder(handle_unknown='ignore', sparse=False)\n",
    "y_train_one_hot = enc.fit_transform(y_train[:, np.newaxis])\n",
    "y_test_one_hot = enc.transform(y_test[:, np.newaxis])\n",
    "X_train, X_test, y_train, y_test = train_test_split(X_train, y_train_one_hot, test_size=0.2)"
   ]
  },
  {
   "cell_type": "code",
   "execution_count": 28,
   "metadata": {},
   "outputs": [],
   "source": [
    "K.clear_session( )\n",
    "\n",
    "input_data = tf.keras.layers.Input(shape=(28, 28, 1))\n",
    "x = tf.keras.layers.Conv2D(filters=6, kernel_size=5, strides=1, padding='valid',\n",
    "                           data_format='channels_last',\n",
    "                           activation=tf.nn.relu)(input_data)\n",
    "x = tf.keras.layers.MaxPool2D(pool_size=2, strides=2, padding='valid', data_format='channels_last')(x)\n",
    "x = tf.keras.layers.Conv2D(filters=16, kernel_size=5, strides=1, padding='valid',\n",
    "                           data_format='channels_last',\n",
    "                           activation=tf.nn.relu)(x)\n",
    "x = tf.keras.layers.MaxPool2D(pool_size=2, strides=2, padding='valid', data_format='channels_last')(x)\n",
    "x = tf.keras.layers.Flatten(data_format='channels_last')(x)\n",
    "x = tf.keras.layers.Dense(120, activation=tf.nn.relu)(x)\n",
    "x = tf.keras.layers.Dense(84, activation=tf.nn.relu)(x)\n",
    "output = tf.keras.layers.Dense(10, activation=tf.nn.softmax)(x)\n",
    "\n",
    "model = tf.keras.Model(inputs=input_data, outputs=output)"
   ]
  },
  {
   "cell_type": "code",
   "execution_count": 29,
   "metadata": {},
   "outputs": [
    {
     "name": "stdout",
     "output_type": "stream",
     "text": [
      "Model: \"model\"\n",
      "_________________________________________________________________\n",
      "Layer (type)                 Output Shape              Param #   \n",
      "=================================================================\n",
      "input_1 (InputLayer)         [(None, 28, 28, 1)]       0         \n",
      "_________________________________________________________________\n",
      "conv2d (Conv2D)              (None, 24, 24, 6)         156       \n",
      "_________________________________________________________________\n",
      "max_pooling2d (MaxPooling2D) (None, 12, 12, 6)         0         \n",
      "_________________________________________________________________\n",
      "conv2d_1 (Conv2D)            (None, 8, 8, 16)          2416      \n",
      "_________________________________________________________________\n",
      "max_pooling2d_1 (MaxPooling2 (None, 4, 4, 16)          0         \n",
      "_________________________________________________________________\n",
      "flatten (Flatten)            (None, 256)               0         \n",
      "_________________________________________________________________\n",
      "dense (Dense)                (None, 120)               30840     \n",
      "_________________________________________________________________\n",
      "dense_1 (Dense)              (None, 84)                10164     \n",
      "_________________________________________________________________\n",
      "dense_2 (Dense)              (None, 10)                850       \n",
      "=================================================================\n",
      "Total params: 44,426\n",
      "Trainable params: 44,426\n",
      "Non-trainable params: 0\n",
      "_________________________________________________________________\n"
     ]
    }
   ],
   "source": [
    "model.summary()"
   ]
  },
  {
   "cell_type": "code",
   "execution_count": 30,
   "metadata": {},
   "outputs": [
    {
     "name": "stdout",
     "output_type": "stream",
     "text": [
      "Train on 4000 samples, validate on 1000 samples\n",
      "Epoch 1/15\n",
      "4000/4000 [==============================] - 5s 1ms/sample - loss: 2.2656 - acc: 0.2485 - val_loss: 2.2231 - val_acc: 0.4390\n",
      "Epoch 2/15\n",
      "4000/4000 [==============================] - 3s 795us/sample - loss: 2.1494 - acc: 0.5220 - val_loss: 2.0617 - val_acc: 0.5700\n",
      "Epoch 3/15\n",
      "4000/4000 [==============================] - 3s 739us/sample - loss: 1.8909 - acc: 0.6185 - val_loss: 1.7120 - val_acc: 0.6300\n",
      "Epoch 4/15\n",
      "4000/4000 [==============================] - 3s 857us/sample - loss: 1.4570 - acc: 0.6845 - val_loss: 1.2345 - val_acc: 0.7270\n",
      "Epoch 5/15\n",
      "4000/4000 [==============================] - 4s 876us/sample - loss: 1.0212 - acc: 0.7722 - val_loss: 0.8812 - val_acc: 0.8050\n",
      "Epoch 6/15\n",
      "4000/4000 [==============================] - 3s 810us/sample - loss: 0.7446 - acc: 0.8230 - val_loss: 0.6698 - val_acc: 0.8300\n",
      "Epoch 7/15\n",
      "4000/4000 [==============================] - 3s 851us/sample - loss: 0.5930 - acc: 0.8490 - val_loss: 0.5605 - val_acc: 0.8510\n",
      "Epoch 8/15\n",
      "4000/4000 [==============================] - 3s 790us/sample - loss: 0.5050 - acc: 0.8612 - val_loss: 0.4895 - val_acc: 0.8720\n",
      "Epoch 9/15\n",
      "4000/4000 [==============================] - 3s 757us/sample - loss: 0.4473 - acc: 0.8760 - val_loss: 0.4349 - val_acc: 0.8770\n",
      "Epoch 10/15\n",
      "4000/4000 [==============================] - 3s 808us/sample - loss: 0.4038 - acc: 0.8865 - val_loss: 0.3996 - val_acc: 0.8900\n",
      "Epoch 11/15\n",
      "4000/4000 [==============================] - 3s 781us/sample - loss: 0.3733 - acc: 0.8953 - val_loss: 0.3763 - val_acc: 0.9020\n",
      "Epoch 12/15\n",
      "4000/4000 [==============================] - 3s 729us/sample - loss: 0.3472 - acc: 0.9028 - val_loss: 0.3521 - val_acc: 0.9060\n",
      "Epoch 13/15\n",
      "4000/4000 [==============================] - 3s 743us/sample - loss: 0.3256 - acc: 0.9087 - val_loss: 0.3317 - val_acc: 0.9130\n",
      "Epoch 14/15\n",
      "4000/4000 [==============================] - 3s 794us/sample - loss: 0.3072 - acc: 0.9140 - val_loss: 0.3234 - val_acc: 0.9140\n",
      "Epoch 15/15\n",
      "4000/4000 [==============================] - 3s 783us/sample - loss: 0.2928 - acc: 0.9185 - val_loss: 0.3087 - val_acc: 0.9180\n"
     ]
    }
   ],
   "source": [
    "model.compile(loss='categorical_crossentropy',\n",
    "              optimizer=tf.train.AdamOptimizer(learning_rate=0.0001),\n",
    "              metrics=['accuracy'])\n",
    "\n",
    "history = model.fit(X_train, y_train, batch_size=100, epochs=15, verbose=1,\n",
    "                    validation_data=(X_test, y_test))"
   ]
  }
 ],
 "metadata": {
  "kernelspec": {
   "display_name": "Python 3",
   "language": "python",
   "name": "python3"
  },
  "language_info": {
   "codemirror_mode": {
    "name": "ipython",
    "version": 3
   },
   "file_extension": ".py",
   "mimetype": "text/x-python",
   "name": "python",
   "nbconvert_exporter": "python",
   "pygments_lexer": "ipython3",
   "version": "3.7.4"
  }
 },
 "nbformat": 4,
 "nbformat_minor": 2
}
