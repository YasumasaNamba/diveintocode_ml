{
 "cells": [
  {
   "cell_type": "code",
   "execution_count": 1,
   "metadata": {},
   "outputs": [],
   "source": [
    "import numpy as np\n",
    "import pandas as pd\n",
    "import matplotlib.pyplot as plt\n",
    "%matplotlib inline\n",
    "import pdb"
   ]
  },
  {
   "cell_type": "markdown",
   "metadata": {},
   "source": [
    "## 【問題1】中心点の初期値を決める\n",
    "入力されたデータから $ K $ 個の中心点 $ μ1 $ から $ μ_K $ の初期値を決めるコードを作成してください。  \n",
    "$ K $ は指定したクラスタ数です。  \n",
    "最もシンプルな初期値の決定方法は、データ点 $ X_n $ の中からランダムに $ K $ 個選ぶことです。今回はこれを実装してください。  \n",
    "K-meansの学習結果は中心点 $ μ $ の初期値に影響を受けます。  \n",
    "そのため、学習時には複数個の初期値で計算を行います。"
   ]
  },
  {
   "cell_type": "markdown",
   "metadata": {},
   "source": [
    "## 【問題2】SSEを求める関数の作成\n",
    "クラスタ内誤差平方和（SSE, Sum of Squared Errors）を計算する関数を作成してください。  \n",
    "K-meansはこのSSEを最小化する $ r_{nk} $ と $ μ_k $ を求めることが目的となります。  \n",
    "複数個の初期値で計算したクラスタリング結果から、どれを最終的に採用するかを決める際にこのSSEを求める関数を使用します。\n",
    "$$\n",
    "SSE = \\sum^{N}_{n=1} \\sum^{K}{k=1}r_{nk} |X_n - \\mu_k|^2\n",
    "$$"
   ]
  },
  {
   "cell_type": "markdown",
   "metadata": {},
   "source": [
    "## 【問題3】クラスタへの割り当て\n",
    "全てのデータ点 $X_n $ を最も近い中心点 $ μ_k $ に割り当てるコードを作成してください。  \n",
    "K-menasにおける **近い** とは点と点のユークリッド距離が小さくなることです。ユークリッド距離とはピタゴラスの定理（三平方の定理）で求められるものですが、ベクトル $ p, q $ に対しては以下の数式で表現できます。\n",
    "$$\n",
    "|q - p| = \\sqrt{(q-p)\\cdot(q-p)}\n",
    "$$"
   ]
  },
  {
   "cell_type": "markdown",
   "metadata": {},
   "source": [
    "## 【問題4】中心点の移動\n",
    "中心点 $ μ_k $ を $ k $ 番目のクラスタに割り当てられる全てのデータ点 $ X_n $ の平均値（重心）に移動するコードを作成してください。  \n",
    "クラスタの割り当て $ r_{nk} $ を固定した上でSSEを最小化していることになりますが、SSE自体を求める必要はありません。"
   ]
  },
  {
   "cell_type": "markdown",
   "metadata": {},
   "source": [
    "## 【問題5】繰り返し\n",
    "クラスタへの割り当てと中心点の移動を繰り返すことで学習を行うコードを作成してください。  \n",
    "次のどれかの条件を満たしたらこれを止めます。\n",
    "- 繰り返しが指定した回数に到達する。（雛形では引数max_iter）\n",
    "- 中心点 $ μ_k $ と重心の差が指定した許容値以下になる。（雛形では引数tol）"
   ]
  },
  {
   "cell_type": "markdown",
   "metadata": {},
   "source": [
    "## 【問題6】異なる初期値で計算\n",
    "問題5の繰り返しを、指定した回数初期値を変更して計算するコードを作成してください。回数は雛形では引数n_initで指定します。  \n",
    "複数計算した中でSSEが最小になったものが最終的な学習結果となるため、その時の中心点 $ μ_k $ を保持しておきます。"
   ]
  },
  {
   "cell_type": "markdown",
   "metadata": {},
   "source": [
    "## 【問題7】推定\n",
    "新たなデータに対してどのクラスタに所属するかの推定の際は、学習時の1つ目のフェーズと同じことを行います。  \n",
    "- データ点 $ X_n $ と学習で決まった中心点 $ μ_k $ に対し、SSEを最小化する $ r_{nk} $  を選ぶ。  \n",
    "\n",
    "具体的には次のことです。\n",
    "\n",
    "- データ点 $ X_n $ を最も近い $ μ_k $ に割り当てる。"
   ]
  },
  {
   "cell_type": "code",
   "execution_count": 2,
   "metadata": {},
   "outputs": [],
   "source": [
    "class ScratchKMeans():\n",
    "\n",
    "    def __init__(self, n_clusters=2, n_init=3, max_iter=30, tol=1e-5):\n",
    "        # ハイパーパラメータを属性として記録\n",
    "        self.n_clusters = n_clusters\n",
    "        self.n_init = n_init\n",
    "        self.max_iter = max_iter\n",
    "        self.tol = tol\n",
    "        \n",
    "        self.X = None\n",
    "        self.m = None\n",
    "        self.mu, self.best_mu = None, None\n",
    "        self.clusters, self.best_clusters = None, None\n",
    "        self.sse, self.best_sse = None, None\n",
    "        \n",
    "    def fit(self, X):\n",
    "        self.X = X\n",
    "        self.m = len(self.X)\n",
    "        #self.clusters = np.random.choice(self.n_clusters, self.m)\n",
    "        self.best_sse = np.inf\n",
    "        \n",
    "        for n in range(self.n_init):\n",
    "            self.sse_list = [np.inf]\n",
    "            self.mu = X[np.random.choice(self.m, size=self.n_clusters, replace=True)].copy()\n",
    "            count = 0\n",
    "            while count < self.max_iter:\n",
    "                self.clusters = self.asign_cluster(self.X)\n",
    "                for i in range(self.n_clusters):\n",
    "                    self.mu[i] = np.mean(self.X[self.clusters==i], axis=0)\n",
    "                if self.sse_list[-1] - self.calc_sse() < self.tol:\n",
    "                    break\n",
    "                self.sse_list.append(self.calc_sse())\n",
    "                count += 1\n",
    "            \n",
    "            if self.calc_sse() < self.best_sse:\n",
    "                self.best_sse = self.calc_sse()\n",
    "                self.best_mu = self.mu\n",
    "                self.best_clusters = self.clusters\n",
    "\n",
    "    \n",
    "    def asign_cluster(self, X, predict=False):\n",
    "        m = len(X)\n",
    "        tmp = np.empty((m, self.n_clusters))\n",
    "        if predict:\n",
    "            mu = self.best_mu\n",
    "        else:\n",
    "            mu = self.mu\n",
    "        for i in range(self.n_clusters):\n",
    "            for j in range(m):\n",
    "                tmp[j,i] = np.linalg.norm(X[j]-mu[i])\n",
    "        return np.argmin(tmp, axis=1)   \n",
    "    \n",
    "    \n",
    "    def calc_sse(self):\n",
    "        sse = 0\n",
    "        for i in range(self.n_clusters):\n",
    "            sse += np.sum((self.X[self.clusters==i] - self.mu[i])**2)\n",
    "        return sse\n",
    "        \n",
    "        \n",
    "    def predict(self, X_test):\n",
    "        y_pred = self.asign_cluster(X_test, predict=True)\n",
    "        return y_pred\n",
    "    \n"
   ]
  },
  {
   "cell_type": "code",
   "execution_count": 3,
   "metadata": {},
   "outputs": [],
   "source": [
    "from sklearn.datasets import make_blobs\n",
    "X, _ = make_blobs(n_samples=100, n_features=2, centers=4, cluster_std=0.5, shuffle=True, random_state=0)"
   ]
  },
  {
   "cell_type": "code",
   "execution_count": 7,
   "metadata": {},
   "outputs": [],
   "source": [
    "kmeans = ScratchKMeans(n_clusters=4)\n",
    "kmeans.fit(X)"
   ]
  },
  {
   "cell_type": "code",
   "execution_count": 8,
   "metadata": {},
   "outputs": [
    {
     "data": {
      "text/plain": [
       "[inf, 61.684185099032284, 48.63378320706402]"
      ]
     },
     "execution_count": 8,
     "metadata": {},
     "output_type": "execute_result"
    }
   ],
   "source": [
    "kmeans.sse_list"
   ]
  },
  {
   "cell_type": "code",
   "execution_count": 9,
   "metadata": {
    "scrolled": true
   },
   "outputs": [
    {
     "data": {
      "text/plain": [
       "<matplotlib.collections.PathCollection at 0x1a1997b710>"
      ]
     },
     "execution_count": 9,
     "metadata": {},
     "output_type": "execute_result"
    },
    {
     "data": {
      "image/png": "[encoded data removed]",
      "text/plain": [
       "<Figure size 432x288 with 1 Axes>"
      ]
     },
     "metadata": {
      "needs_background": "light"
     },
     "output_type": "display_data"
    }
   ],
   "source": [
    "plt.scatter(X[:,0], X[:,1])\n",
    "plt.scatter(kmeans.best_mu[:,0], kmeans.best_mu[:,1], marker='o')"
   ]
  },
  {
   "cell_type": "markdown",
   "metadata": {},
   "source": [
    "## 【問題8】エルボー法の実装\n",
    "K-meansにおいて中心点の個数 $ k $ は人為的に決める必要がありますが、その判断方法としてエルボー法があります。  \n",
    "エルボー法により中心点の個数 $ k $ を検討するためのコードを作成してください。  \n",
    "SSEを縦軸、クラスタ数 $ k $ を横軸にした折れ線グラフを表示します。  \n",
    "このためにK-meansのインスタンスからはSSEを取得できるようにしてください。"
   ]
  },
  {
   "cell_type": "code",
   "execution_count": 11,
   "metadata": {},
   "outputs": [
    {
     "data": {
      "image/png": "[encoded data removed]",
      "text/plain": [
       "<Figure size 432x288 with 1 Axes>"
      ]
     },
     "metadata": {
      "needs_background": "light"
     },
     "output_type": "display_data"
    }
   ],
   "source": [
    "n_elbow = 7\n",
    "score = np.zeros(n_elbow)\n",
    "for i in range(n_elbow):\n",
    "    kmeans = ScratchKMeans(n_clusters=i+1)\n",
    "    kmeans.fit(X)\n",
    "    score[i] = kmeans.best_sse\n",
    "plt.plot(np.arange(n_elbow)+1, score, '-o')\n",
    "plt.xlabel('n_clusters')\n",
    "plt.ylabel('SSE')\n",
    "plt.show();"
   ]
  },
  {
   "cell_type": "markdown",
   "metadata": {},
   "source": [
    "## 【問題9】シルエット図\n",
    "$ k $ を決める助けになるものとしてシルエット図もあります。  \n",
    "シルエット図を表示するコードを作成してください。  \n",
    "Matplotlibを使い図を表示するコードは用意しました。  \n",
    "n番目のデータ点に対するシルエット係数 $ s_n $ は以下の数式でを求められます。  \n",
    "この数式を実装し、シルエット図を確認してください。\n",
    "$$\n",
    "s_n = \\frac{b_n-a_n}{max(b_n,a_n)}\n",
    "$$"
   ]
  },
  {
   "cell_type": "code",
   "execution_count": 12,
   "metadata": {},
   "outputs": [],
   "source": [
    "def calc_silhouette(X, mu, clusters):\n",
    "    m = len(X)\n",
    "    silhouette_vals = np.zeros(m)\n",
    "    for i in range(m):\n",
    "        a = np.mean(np.sum((X[clusters==clusters[i]]-X[i])**2, axis=1))\n",
    "        mu_dist = np.sum((mu-mu[clusters[i]])**2, axis=1)\n",
    "        idx = np.argsort(mu_dist)[1]\n",
    "        b = np.mean(np.sum((X[clusters==idx]-X[i])**2, axis=1))\n",
    "        silhouette_vals[i] = (b - a) / max(b, a)\n",
    "    return silhouette_vals"
   ]
  },
  {
   "cell_type": "code",
   "execution_count": 13,
   "metadata": {},
   "outputs": [],
   "source": [
    "from matplotlib import cm\n",
    "def plot_silhouette(silhouette_vals, silhouette_avg, y_km, cluster_labels, n_clusters):\n",
    "    y_ax_lower, y_ax_upper = 0, 0\n",
    "    yticks = []\n",
    "    for i, c in enumerate(cluster_labels):\n",
    "        c_silhouette_vals = silhouette_vals[y_km == c]\n",
    "        c_silhouette_vals.sort()\n",
    "        y_ax_upper += len(c_silhouette_vals)\n",
    "        color = cm.jet(i / n_clusters)\n",
    "        plt.barh(range(y_ax_lower, y_ax_upper), c_silhouette_vals, height=1.0, edgecolor='none', color=color)\n",
    "        yticks.append((y_ax_lower + y_ax_upper) / 2)\n",
    "        y_ax_lower += len(c_silhouette_vals)\n",
    "    plt.axvline(silhouette_avg, color=\"red\", linestyle=\"--\")\n",
    "    plt.yticks(yticks, cluster_labels + 1)\n",
    "    plt.ylabel('Cluster')\n",
    "    plt.xlabel('Silhouette coefficient')\n",
    "    plt.show()\n",
    "#plot_silhouette(silhouette_vals, silhouette_avg, y_km, cluster_labels, n_clusters)"
   ]
  },
  {
   "cell_type": "code",
   "execution_count": 14,
   "metadata": {
    "scrolled": true
   },
   "outputs": [
    {
     "data": {
      "image/png": "[encoded data removed]",
      "text/plain": [
       "<Figure size 432x288 with 1 Axes>"
      ]
     },
     "metadata": {
      "needs_background": "light"
     },
     "output_type": "display_data"
    }
   ],
   "source": [
    "kmeans = ScratchKMeans(n_clusters=4)\n",
    "kmeans.fit(X)\n",
    "\n",
    "silhouette_vals = calc_silhouette(X, kmeans.best_mu, kmeans.best_clusters)\n",
    "silhouette_avg = np.mean(silhouette_vals)\n",
    "y_km = kmeans.best_clusters\n",
    "cluster_labels = np.arange(kmeans.n_clusters)\n",
    "n_clusters = kmeans.n_clusters\n",
    "plot_silhouette(silhouette_vals, silhouette_avg, y_km, cluster_labels, n_clusters)"
   ]
  },
  {
   "cell_type": "markdown",
   "metadata": {},
   "source": [
    "## 【問題10】クラスタ数kの選択\n",
    "最適だと思われるクラスタ数 k を選択してください。エルボー法やシルエット図を活用する他、人間が後々どう利用したいのかも選択に関わってきます。  \n",
    "選択した上で、なぜそれを選んだか説明してください。"
   ]
  },
  {
   "cell_type": "code",
   "execution_count": 15,
   "metadata": {
    "scrolled": false
   },
   "outputs": [
    {
     "data": {
      "text/html": [
       "<div>\n",
       "<style scoped>\n",
       "    .dataframe tbody tr th:only-of-type {\n",
       "        vertical-align: middle;\n",
       "    }\n",
       "\n",
       "    .dataframe tbody tr th {\n",
       "        vertical-align: top;\n",
       "    }\n",
       "\n",
       "    .dataframe thead th {\n",
       "        text-align: right;\n",
       "    }\n",
       "</style>\n",
       "<table border=\"1\" class=\"dataframe\">\n",
       "  <thead>\n",
       "    <tr style=\"text-align: right;\">\n",
       "      <th></th>\n",
       "      <th>Channel</th>\n",
       "      <th>Region</th>\n",
       "      <th>Fresh</th>\n",
       "      <th>Milk</th>\n",
       "      <th>Grocery</th>\n",
       "      <th>Frozen</th>\n",
       "      <th>Detergents_Paper</th>\n",
       "      <th>Delicassen</th>\n",
       "    </tr>\n",
       "  </thead>\n",
       "  <tbody>\n",
       "    <tr>\n",
       "      <td>0</td>\n",
       "      <td>2</td>\n",
       "      <td>3</td>\n",
       "      <td>12669</td>\n",
       "      <td>9656</td>\n",
       "      <td>7561</td>\n",
       "      <td>214</td>\n",
       "      <td>2674</td>\n",
       "      <td>1338</td>\n",
       "    </tr>\n",
       "    <tr>\n",
       "      <td>1</td>\n",
       "      <td>2</td>\n",
       "      <td>3</td>\n",
       "      <td>7057</td>\n",
       "      <td>9810</td>\n",
       "      <td>9568</td>\n",
       "      <td>1762</td>\n",
       "      <td>3293</td>\n",
       "      <td>1776</td>\n",
       "    </tr>\n",
       "    <tr>\n",
       "      <td>2</td>\n",
       "      <td>2</td>\n",
       "      <td>3</td>\n",
       "      <td>6353</td>\n",
       "      <td>8808</td>\n",
       "      <td>7684</td>\n",
       "      <td>2405</td>\n",
       "      <td>3516</td>\n",
       "      <td>7844</td>\n",
       "    </tr>\n",
       "    <tr>\n",
       "      <td>3</td>\n",
       "      <td>1</td>\n",
       "      <td>3</td>\n",
       "      <td>13265</td>\n",
       "      <td>1196</td>\n",
       "      <td>4221</td>\n",
       "      <td>6404</td>\n",
       "      <td>507</td>\n",
       "      <td>1788</td>\n",
       "    </tr>\n",
       "    <tr>\n",
       "      <td>4</td>\n",
       "      <td>2</td>\n",
       "      <td>3</td>\n",
       "      <td>22615</td>\n",
       "      <td>5410</td>\n",
       "      <td>7198</td>\n",
       "      <td>3915</td>\n",
       "      <td>1777</td>\n",
       "      <td>5185</td>\n",
       "    </tr>\n",
       "  </tbody>\n",
       "</table>\n",
       "</div>"
      ],
      "text/plain": [
       "   Channel  Region  Fresh  Milk  Grocery  Frozen  Detergents_Paper  Delicassen\n",
       "0        2       3  12669  9656     7561     214              2674        1338\n",
       "1        2       3   7057  9810     9568    1762              3293        1776\n",
       "2        2       3   6353  8808     7684    2405              3516        7844\n",
       "3        1       3  13265  1196     4221    6404               507        1788\n",
       "4        2       3  22615  5410     7198    3915              1777        5185"
      ]
     },
     "execution_count": 15,
     "metadata": {},
     "output_type": "execute_result"
    }
   ],
   "source": [
    "data = pd.read_csv('Wholesale customers data.csv')\n",
    "data.head()"
   ]
  },
  {
   "cell_type": "code",
   "execution_count": 17,
   "metadata": {
    "scrolled": true
   },
   "outputs": [
    {
     "name": "stdout",
     "output_type": "stream",
     "text": [
      "<class 'pandas.core.frame.DataFrame'>\n",
      "RangeIndex: 440 entries, 0 to 439\n",
      "Data columns (total 8 columns):\n",
      "Channel             440 non-null int64\n",
      "Region              440 non-null int64\n",
      "Fresh               440 non-null int64\n",
      "Milk                440 non-null int64\n",
      "Grocery             440 non-null int64\n",
      "Frozen              440 non-null int64\n",
      "Detergents_Paper    440 non-null int64\n",
      "Delicassen          440 non-null int64\n",
      "dtypes: int64(8)\n",
      "memory usage: 27.6 KB\n"
     ]
    }
   ],
   "source": [
    "data.info()"
   ]
  },
  {
   "cell_type": "code",
   "execution_count": 18,
   "metadata": {
    "scrolled": false
   },
   "outputs": [
    {
     "name": "stdout",
     "output_type": "stream",
     "text": [
      "[0.45961362 0.86478588 0.93481596 0.97883941 0.99386152 1.        ]\n"
     ]
    },
    {
     "data": {
      "image/png": "[encoded data removed]",
      "text/plain": [
       "<Figure size 432x288 with 1 Axes>"
      ]
     },
     "metadata": {
      "needs_background": "light"
     },
     "output_type": "display_data"
    }
   ],
   "source": [
    "from sklearn.decomposition import PCA\n",
    "NUM = 6\n",
    "pca = PCA(n_components=NUM)\n",
    "pca = pca.fit(data)\n",
    "var_exp = pca.explained_variance_ratio_\n",
    "cum_var_exp = np.cumsum(var_exp)\n",
    "print(cum_var_exp)\n",
    "plt.bar(range(1,NUM+1), var_exp, alpha=0.5, align='center', label='individual explained variance')\n",
    "plt.step(range(1,NUM+1), cum_var_exp, where='mid', label='cumulative expalined variance')\n",
    "plt.ylabel('Explained variance ratio')\n",
    "plt.xlabel('Principal components')\n",
    "plt.hlines(0.7, 0, 6,  \"blue\", linestyles='dashed')\n",
    "plt.legend(loc='best')\n",
    "plt.grid()\n",
    "plt.show()"
   ]
  },
  {
   "cell_type": "markdown",
   "metadata": {},
   "source": [
    "PCAの結果では次元4で元データの分散の95%を維持できている。"
   ]
  },
  {
   "cell_type": "code",
   "execution_count": 19,
   "metadata": {},
   "outputs": [],
   "source": [
    "data_dropped = data.drop(columns=['Region', 'Channel']).values"
   ]
  },
  {
   "cell_type": "markdown",
   "metadata": {},
   "source": [
    "### RegionとChannel以外のデータでクラスタリング"
   ]
  },
  {
   "cell_type": "code",
   "execution_count": 20,
   "metadata": {},
   "outputs": [
    {
     "data": {
      "image/png": "[encoded data removed]",
      "text/plain": [
       "<Figure size 432x288 with 1 Axes>"
      ]
     },
     "metadata": {
      "needs_background": "light"
     },
     "output_type": "display_data"
    }
   ],
   "source": [
    "n = 10\n",
    "score = np.zeros(n)\n",
    "for i in range(n):\n",
    "    kmeans = ScratchKMeans(n_clusters=i+1)\n",
    "    kmeans.fit(data_dropped)\n",
    "    score[i] = kmeans.best_sse\n",
    "plt.plot(np.arange(n)+1, score, '-o')\n",
    "plt.xlabel('n_clusters')\n",
    "plt.ylabel('SSE')\n",
    "plt.show();"
   ]
  },
  {
   "cell_type": "markdown",
   "metadata": {},
   "source": [
    "エルボー図ではk=5, 6, 7, 8がよさそう。"
   ]
  },
  {
   "cell_type": "code",
   "execution_count": 21,
   "metadata": {
    "scrolled": false
   },
   "outputs": [
    {
     "data": {
      "image/png": "[encoded data removed]",
      "text/plain": [
       "<Figure size 432x288 with 1 Axes>"
      ]
     },
     "metadata": {
      "needs_background": "light"
     },
     "output_type": "display_data"
    },
    {
     "data": {
      "image/png": "[encoded data removed]",
      "text/plain": [
       "<Figure size 432x288 with 1 Axes>"
      ]
     },
     "metadata": {
      "needs_background": "light"
     },
     "output_type": "display_data"
    },
    {
     "name": "stderr",
     "output_type": "stream",
     "text": [
      "/Users/nambayasumasa/opt/anaconda3/lib/python3.7/site-packages/numpy/core/fromnumeric.py:3257: RuntimeWarning: Mean of empty slice.\n",
      "  out=out, **kwargs)\n",
      "/Users/nambayasumasa/opt/anaconda3/lib/python3.7/site-packages/numpy/core/_methods.py:154: RuntimeWarning: invalid value encountered in true_divide\n",
      "  ret, rcount, out=ret, casting='unsafe', subok=False)\n"
     ]
    },
    {
     "data": {
      "image/png": "[encoded data removed]",
      "text/plain": [
       "<Figure size 432x288 with 1 Axes>"
      ]
     },
     "metadata": {
      "needs_background": "light"
     },
     "output_type": "display_data"
    },
    {
     "data": {
      "image/png": "[encoded data removed]",
      "text/plain": [
       "<Figure size 432x288 with 1 Axes>"
      ]
     },
     "metadata": {
      "needs_background": "light"
     },
     "output_type": "display_data"
    }
   ],
   "source": [
    "for i in [5, 6, 7, 8]:\n",
    "    kmeans = ScratchKMeans(n_clusters=i)\n",
    "    kmeans.fit(data_dropped)\n",
    "\n",
    "    silhouette_vals = calc_silhouette(data_dropped, kmeans.best_mu, kmeans.best_clusters)\n",
    "    silhouette_avg = np.mean(silhouette_vals)\n",
    "    y_km = kmeans.best_clusters\n",
    "    cluster_labels = np.arange(kmeans.n_clusters)\n",
    "    n_clusters = kmeans.n_clusters\n",
    "    plot_silhouette(silhouette_vals, silhouette_avg, y_km, cluster_labels, n_clusters)"
   ]
  },
  {
   "cell_type": "markdown",
   "metadata": {},
   "source": [
    "シルエット図ではおおきな違いはなさそう。"
   ]
  },
  {
   "cell_type": "markdown",
   "metadata": {},
   "source": [
    "### PCA処理後のデータでクラスタリング"
   ]
  },
  {
   "cell_type": "code",
   "execution_count": 22,
   "metadata": {},
   "outputs": [],
   "source": [
    "pca = PCA(n_components = 2)\n",
    "pca = pca.fit(data)\n",
    "data_pca = pca.transform(data)"
   ]
  },
  {
   "cell_type": "code",
   "execution_count": 23,
   "metadata": {},
   "outputs": [
    {
     "name": "stderr",
     "output_type": "stream",
     "text": [
      "/Users/nambayasumasa/opt/anaconda3/lib/python3.7/site-packages/numpy/core/fromnumeric.py:3257: RuntimeWarning: Mean of empty slice.\n",
      "  out=out, **kwargs)\n",
      "/Users/nambayasumasa/opt/anaconda3/lib/python3.7/site-packages/numpy/core/_methods.py:154: RuntimeWarning: invalid value encountered in true_divide\n",
      "  ret, rcount, out=ret, casting='unsafe', subok=False)\n"
     ]
    },
    {
     "data": {
      "image/png": "[encoded data removed]",
      "text/plain": [
       "<Figure size 432x288 with 1 Axes>"
      ]
     },
     "metadata": {
      "needs_background": "light"
     },
     "output_type": "display_data"
    }
   ],
   "source": [
    "n = 10\n",
    "score = np.zeros(n)\n",
    "for i in range(n):\n",
    "    kmeans = ScratchKMeans(n_clusters=i+1)\n",
    "    kmeans.fit(data_pca)\n",
    "    score[i] = kmeans.best_sse\n",
    "plt.plot(np.arange(n)+1, score, '-o')\n",
    "plt.xlabel('n_clusters')\n",
    "plt.ylabel('SSE')\n",
    "plt.show();"
   ]
  },
  {
   "cell_type": "markdown",
   "metadata": {},
   "source": [
    "エルボー図ではk=5, 6, 7, 8がよさそう。"
   ]
  },
  {
   "cell_type": "code",
   "execution_count": 24,
   "metadata": {},
   "outputs": [
    {
     "data": {
      "image/png": "[encoded data removed]",
      "text/plain": [
       "<Figure size 432x288 with 1 Axes>"
      ]
     },
     "metadata": {
      "needs_background": "light"
     },
     "output_type": "display_data"
    },
    {
     "data": {
      "image/png": "[encoded data removed]",
      "text/plain": [
       "<Figure size 432x288 with 1 Axes>"
      ]
     },
     "metadata": {
      "needs_background": "light"
     },
     "output_type": "display_data"
    },
    {
     "data": {
      "image/png": "[encoded data removed]",
      "text/plain": [
       "<Figure size 432x288 with 1 Axes>"
      ]
     },
     "metadata": {
      "needs_background": "light"
     },
     "output_type": "display_data"
    },
    {
     "data": {
      "image/png": "[encoded data removed]",
      "text/plain": [
       "<Figure size 432x288 with 1 Axes>"
      ]
     },
     "metadata": {
      "needs_background": "light"
     },
     "output_type": "display_data"
    }
   ],
   "source": [
    "for i in [5, 6, 7, 8]:\n",
    "    kmeans = ScratchKMeans(n_clusters=i)\n",
    "    kmeans.fit(data_pca)\n",
    "\n",
    "    silhouette_vals = calc_silhouette(data_pca, kmeans.best_mu, kmeans.best_clusters)\n",
    "    silhouette_avg = np.mean(silhouette_vals)\n",
    "    y_km = kmeans.best_clusters\n",
    "    cluster_labels = np.arange(kmeans.n_clusters)\n",
    "    n_clusters = kmeans.n_clusters\n",
    "    plot_silhouette(silhouette_vals, silhouette_avg, y_km, cluster_labels, n_clusters)"
   ]
  },
  {
   "cell_type": "markdown",
   "metadata": {},
   "source": [
    "シルエット図ではおおきな違いはなさそう。"
   ]
  },
  {
   "cell_type": "code",
   "execution_count": 43,
   "metadata": {},
   "outputs": [
    {
     "data": {
      "text/plain": [
       "1    298\n",
       "2    142\n",
       "Name: Channel, dtype: int64"
      ]
     },
     "execution_count": 43,
     "metadata": {},
     "output_type": "execute_result"
    }
   ],
   "source": [
    "#Channelの値\n",
    "data['Channel'].value_counts()"
   ]
  },
  {
   "cell_type": "code",
   "execution_count": 44,
   "metadata": {},
   "outputs": [
    {
     "data": {
      "text/plain": [
       "3    316\n",
       "1     77\n",
       "2     47\n",
       "Name: Region, dtype: int64"
      ]
     },
     "execution_count": 44,
     "metadata": {},
     "output_type": "execute_result"
    }
   ],
   "source": [
    "#Regionの値\n",
    "data['Region'].value_counts()"
   ]
  },
  {
   "cell_type": "markdown",
   "metadata": {},
   "source": [
    "クラスタ数は6とする。  \n",
    "理由は、Channelは2値、Regionは3値からなる特徴量であり、これらの特徴量を組み合わせて6値に分類できると考えられるため。  \n",
    "またデータは、Fresh, Milk, Grocery, Frozen, Detergents_Paper, Delicassenの6つの特徴量から成るのでそれぞれのクラスタがそれぞれの列に対応づけられることが期待できるため。"
   ]
  },
  {
   "cell_type": "markdown",
   "metadata": {},
   "source": [
    "## 【問題11】既知のグループとの比較\n",
    "RegionとChannelはK-meansに使用しなかったが、これらは既知のグループです。  \n",
    "クラスタとこれらのグループがどう違うか確認し、説明してください。"
   ]
  },
  {
   "cell_type": "code",
   "execution_count": 46,
   "metadata": {},
   "outputs": [
    {
     "data": {
      "image/png": "[encoded data removed]",
      "text/plain": [
       "<Figure size 432x288 with 1 Axes>"
      ]
     },
     "metadata": {
      "needs_background": "light"
     },
     "output_type": "display_data"
    }
   ],
   "source": [
    "kmeans = ScratchKMeans(n_clusters=6)\n",
    "kmeans.fit(data_pca)\n",
    "y_pred = kmeans.predict(data_pca)\n",
    "# plt.scatter(data_pca[data['Region']==1, 0], data_pca[data['Region']==1, 1], label='Region=1')\n",
    "# plt.scatter(data_pca[data['Region']==2, 0], data_pca[data['Region']==2, 1], label='Region=2')\n",
    "# plt.scatter(data_pca[data['Region']==3, 0], data_pca[data['Region']==3, 1], label='Region=3')\n",
    "plt.scatter(data_pca[kmeans.clusters==0, 0], data_pca[kmeans.clusters==0, 1], label='Cluster0', s=80, alpha=0.4)\n",
    "plt.scatter(data_pca[kmeans.clusters==1, 0], data_pca[kmeans.clusters==1, 1], label='Cluster1', s=80, alpha=0.4)\n",
    "plt.scatter(data_pca[kmeans.clusters==2, 0], data_pca[kmeans.clusters==2, 1], label='Cluster2', s=80, alpha=0.4)\n",
    "plt.scatter(data_pca[kmeans.clusters==3, 0], data_pca[kmeans.clusters==3, 1], label='Cluster3', s=80, alpha=0.4)\n",
    "plt.scatter(data_pca[kmeans.clusters==4, 0], data_pca[kmeans.clusters==4, 1], label='Cluster4', s=80, alpha=0.4)\n",
    "plt.scatter(data_pca[kmeans.clusters==5, 0], data_pca[kmeans.clusters==5, 1], label='Cluster5', s=80, alpha=0.4)\n",
    "#plt.scatter(kmeans.best_mu[:,0], kmeans.best_mu[:,1], marker='o', label='cluster', c='r', s=100)\n",
    "plt.legend();"
   ]
  },
  {
   "cell_type": "code",
   "execution_count": 22,
   "metadata": {
    "scrolled": false
   },
   "outputs": [
    {
     "data": {
      "image/png": "[encoded data removed]",
      "text/plain": [
       "<Figure size 432x288 with 1 Axes>"
      ]
     },
     "metadata": {
      "needs_background": "light"
     },
     "output_type": "display_data"
    }
   ],
   "source": [
    "plt.scatter(data_pca[data['Channel']==1, 0], data_pca[data['Channel']==1, 1], label='Channel=1')\n",
    "plt.scatter(data_pca[data['Channel']==2, 0], data_pca[data['Channel']==2, 1], label='Channel=2')\n",
    "plt.scatter(kmeans.best_mu[:,0], kmeans.best_mu[:,1], marker='o', label='cluster', c='r', s=100)\n",
    "plt.legend();"
   ]
  },
  {
   "cell_type": "code",
   "execution_count": 85,
   "metadata": {
    "scrolled": true
   },
   "outputs": [
    {
     "data": {
      "image/png": "[encoded data removed]",
      "text/plain": [
       "<Figure size 432x288 with 1 Axes>"
      ]
     },
     "metadata": {
      "needs_background": "light"
     },
     "output_type": "display_data"
    }
   ],
   "source": [
    "plt.scatter(data_pca[data['Region']==1, 0], data_pca[data['Region']==1, 1], label='Region=1')\n",
    "plt.scatter(data_pca[data['Region']==2, 0], data_pca[data['Region']==2, 1], label='Region=2')\n",
    "plt.scatter(data_pca[data['Region']==3, 0], data_pca[data['Region']==3, 1], label='Region=3')\n",
    "plt.scatter(kmeans.best_mu[:,0], kmeans.best_mu[:,1], marker='o', label='cluster', c='r', s=100)\n",
    "plt.legend();"
   ]
  },
  {
   "cell_type": "markdown",
   "metadata": {},
   "source": [
    "Channel==1はcluster0,2,5に、Channel==2はcluster1,3,4に属する傾向がみえた。  \n",
    "Regionについては傾向はみられなかった。"
   ]
  },
  {
   "cell_type": "code",
   "execution_count": 58,
   "metadata": {},
   "outputs": [],
   "source": [
    "c1r1 = (data['Channel']==1) & (data['Region']==1)\n",
    "c1r2 = (data['Channel']==1) & (data['Region']==2)\n",
    "c1r3 = (data['Channel']==1) & (data['Region']==3)\n",
    "c2r1 = (data['Channel']==2) & (data['Region']==1)\n",
    "c2r2 = (data['Channel']==2) & (data['Region']==2)\n",
    "c2r3 = (data['Channel']==2) & (data['Region']==3)"
   ]
  },
  {
   "cell_type": "code",
   "execution_count": 94,
   "metadata": {},
   "outputs": [
    {
     "data": {
      "image/png": "[encoded data removed]",
      "text/plain": [
       "<Figure size 432x288 with 1 Axes>"
      ]
     },
     "metadata": {
      "needs_background": "light"
     },
     "output_type": "display_data"
    }
   ],
   "source": [
    "plt.scatter(data_pca[c1r1, 0], data_pca[c1r1, 1], label='c1r1')\n",
    "plt.scatter(data_pca[c1r2, 0], data_pca[c1r2, 1], label='c1r2')\n",
    "plt.scatter(data_pca[c1r3, 0], data_pca[c1r3, 1], label='c1r3')\n",
    "plt.scatter(data_pca[c2r1, 0], data_pca[c2r1, 1], label='c2r1')\n",
    "plt.scatter(data_pca[c2r2, 0], data_pca[c2r2, 1], label='c2r2')\n",
    "plt.scatter(data_pca[c2r3, 0], data_pca[c2r3, 1], label='c2r3')\n",
    "plt.legend();"
   ]
  },
  {
   "cell_type": "markdown",
   "metadata": {},
   "source": [
    "## 【問題12】卸売業者にとって有益な情報\n",
    "卸売業者にとって有益な情報を探し出し文章にまとめてください。"
   ]
  },
  {
   "cell_type": "code",
   "execution_count": 97,
   "metadata": {},
   "outputs": [
    {
     "data": {
      "text/html": [
       "<div>\n",
       "<style scoped>\n",
       "    .dataframe tbody tr th:only-of-type {\n",
       "        vertical-align: middle;\n",
       "    }\n",
       "\n",
       "    .dataframe tbody tr th {\n",
       "        vertical-align: top;\n",
       "    }\n",
       "\n",
       "    .dataframe thead th {\n",
       "        text-align: right;\n",
       "    }\n",
       "</style>\n",
       "<table border=\"1\" class=\"dataframe\">\n",
       "  <thead>\n",
       "    <tr style=\"text-align: right;\">\n",
       "      <th></th>\n",
       "      <th>count</th>\n",
       "      <th>mean</th>\n",
       "      <th>std</th>\n",
       "      <th>min</th>\n",
       "      <th>25%</th>\n",
       "      <th>50%</th>\n",
       "      <th>75%</th>\n",
       "      <th>max</th>\n",
       "    </tr>\n",
       "  </thead>\n",
       "  <tbody>\n",
       "    <tr>\n",
       "      <td>Fresh</td>\n",
       "      <td>440.0</td>\n",
       "      <td>12000.297727</td>\n",
       "      <td>12647.328865</td>\n",
       "      <td>3.0</td>\n",
       "      <td>3127.75</td>\n",
       "      <td>8504.0</td>\n",
       "      <td>16933.75</td>\n",
       "      <td>112151.0</td>\n",
       "    </tr>\n",
       "    <tr>\n",
       "      <td>Milk</td>\n",
       "      <td>440.0</td>\n",
       "      <td>5796.265909</td>\n",
       "      <td>7380.377175</td>\n",
       "      <td>55.0</td>\n",
       "      <td>1533.00</td>\n",
       "      <td>3627.0</td>\n",
       "      <td>7190.25</td>\n",
       "      <td>73498.0</td>\n",
       "    </tr>\n",
       "    <tr>\n",
       "      <td>Grocery</td>\n",
       "      <td>440.0</td>\n",
       "      <td>7951.277273</td>\n",
       "      <td>9503.162829</td>\n",
       "      <td>3.0</td>\n",
       "      <td>2153.00</td>\n",
       "      <td>4755.5</td>\n",
       "      <td>10655.75</td>\n",
       "      <td>92780.0</td>\n",
       "    </tr>\n",
       "    <tr>\n",
       "      <td>Frozen</td>\n",
       "      <td>440.0</td>\n",
       "      <td>3071.931818</td>\n",
       "      <td>4854.673333</td>\n",
       "      <td>25.0</td>\n",
       "      <td>742.25</td>\n",
       "      <td>1526.0</td>\n",
       "      <td>3554.25</td>\n",
       "      <td>60869.0</td>\n",
       "    </tr>\n",
       "    <tr>\n",
       "      <td>Detergents_Paper</td>\n",
       "      <td>440.0</td>\n",
       "      <td>2881.493182</td>\n",
       "      <td>4767.854448</td>\n",
       "      <td>3.0</td>\n",
       "      <td>256.75</td>\n",
       "      <td>816.5</td>\n",
       "      <td>3922.00</td>\n",
       "      <td>40827.0</td>\n",
       "    </tr>\n",
       "    <tr>\n",
       "      <td>Delicassen</td>\n",
       "      <td>440.0</td>\n",
       "      <td>1524.870455</td>\n",
       "      <td>2820.105937</td>\n",
       "      <td>3.0</td>\n",
       "      <td>408.25</td>\n",
       "      <td>965.5</td>\n",
       "      <td>1820.25</td>\n",
       "      <td>47943.0</td>\n",
       "    </tr>\n",
       "  </tbody>\n",
       "</table>\n",
       "</div>"
      ],
      "text/plain": [
       "                  count          mean           std   min      25%     50%  \\\n",
       "Fresh             440.0  12000.297727  12647.328865   3.0  3127.75  8504.0   \n",
       "Milk              440.0   5796.265909   7380.377175  55.0  1533.00  3627.0   \n",
       "Grocery           440.0   7951.277273   9503.162829   3.0  2153.00  4755.5   \n",
       "Frozen            440.0   3071.931818   4854.673333  25.0   742.25  1526.0   \n",
       "Detergents_Paper  440.0   2881.493182   4767.854448   3.0   256.75   816.5   \n",
       "Delicassen        440.0   1524.870455   2820.105937   3.0   408.25   965.5   \n",
       "\n",
       "                       75%       max  \n",
       "Fresh             16933.75  112151.0  \n",
       "Milk               7190.25   73498.0  \n",
       "Grocery           10655.75   92780.0  \n",
       "Frozen             3554.25   60869.0  \n",
       "Detergents_Paper   3922.00   40827.0  \n",
       "Delicassen         1820.25   47943.0  "
      ]
     },
     "execution_count": 97,
     "metadata": {},
     "output_type": "execute_result"
    }
   ],
   "source": [
    "data[['Fresh','Milk','Grocery','Frozen','Detergents_Paper', 'Delicassen']].describe().T"
   ]
  },
  {
   "cell_type": "code",
   "execution_count": 99,
   "metadata": {},
   "outputs": [
    {
     "data": {
      "text/html": [
       "<div>\n",
       "<style scoped>\n",
       "    .dataframe tbody tr th:only-of-type {\n",
       "        vertical-align: middle;\n",
       "    }\n",
       "\n",
       "    .dataframe tbody tr th {\n",
       "        vertical-align: top;\n",
       "    }\n",
       "\n",
       "    .dataframe thead th {\n",
       "        text-align: right;\n",
       "    }\n",
       "</style>\n",
       "<table border=\"1\" class=\"dataframe\">\n",
       "  <thead>\n",
       "    <tr style=\"text-align: right;\">\n",
       "      <th></th>\n",
       "      <th>count</th>\n",
       "      <th>mean</th>\n",
       "      <th>std</th>\n",
       "      <th>min</th>\n",
       "      <th>25%</th>\n",
       "      <th>50%</th>\n",
       "      <th>75%</th>\n",
       "      <th>max</th>\n",
       "    </tr>\n",
       "  </thead>\n",
       "  <tbody>\n",
       "    <tr>\n",
       "      <td>Fresh</td>\n",
       "      <td>59.0</td>\n",
       "      <td>12902.254237</td>\n",
       "      <td>12342.008901</td>\n",
       "      <td>514.0</td>\n",
       "      <td>4437.5</td>\n",
       "      <td>8656.0</td>\n",
       "      <td>18135.0</td>\n",
       "      <td>56083.0</td>\n",
       "    </tr>\n",
       "    <tr>\n",
       "      <td>Milk</td>\n",
       "      <td>59.0</td>\n",
       "      <td>3870.203390</td>\n",
       "      <td>4298.321195</td>\n",
       "      <td>258.0</td>\n",
       "      <td>1071.0</td>\n",
       "      <td>2280.0</td>\n",
       "      <td>4995.5</td>\n",
       "      <td>23527.0</td>\n",
       "    </tr>\n",
       "    <tr>\n",
       "      <td>Grocery</td>\n",
       "      <td>59.0</td>\n",
       "      <td>4026.135593</td>\n",
       "      <td>3629.644143</td>\n",
       "      <td>489.0</td>\n",
       "      <td>1620.0</td>\n",
       "      <td>2576.0</td>\n",
       "      <td>5172.5</td>\n",
       "      <td>16966.0</td>\n",
       "    </tr>\n",
       "    <tr>\n",
       "      <td>Frozen</td>\n",
       "      <td>59.0</td>\n",
       "      <td>3127.322034</td>\n",
       "      <td>3276.460124</td>\n",
       "      <td>91.0</td>\n",
       "      <td>966.0</td>\n",
       "      <td>1859.0</td>\n",
       "      <td>4479.0</td>\n",
       "      <td>18711.0</td>\n",
       "    </tr>\n",
       "    <tr>\n",
       "      <td>Detergents_Paper</td>\n",
       "      <td>59.0</td>\n",
       "      <td>950.525424</td>\n",
       "      <td>1305.907616</td>\n",
       "      <td>5.0</td>\n",
       "      <td>237.0</td>\n",
       "      <td>412.0</td>\n",
       "      <td>874.0</td>\n",
       "      <td>5828.0</td>\n",
       "    </tr>\n",
       "    <tr>\n",
       "      <td>Delicassen</td>\n",
       "      <td>59.0</td>\n",
       "      <td>1197.152542</td>\n",
       "      <td>1219.945304</td>\n",
       "      <td>7.0</td>\n",
       "      <td>374.0</td>\n",
       "      <td>749.0</td>\n",
       "      <td>1621.5</td>\n",
       "      <td>6854.0</td>\n",
       "    </tr>\n",
       "  </tbody>\n",
       "</table>\n",
       "</div>"
      ],
      "text/plain": [
       "                  count          mean           std    min     25%     50%  \\\n",
       "Fresh              59.0  12902.254237  12342.008901  514.0  4437.5  8656.0   \n",
       "Milk               59.0   3870.203390   4298.321195  258.0  1071.0  2280.0   \n",
       "Grocery            59.0   4026.135593   3629.644143  489.0  1620.0  2576.0   \n",
       "Frozen             59.0   3127.322034   3276.460124   91.0   966.0  1859.0   \n",
       "Detergents_Paper   59.0    950.525424   1305.907616    5.0   237.0   412.0   \n",
       "Delicassen         59.0   1197.152542   1219.945304    7.0   374.0   749.0   \n",
       "\n",
       "                      75%      max  \n",
       "Fresh             18135.0  56083.0  \n",
       "Milk               4995.5  23527.0  \n",
       "Grocery            5172.5  16966.0  \n",
       "Frozen             4479.0  18711.0  \n",
       "Detergents_Paper    874.0   5828.0  \n",
       "Delicassen         1621.5   6854.0  "
      ]
     },
     "execution_count": 99,
     "metadata": {},
     "output_type": "execute_result"
    }
   ],
   "source": [
    "data.loc[c1r1,['Fresh','Milk','Grocery','Frozen','Detergents_Paper', 'Delicassen']].describe().T"
   ]
  },
  {
   "cell_type": "markdown",
   "metadata": {},
   "source": [
    "Fresh, Frozen以外はあまり買わないグループ。"
   ]
  },
  {
   "cell_type": "code",
   "execution_count": 100,
   "metadata": {},
   "outputs": [
    {
     "data": {
      "text/html": [
       "<div>\n",
       "<style scoped>\n",
       "    .dataframe tbody tr th:only-of-type {\n",
       "        vertical-align: middle;\n",
       "    }\n",
       "\n",
       "    .dataframe tbody tr th {\n",
       "        vertical-align: top;\n",
       "    }\n",
       "\n",
       "    .dataframe thead th {\n",
       "        text-align: right;\n",
       "    }\n",
       "</style>\n",
       "<table border=\"1\" class=\"dataframe\">\n",
       "  <thead>\n",
       "    <tr style=\"text-align: right;\">\n",
       "      <th></th>\n",
       "      <th>count</th>\n",
       "      <th>mean</th>\n",
       "      <th>std</th>\n",
       "      <th>min</th>\n",
       "      <th>25%</th>\n",
       "      <th>50%</th>\n",
       "      <th>75%</th>\n",
       "      <th>max</th>\n",
       "    </tr>\n",
       "  </thead>\n",
       "  <tbody>\n",
       "    <tr>\n",
       "      <td>Fresh</td>\n",
       "      <td>28.0</td>\n",
       "      <td>11650.535714</td>\n",
       "      <td>8969.362752</td>\n",
       "      <td>3.0</td>\n",
       "      <td>4938.25</td>\n",
       "      <td>9787.0</td>\n",
       "      <td>17031.50</td>\n",
       "      <td>32717.0</td>\n",
       "    </tr>\n",
       "    <tr>\n",
       "      <td>Milk</td>\n",
       "      <td>28.0</td>\n",
       "      <td>2304.250000</td>\n",
       "      <td>2968.628697</td>\n",
       "      <td>333.0</td>\n",
       "      <td>1146.00</td>\n",
       "      <td>1560.5</td>\n",
       "      <td>2344.75</td>\n",
       "      <td>16784.0</td>\n",
       "    </tr>\n",
       "    <tr>\n",
       "      <td>Grocery</td>\n",
       "      <td>28.0</td>\n",
       "      <td>4395.500000</td>\n",
       "      <td>3048.298815</td>\n",
       "      <td>1330.0</td>\n",
       "      <td>2373.75</td>\n",
       "      <td>3352.0</td>\n",
       "      <td>5527.50</td>\n",
       "      <td>13626.0</td>\n",
       "    </tr>\n",
       "    <tr>\n",
       "      <td>Frozen</td>\n",
       "      <td>28.0</td>\n",
       "      <td>5745.035714</td>\n",
       "      <td>11454.478518</td>\n",
       "      <td>264.0</td>\n",
       "      <td>962.25</td>\n",
       "      <td>2696.5</td>\n",
       "      <td>4617.00</td>\n",
       "      <td>60869.0</td>\n",
       "    </tr>\n",
       "    <tr>\n",
       "      <td>Detergents_Paper</td>\n",
       "      <td>28.0</td>\n",
       "      <td>482.714286</td>\n",
       "      <td>425.310506</td>\n",
       "      <td>15.0</td>\n",
       "      <td>182.75</td>\n",
       "      <td>325.0</td>\n",
       "      <td>707.00</td>\n",
       "      <td>1679.0</td>\n",
       "    </tr>\n",
       "    <tr>\n",
       "      <td>Delicassen</td>\n",
       "      <td>28.0</td>\n",
       "      <td>1105.892857</td>\n",
       "      <td>1056.778800</td>\n",
       "      <td>51.0</td>\n",
       "      <td>567.25</td>\n",
       "      <td>883.0</td>\n",
       "      <td>1146.00</td>\n",
       "      <td>5609.0</td>\n",
       "    </tr>\n",
       "  </tbody>\n",
       "</table>\n",
       "</div>"
      ],
      "text/plain": [
       "                  count          mean           std     min      25%     50%  \\\n",
       "Fresh              28.0  11650.535714   8969.362752     3.0  4938.25  9787.0   \n",
       "Milk               28.0   2304.250000   2968.628697   333.0  1146.00  1560.5   \n",
       "Grocery            28.0   4395.500000   3048.298815  1330.0  2373.75  3352.0   \n",
       "Frozen             28.0   5745.035714  11454.478518   264.0   962.25  2696.5   \n",
       "Detergents_Paper   28.0    482.714286    425.310506    15.0   182.75   325.0   \n",
       "Delicassen         28.0   1105.892857   1056.778800    51.0   567.25   883.0   \n",
       "\n",
       "                       75%      max  \n",
       "Fresh             17031.50  32717.0  \n",
       "Milk               2344.75  16784.0  \n",
       "Grocery            5527.50  13626.0  \n",
       "Frozen             4617.00  60869.0  \n",
       "Detergents_Paper    707.00   1679.0  \n",
       "Delicassen         1146.00   5609.0  "
      ]
     },
     "execution_count": 100,
     "metadata": {},
     "output_type": "execute_result"
    }
   ],
   "source": [
    "data.loc[c1r2,['Fresh','Milk','Grocery','Frozen','Detergents_Paper', 'Delicassen']].describe().T"
   ]
  },
  {
   "cell_type": "markdown",
   "metadata": {},
   "source": [
    "Frozenをよく買う、Freshは平均程度、Milk, Grocery, Detergents_Paper, Dilicassenはかわないグループ。"
   ]
  },
  {
   "cell_type": "code",
   "execution_count": 101,
   "metadata": {},
   "outputs": [
    {
     "data": {
      "text/html": [
       "<div>\n",
       "<style scoped>\n",
       "    .dataframe tbody tr th:only-of-type {\n",
       "        vertical-align: middle;\n",
       "    }\n",
       "\n",
       "    .dataframe tbody tr th {\n",
       "        vertical-align: top;\n",
       "    }\n",
       "\n",
       "    .dataframe thead th {\n",
       "        text-align: right;\n",
       "    }\n",
       "</style>\n",
       "<table border=\"1\" class=\"dataframe\">\n",
       "  <thead>\n",
       "    <tr style=\"text-align: right;\">\n",
       "      <th></th>\n",
       "      <th>count</th>\n",
       "      <th>mean</th>\n",
       "      <th>std</th>\n",
       "      <th>min</th>\n",
       "      <th>25%</th>\n",
       "      <th>50%</th>\n",
       "      <th>75%</th>\n",
       "      <th>max</th>\n",
       "    </tr>\n",
       "  </thead>\n",
       "  <tbody>\n",
       "    <tr>\n",
       "      <td>Fresh</td>\n",
       "      <td>211.0</td>\n",
       "      <td>13878.052133</td>\n",
       "      <td>14746.572913</td>\n",
       "      <td>3.0</td>\n",
       "      <td>3702.5</td>\n",
       "      <td>9612.0</td>\n",
       "      <td>18821.0</td>\n",
       "      <td>112151.0</td>\n",
       "    </tr>\n",
       "    <tr>\n",
       "      <td>Milk</td>\n",
       "      <td>211.0</td>\n",
       "      <td>3486.981043</td>\n",
       "      <td>4508.505269</td>\n",
       "      <td>55.0</td>\n",
       "      <td>1188.5</td>\n",
       "      <td>2247.0</td>\n",
       "      <td>4205.0</td>\n",
       "      <td>43950.0</td>\n",
       "    </tr>\n",
       "    <tr>\n",
       "      <td>Grocery</td>\n",
       "      <td>211.0</td>\n",
       "      <td>3886.734597</td>\n",
       "      <td>3593.506056</td>\n",
       "      <td>3.0</td>\n",
       "      <td>1666.0</td>\n",
       "      <td>2642.0</td>\n",
       "      <td>4927.5</td>\n",
       "      <td>21042.0</td>\n",
       "    </tr>\n",
       "    <tr>\n",
       "      <td>Frozen</td>\n",
       "      <td>211.0</td>\n",
       "      <td>3656.900474</td>\n",
       "      <td>4956.590848</td>\n",
       "      <td>25.0</td>\n",
       "      <td>779.0</td>\n",
       "      <td>1960.0</td>\n",
       "      <td>4542.5</td>\n",
       "      <td>36534.0</td>\n",
       "    </tr>\n",
       "    <tr>\n",
       "      <td>Detergents_Paper</td>\n",
       "      <td>211.0</td>\n",
       "      <td>786.682464</td>\n",
       "      <td>1099.970640</td>\n",
       "      <td>3.0</td>\n",
       "      <td>176.5</td>\n",
       "      <td>375.0</td>\n",
       "      <td>948.5</td>\n",
       "      <td>6907.0</td>\n",
       "    </tr>\n",
       "    <tr>\n",
       "      <td>Delicassen</td>\n",
       "      <td>211.0</td>\n",
       "      <td>1518.284360</td>\n",
       "      <td>3663.183304</td>\n",
       "      <td>3.0</td>\n",
       "      <td>378.5</td>\n",
       "      <td>823.0</td>\n",
       "      <td>1582.0</td>\n",
       "      <td>47943.0</td>\n",
       "    </tr>\n",
       "  </tbody>\n",
       "</table>\n",
       "</div>"
      ],
      "text/plain": [
       "                  count          mean           std   min     25%     50%  \\\n",
       "Fresh             211.0  13878.052133  14746.572913   3.0  3702.5  9612.0   \n",
       "Milk              211.0   3486.981043   4508.505269  55.0  1188.5  2247.0   \n",
       "Grocery           211.0   3886.734597   3593.506056   3.0  1666.0  2642.0   \n",
       "Frozen            211.0   3656.900474   4956.590848  25.0   779.0  1960.0   \n",
       "Detergents_Paper  211.0    786.682464   1099.970640   3.0   176.5   375.0   \n",
       "Delicassen        211.0   1518.284360   3663.183304   3.0   378.5   823.0   \n",
       "\n",
       "                      75%       max  \n",
       "Fresh             18821.0  112151.0  \n",
       "Milk               4205.0   43950.0  \n",
       "Grocery            4927.5   21042.0  \n",
       "Frozen             4542.5   36534.0  \n",
       "Detergents_Paper    948.5    6907.0  \n",
       "Delicassen         1582.0   47943.0  "
      ]
     },
     "execution_count": 101,
     "metadata": {},
     "output_type": "execute_result"
    }
   ],
   "source": [
    "data.loc[c1r3,['Fresh','Milk','Grocery','Frozen','Detergents_Paper', 'Delicassen']].describe().T"
   ]
  },
  {
   "cell_type": "markdown",
   "metadata": {},
   "source": [
    "どの品も平均程度に買うグループ。一番多い。"
   ]
  },
  {
   "cell_type": "code",
   "execution_count": 102,
   "metadata": {},
   "outputs": [
    {
     "data": {
      "text/html": [
       "<div>\n",
       "<style scoped>\n",
       "    .dataframe tbody tr th:only-of-type {\n",
       "        vertical-align: middle;\n",
       "    }\n",
       "\n",
       "    .dataframe tbody tr th {\n",
       "        vertical-align: top;\n",
       "    }\n",
       "\n",
       "    .dataframe thead th {\n",
       "        text-align: right;\n",
       "    }\n",
       "</style>\n",
       "<table border=\"1\" class=\"dataframe\">\n",
       "  <thead>\n",
       "    <tr style=\"text-align: right;\">\n",
       "      <th></th>\n",
       "      <th>count</th>\n",
       "      <th>mean</th>\n",
       "      <th>std</th>\n",
       "      <th>min</th>\n",
       "      <th>25%</th>\n",
       "      <th>50%</th>\n",
       "      <th>75%</th>\n",
       "      <th>max</th>\n",
       "    </tr>\n",
       "  </thead>\n",
       "  <tbody>\n",
       "    <tr>\n",
       "      <td>Fresh</td>\n",
       "      <td>18.0</td>\n",
       "      <td>5200.000000</td>\n",
       "      <td>5415.521495</td>\n",
       "      <td>18.0</td>\n",
       "      <td>2378.25</td>\n",
       "      <td>2926.0</td>\n",
       "      <td>5988.00</td>\n",
       "      <td>20782.0</td>\n",
       "    </tr>\n",
       "    <tr>\n",
       "      <td>Milk</td>\n",
       "      <td>18.0</td>\n",
       "      <td>10784.000000</td>\n",
       "      <td>6609.221463</td>\n",
       "      <td>2527.0</td>\n",
       "      <td>6253.25</td>\n",
       "      <td>8866.0</td>\n",
       "      <td>13112.25</td>\n",
       "      <td>28326.0</td>\n",
       "    </tr>\n",
       "    <tr>\n",
       "      <td>Grocery</td>\n",
       "      <td>18.0</td>\n",
       "      <td>18471.944444</td>\n",
       "      <td>10414.687844</td>\n",
       "      <td>5265.0</td>\n",
       "      <td>10634.25</td>\n",
       "      <td>16106.0</td>\n",
       "      <td>23478.75</td>\n",
       "      <td>39694.0</td>\n",
       "    </tr>\n",
       "    <tr>\n",
       "      <td>Frozen</td>\n",
       "      <td>18.0</td>\n",
       "      <td>2584.111111</td>\n",
       "      <td>2424.774577</td>\n",
       "      <td>61.0</td>\n",
       "      <td>923.50</td>\n",
       "      <td>1522.0</td>\n",
       "      <td>3843.00</td>\n",
       "      <td>8321.0</td>\n",
       "    </tr>\n",
       "    <tr>\n",
       "      <td>Detergents_Paper</td>\n",
       "      <td>18.0</td>\n",
       "      <td>8225.277778</td>\n",
       "      <td>5515.878798</td>\n",
       "      <td>788.0</td>\n",
       "      <td>4818.25</td>\n",
       "      <td>6177.0</td>\n",
       "      <td>11804.75</td>\n",
       "      <td>19410.0</td>\n",
       "    </tr>\n",
       "    <tr>\n",
       "      <td>Delicassen</td>\n",
       "      <td>18.0</td>\n",
       "      <td>1871.944444</td>\n",
       "      <td>1626.486667</td>\n",
       "      <td>120.0</td>\n",
       "      <td>746.00</td>\n",
       "      <td>1414.0</td>\n",
       "      <td>2456.50</td>\n",
       "      <td>6372.0</td>\n",
       "    </tr>\n",
       "  </tbody>\n",
       "</table>\n",
       "</div>"
      ],
      "text/plain": [
       "                  count          mean           std     min       25%  \\\n",
       "Fresh              18.0   5200.000000   5415.521495    18.0   2378.25   \n",
       "Milk               18.0  10784.000000   6609.221463  2527.0   6253.25   \n",
       "Grocery            18.0  18471.944444  10414.687844  5265.0  10634.25   \n",
       "Frozen             18.0   2584.111111   2424.774577    61.0    923.50   \n",
       "Detergents_Paper   18.0   8225.277778   5515.878798   788.0   4818.25   \n",
       "Delicassen         18.0   1871.944444   1626.486667   120.0    746.00   \n",
       "\n",
       "                      50%       75%      max  \n",
       "Fresh              2926.0   5988.00  20782.0  \n",
       "Milk               8866.0  13112.25  28326.0  \n",
       "Grocery           16106.0  23478.75  39694.0  \n",
       "Frozen             1522.0   3843.00   8321.0  \n",
       "Detergents_Paper   6177.0  11804.75  19410.0  \n",
       "Delicassen         1414.0   2456.50   6372.0  "
      ]
     },
     "execution_count": 102,
     "metadata": {},
     "output_type": "execute_result"
    }
   ],
   "source": [
    "data.loc[c2r1,['Fresh','Milk','Grocery','Frozen','Detergents_Paper', 'Delicassen']].describe().T"
   ]
  },
  {
   "cell_type": "markdown",
   "metadata": {},
   "source": [
    "Milk, Grocery, Detergents_Paperをよく買うグループ。"
   ]
  },
  {
   "cell_type": "code",
   "execution_count": 103,
   "metadata": {},
   "outputs": [
    {
     "data": {
      "text/html": [
       "<div>\n",
       "<style scoped>\n",
       "    .dataframe tbody tr th:only-of-type {\n",
       "        vertical-align: middle;\n",
       "    }\n",
       "\n",
       "    .dataframe tbody tr th {\n",
       "        vertical-align: top;\n",
       "    }\n",
       "\n",
       "    .dataframe thead th {\n",
       "        text-align: right;\n",
       "    }\n",
       "</style>\n",
       "<table border=\"1\" class=\"dataframe\">\n",
       "  <thead>\n",
       "    <tr style=\"text-align: right;\">\n",
       "      <th></th>\n",
       "      <th>count</th>\n",
       "      <th>mean</th>\n",
       "      <th>std</th>\n",
       "      <th>min</th>\n",
       "      <th>25%</th>\n",
       "      <th>50%</th>\n",
       "      <th>75%</th>\n",
       "      <th>max</th>\n",
       "    </tr>\n",
       "  </thead>\n",
       "  <tbody>\n",
       "    <tr>\n",
       "      <td>Fresh</td>\n",
       "      <td>19.0</td>\n",
       "      <td>7289.789474</td>\n",
       "      <td>6867.934548</td>\n",
       "      <td>161.0</td>\n",
       "      <td>2368.0</td>\n",
       "      <td>6468.0</td>\n",
       "      <td>9162.0</td>\n",
       "      <td>27082.0</td>\n",
       "    </tr>\n",
       "    <tr>\n",
       "      <td>Milk</td>\n",
       "      <td>19.0</td>\n",
       "      <td>9190.789474</td>\n",
       "      <td>6611.354136</td>\n",
       "      <td>928.0</td>\n",
       "      <td>4148.5</td>\n",
       "      <td>6817.0</td>\n",
       "      <td>13127.5</td>\n",
       "      <td>25071.0</td>\n",
       "    </tr>\n",
       "    <tr>\n",
       "      <td>Grocery</td>\n",
       "      <td>19.0</td>\n",
       "      <td>16326.315789</td>\n",
       "      <td>14035.453775</td>\n",
       "      <td>2743.0</td>\n",
       "      <td>9318.5</td>\n",
       "      <td>12469.0</td>\n",
       "      <td>19785.5</td>\n",
       "      <td>67298.0</td>\n",
       "    </tr>\n",
       "    <tr>\n",
       "      <td>Frozen</td>\n",
       "      <td>19.0</td>\n",
       "      <td>1540.578947</td>\n",
       "      <td>2473.266471</td>\n",
       "      <td>131.0</td>\n",
       "      <td>639.5</td>\n",
       "      <td>934.0</td>\n",
       "      <td>1410.0</td>\n",
       "      <td>11559.0</td>\n",
       "    </tr>\n",
       "    <tr>\n",
       "      <td>Detergents_Paper</td>\n",
       "      <td>19.0</td>\n",
       "      <td>8410.263158</td>\n",
       "      <td>8286.748255</td>\n",
       "      <td>332.0</td>\n",
       "      <td>3900.0</td>\n",
       "      <td>6236.0</td>\n",
       "      <td>9837.5</td>\n",
       "      <td>38102.0</td>\n",
       "    </tr>\n",
       "    <tr>\n",
       "      <td>Delicassen</td>\n",
       "      <td>19.0</td>\n",
       "      <td>1239.000000</td>\n",
       "      <td>1065.438042</td>\n",
       "      <td>59.0</td>\n",
       "      <td>392.5</td>\n",
       "      <td>1037.0</td>\n",
       "      <td>1815.0</td>\n",
       "      <td>3508.0</td>\n",
       "    </tr>\n",
       "  </tbody>\n",
       "</table>\n",
       "</div>"
      ],
      "text/plain": [
       "                  count          mean           std     min     25%      50%  \\\n",
       "Fresh              19.0   7289.789474   6867.934548   161.0  2368.0   6468.0   \n",
       "Milk               19.0   9190.789474   6611.354136   928.0  4148.5   6817.0   \n",
       "Grocery            19.0  16326.315789  14035.453775  2743.0  9318.5  12469.0   \n",
       "Frozen             19.0   1540.578947   2473.266471   131.0   639.5    934.0   \n",
       "Detergents_Paper   19.0   8410.263158   8286.748255   332.0  3900.0   6236.0   \n",
       "Delicassen         19.0   1239.000000   1065.438042    59.0   392.5   1037.0   \n",
       "\n",
       "                      75%      max  \n",
       "Fresh              9162.0  27082.0  \n",
       "Milk              13127.5  25071.0  \n",
       "Grocery           19785.5  67298.0  \n",
       "Frozen             1410.0  11559.0  \n",
       "Detergents_Paper   9837.5  38102.0  \n",
       "Delicassen         1815.0   3508.0  "
      ]
     },
     "execution_count": 103,
     "metadata": {},
     "output_type": "execute_result"
    }
   ],
   "source": [
    "data.loc[c2r2,['Fresh','Milk','Grocery','Frozen','Detergents_Paper', 'Delicassen']].describe().T"
   ]
  },
  {
   "cell_type": "markdown",
   "metadata": {},
   "source": [
    "Grocery, Detergents_Paperをよく買うグループ。"
   ]
  },
  {
   "cell_type": "code",
   "execution_count": 104,
   "metadata": {},
   "outputs": [
    {
     "data": {
      "text/html": [
       "<div>\n",
       "<style scoped>\n",
       "    .dataframe tbody tr th:only-of-type {\n",
       "        vertical-align: middle;\n",
       "    }\n",
       "\n",
       "    .dataframe tbody tr th {\n",
       "        vertical-align: top;\n",
       "    }\n",
       "\n",
       "    .dataframe thead th {\n",
       "        text-align: right;\n",
       "    }\n",
       "</style>\n",
       "<table border=\"1\" class=\"dataframe\">\n",
       "  <thead>\n",
       "    <tr style=\"text-align: right;\">\n",
       "      <th></th>\n",
       "      <th>count</th>\n",
       "      <th>mean</th>\n",
       "      <th>std</th>\n",
       "      <th>min</th>\n",
       "      <th>25%</th>\n",
       "      <th>50%</th>\n",
       "      <th>75%</th>\n",
       "      <th>max</th>\n",
       "    </tr>\n",
       "  </thead>\n",
       "  <tbody>\n",
       "    <tr>\n",
       "      <td>Fresh</td>\n",
       "      <td>105.0</td>\n",
       "      <td>9831.504762</td>\n",
       "      <td>9635.394129</td>\n",
       "      <td>23.0</td>\n",
       "      <td>2343.0</td>\n",
       "      <td>7362.0</td>\n",
       "      <td>15076.0</td>\n",
       "      <td>44466.0</td>\n",
       "    </tr>\n",
       "    <tr>\n",
       "      <td>Milk</td>\n",
       "      <td>105.0</td>\n",
       "      <td>10981.009524</td>\n",
       "      <td>10574.827178</td>\n",
       "      <td>1124.0</td>\n",
       "      <td>6128.0</td>\n",
       "      <td>7845.0</td>\n",
       "      <td>11114.0</td>\n",
       "      <td>73498.0</td>\n",
       "    </tr>\n",
       "    <tr>\n",
       "      <td>Grocery</td>\n",
       "      <td>105.0</td>\n",
       "      <td>15953.809524</td>\n",
       "      <td>12298.935356</td>\n",
       "      <td>4523.0</td>\n",
       "      <td>9170.0</td>\n",
       "      <td>12121.0</td>\n",
       "      <td>19805.0</td>\n",
       "      <td>92780.0</td>\n",
       "    </tr>\n",
       "    <tr>\n",
       "      <td>Frozen</td>\n",
       "      <td>105.0</td>\n",
       "      <td>1513.200000</td>\n",
       "      <td>1504.498737</td>\n",
       "      <td>33.0</td>\n",
       "      <td>437.0</td>\n",
       "      <td>1059.0</td>\n",
       "      <td>2194.0</td>\n",
       "      <td>8132.0</td>\n",
       "    </tr>\n",
       "    <tr>\n",
       "      <td>Detergents_Paper</td>\n",
       "      <td>105.0</td>\n",
       "      <td>6899.238095</td>\n",
       "      <td>6022.091110</td>\n",
       "      <td>523.0</td>\n",
       "      <td>3537.0</td>\n",
       "      <td>5121.0</td>\n",
       "      <td>7677.0</td>\n",
       "      <td>40827.0</td>\n",
       "    </tr>\n",
       "    <tr>\n",
       "      <td>Delicassen</td>\n",
       "      <td>105.0</td>\n",
       "      <td>1826.209524</td>\n",
       "      <td>2119.052222</td>\n",
       "      <td>3.0</td>\n",
       "      <td>545.0</td>\n",
       "      <td>1386.0</td>\n",
       "      <td>2158.0</td>\n",
       "      <td>16523.0</td>\n",
       "    </tr>\n",
       "  </tbody>\n",
       "</table>\n",
       "</div>"
      ],
      "text/plain": [
       "                  count          mean           std     min     25%      50%  \\\n",
       "Fresh             105.0   9831.504762   9635.394129    23.0  2343.0   7362.0   \n",
       "Milk              105.0  10981.009524  10574.827178  1124.0  6128.0   7845.0   \n",
       "Grocery           105.0  15953.809524  12298.935356  4523.0  9170.0  12121.0   \n",
       "Frozen            105.0   1513.200000   1504.498737    33.0   437.0   1059.0   \n",
       "Detergents_Paper  105.0   6899.238095   6022.091110   523.0  3537.0   5121.0   \n",
       "Delicassen        105.0   1826.209524   2119.052222     3.0   545.0   1386.0   \n",
       "\n",
       "                      75%      max  \n",
       "Fresh             15076.0  44466.0  \n",
       "Milk              11114.0  73498.0  \n",
       "Grocery           19805.0  92780.0  \n",
       "Frozen             2194.0   8132.0  \n",
       "Detergents_Paper   7677.0  40827.0  \n",
       "Delicassen         2158.0  16523.0  "
      ]
     },
     "execution_count": 104,
     "metadata": {},
     "output_type": "execute_result"
    }
   ],
   "source": [
    "data.loc[c2r3,['Fresh','Milk','Grocery','Frozen','Detergents_Paper', 'Delicassen']].describe().T"
   ]
  },
  {
   "cell_type": "markdown",
   "metadata": {},
   "source": [
    "Milk, Grocery, Detergents_Paperをよく買うグループ。  \n",
    "全体の25％程度で2番目に多い。"
   ]
  },
  {
   "cell_type": "markdown",
   "metadata": {},
   "source": [
    "#### DBSCAN"
   ]
  },
  {
   "cell_type": "code",
   "execution_count": 26,
   "metadata": {},
   "outputs": [],
   "source": [
    "from sklearn import cluster, mixture, datasets"
   ]
  },
  {
   "cell_type": "code",
   "execution_count": 27,
   "metadata": {},
   "outputs": [],
   "source": [
    "dataset1 = datasets.make_blobs(n_samples=1000, random_state=10, centers=6, cluster_std=1.2)[0]\n",
    "dataset2 = datasets.make_moons(n_samples=1000, noise=0.05)[0]"
   ]
  },
  {
   "cell_type": "code",
   "execution_count": 28,
   "metadata": {},
   "outputs": [],
   "source": [
    "def cluster_plots(set1, set2, colours1 = 'gray', colours2 = 'gray', title1 = 'Dataset 1', title2 = 'Dataset 2'):\n",
    " \n",
    "    fig,(ax1,ax2) = plt.subplots(1, 2)\n",
    "    fig.set_size_inches(6, 3)\n",
    " \n",
    "    ax1.set_title(title1,fontsize=14)\n",
    "    ax1.set_xlim(min(set1[:,0]), max(set1[:,0]))\n",
    "    ax1.set_ylim(min(set1[:,1]), max(set1[:,1]))\n",
    "    ax1.scatter(set1[:, 0], set1[:, 1],s=8,lw=0,c= colours1)\n",
    " \n",
    "    ax2.set_title(title2,fontsize=14)\n",
    "    ax2.set_xlim(min(set2[:,0]), max(set2[:,0]))\n",
    "    ax2.set_ylim(min(set2[:,1]), max(set2[:,1]))\n",
    "    ax2.scatter(set2[:, 0], set2[:, 1],s=8,lw=0,c=colours2)\n",
    " \n",
    "    fig.tight_layout()\n",
    "    plt.show()"
   ]
  },
  {
   "cell_type": "code",
   "execution_count": 29,
   "metadata": {
    "scrolled": true
   },
   "outputs": [
    {
     "data": {
      "image/png": "[encoded data removed]",
      "text/plain": [
       "<Figure size 432x216 with 2 Axes>"
      ]
     },
     "metadata": {
      "needs_background": "light"
     },
     "output_type": "display_data"
    }
   ],
   "source": [
    "cluster_plots(dataset1,  dataset2)"
   ]
  },
  {
   "cell_type": "code",
   "execution_count": 30,
   "metadata": {},
   "outputs": [],
   "source": [
    "dbscan_dataset1 = cluster.DBSCAN(eps=1, min_samples=5, metric='euclidean').fit_predict(dataset1)\n",
    "dbscan_dataset2 = cluster.DBSCAN(eps=1, min_samples=5, metric='euclidean').fit_predict(dataset2)"
   ]
  },
  {
   "cell_type": "code",
   "execution_count": 31,
   "metadata": {
    "scrolled": true
   },
   "outputs": [
    {
     "data": {
      "image/png": "[encoded data removed]",
      "text/plain": [
       "<Figure size 432x216 with 2 Axes>"
      ]
     },
     "metadata": {
      "needs_background": "light"
     },
     "output_type": "display_data"
    }
   ],
   "source": [
    "cluster_plots(dataset1, dataset2, dbscan_dataset1, dbscan_dataset2)"
   ]
  },
  {
   "cell_type": "code",
   "execution_count": 32,
   "metadata": {},
   "outputs": [],
   "source": [
    "dbscan_dataset1 = cluster.DBSCAN(eps=0.1, min_samples=5, metric='euclidean').fit_predict(dataset1)\n",
    "dbscan_dataset2 = cluster.DBSCAN(eps=0.1, min_samples=5, metric='euclidean').fit_predict(dataset2)"
   ]
  },
  {
   "cell_type": "code",
   "execution_count": 33,
   "metadata": {},
   "outputs": [
    {
     "data": {
      "image/png": "[encoded data removed]",
      "text/plain": [
       "<Figure size 432x216 with 2 Axes>"
      ]
     },
     "metadata": {
      "needs_background": "light"
     },
     "output_type": "display_data"
    }
   ],
   "source": [
    "cluster_plots(dataset1, dataset2, dbscan_dataset1, dbscan_dataset2)"
   ]
  },
  {
   "cell_type": "code",
   "execution_count": 34,
   "metadata": {
    "scrolled": true
   },
   "outputs": [
    {
     "data": {
      "text/plain": [
       "1000"
      ]
     },
     "execution_count": 34,
     "metadata": {},
     "output_type": "execute_result"
    }
   ],
   "source": [
    "np.sum(dbscan_dataset1==-1)"
   ]
  }
 ],
 "metadata": {
  "kernelspec": {
   "display_name": "Python 3",
   "language": "python",
   "name": "python3"
  },
  "language_info": {
   "codemirror_mode": {
    "name": "ipython",
    "version": 3
   },
   "file_extension": ".py",
   "mimetype": "text/x-python",
   "name": "python",
   "nbconvert_exporter": "python",
   "pygments_lexer": "ipython3",
   "version": "3.7.4"
  }
 },
 "nbformat": 4,
 "nbformat_minor": 2
}
