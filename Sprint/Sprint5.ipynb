{
 "cells": [
  {
   "cell_type": "code",
   "execution_count": 1,
   "metadata": {},
   "outputs": [],
   "source": [
    "import numpy as np\n",
    "import scipy.stats as stats\n",
    "import matplotlib.pyplot as plt\n",
    "%matplotlib inline\n",
    "from sklearn.tree import DecisionTreeClassifier\n",
    "from sklearn.model_selection import train_test_split\n",
    "from sklearn.metrics import accuracy_score"
   ]
  },
  {
   "cell_type": "code",
   "execution_count": 2,
   "metadata": {},
   "outputs": [],
   "source": [
    "import pdb"
   ]
  },
  {
   "cell_type": "markdown",
   "metadata": {},
   "source": [
    "## 【問題1】不純度を求める関数\n",
    "ノード の ジニ不純度 を計算する関数を作成してください。ノード $ t $ に対するジニ不純度 $ I(t) $ は以下の数式で求まります。クラスが混じり合っているほどジニ不純度は高くなります。\n",
    "$$\n",
    "I(t) = 1-\\sum_{i=1}^{K}P^2(C_i|t) = 1-\\sum_{i=1}^{K}(\\frac{N_{t,i}}{N_{t,all}})^{2}\n",
    "$$"
   ]
  },
  {
   "cell_type": "markdown",
   "metadata": {},
   "source": [
    "## 【問題2】情報利得を求める関数\n",
    "次に、ノード間の 情報利得 を計算する関数を作成してください。問題1で作成したジニ不純度 $ I(t) $ を計算する関数を呼び出して使います。  \n",
    "情報利得 $ IG $ は以下の数式で求まります。うまく分けられている時ほど情報利得は大きくなります。  \n",
    "\n",
    "ここで分岐は2つのみであるため、分岐先を「左側のノード・右側のノード」と呼びます。  \n",
    "\n",
    "$$\n",
    "IG(p) = I(p)-\\frac{N_{left,all}}{N_{p,all}}I(left)-\\frac{N_{right,all}}{N_{p,all}}I(right)\n",
    "$$"
   ]
  },
  {
   "cell_type": "markdown",
   "metadata": {},
   "source": [
    "## 【問題3】学習\n",
    "空間の分割を行い、決定木のグラフを生成するコードを作成してください。今は深さ1の決定木なので、分割を1回だけ行います。ここでグラフを生成するとは、1回の分割の際の条件としてどの特徴量がいくつ以上の時とするかを求めるということです。  \n",
    "\n",
    "訓練データに対して全ての組み合わせの分割を行い、その中でノード間の情報利得が最大となる分割をそのノードの分割基準として記録します。  \n",
    "\n",
    "クラスが混ざらない不純度が0のノード、または指定された深さのノードが 葉ノード となります。葉ノードにはクラスを記録しておき、これを推定時に分類するクラスとします。クラスが混ざらない場合はそのままのクラスを記録し、混ざっている場合は多数決により決めます。"
   ]
  },
  {
   "cell_type": "markdown",
   "metadata": {},
   "source": [
    "## 【問題4】推定\n",
    "推定する仕組みを実装してください。ScratchDecesionTreeClassifierDepth1クラスの雛形に含まれるpredictメソッドに書き加えてください。  \n",
    "\n",
    "入力されたデータの値を学習した条件で判定していき、どの葉ノードに到達するかを見ます。葉ノードにはクラスが記録されているので、これが推定値となります。"
   ]
  },
  {
   "cell_type": "code",
   "execution_count": 3,
   "metadata": {},
   "outputs": [],
   "source": [
    "class ScratchDecesionTreeClassifierDepth1():\n",
    "   \n",
    "    def __init__(self, max_depth=1, verbose=False):\n",
    "        # ハイパーパラメータを属性として記録\n",
    "        self.max_depth = max_depth\n",
    "        self.verbose = verbose\n",
    "        \n",
    "        self.X, self.y = None, None\n",
    "        \n",
    "    def fit(self, X, y):\n",
    "        \n",
    "        self.X = X\n",
    "        self.y = y\n",
    "        root_labels, root_label_nums = np.unique(self.y, return_counts=True)\n",
    "        self.node_nums = root_label_nums\n",
    "        \n",
    "        max_ig = 0\n",
    "        self.col, self.value = 0, 0\n",
    "        self.under_label, self.over_label = None, None\n",
    "        \n",
    "        for i in range(self.X.shape[1]):\n",
    "            data = X[:,i]\n",
    "            thresholds = np.linspace(np.min(data), np.max(data), 5)\n",
    "            for threshold in thresholds:\n",
    "                under_idx = np.where(data<threshold)[0]\n",
    "                over_idx = np.where(data>=threshold)[0]\n",
    "                _, under_label_nums = np.unique(self.y[under_idx], return_counts=True)\n",
    "                _, over_label_nums = np.unique(self.y[over_idx], return_counts=True)\n",
    "                tmp_ig = self._info_gain(self.node_nums, under_label_nums, over_label_nums)\n",
    "                if max_ig < tmp_ig:\n",
    "                    max_ig = tmp_ig\n",
    "                    self.col, self.value = i, threshold\n",
    "                    self.under_label = stats.mode(self.y[under_idx])[0][0]\n",
    "                    self.over_label = stats.mode(self.y[over_idx])[0][0]\n",
    "                          \n",
    "                \n",
    "    def _gini(self, node):\n",
    "        if len(node) == 0:\n",
    "            return 0\n",
    "        return 1 - np.sum(node**2)/np.sum(node)**2\n",
    "    \n",
    "    def _info_gain(self, node, left, right):\n",
    "        if len(node) == 0:\n",
    "            return 0\n",
    "        ig = self._gini(node) - (np.sum(left)*self._gini(left) + np.sum(right*self._gini(right)))/np.sum(node)\n",
    "        return ig\n",
    "    \n",
    "    def predict(self, X):\n",
    "        y_pred = np.where(X[:,self.col]<self.value, self.under_label, self.over_label)\n",
    "        return y_pred"
   ]
  },
  {
   "cell_type": "markdown",
   "metadata": {},
   "source": [
    "## 【問題5】学習と推定\n",
    "機械学習スクラッチ入門のSprintで用意したシンプルデータセット2の2値分類に対してスクラッチ実装の学習と推定を行なってください。"
   ]
  },
  {
   "cell_type": "code",
   "execution_count": 4,
   "metadata": {},
   "outputs": [],
   "source": [
    "X = np.array([[-0.44699 , -2.8073  ],[-1.4621  , -2.4586  ],\n",
    "       [ 0.10645 ,  1.9242  ],[-3.5944  , -4.0112  ],\n",
    "       [-0.9888  ,  4.5718  ],[-3.1625  , -3.9606  ],\n",
    "       [ 0.56421 ,  0.72888 ],[-0.60216 ,  8.4636  ],\n",
    "       [-0.61251 , -0.75345 ],[-0.73535 , -2.2718  ],\n",
    "       [-0.80647 , -2.2135  ],[ 0.86291 ,  2.3946  ],\n",
    "       [-3.1108  ,  0.15394 ],[-2.9362  ,  2.5462  ],\n",
    "       [-0.57242 , -2.9915  ],[ 1.4771  ,  3.4896  ],\n",
    "       [ 0.58619 ,  0.37158 ],[ 0.6017  ,  4.3439  ],\n",
    "       [-2.1086  ,  8.3428  ],[-4.1013  , -4.353   ],\n",
    "       [-1.9948  , -1.3927  ],[ 0.35084 , -0.031994],\n",
    "       [ 0.96765 ,  7.8929  ],[-1.281   , 15.6824  ],\n",
    "       [ 0.96765 , 10.083   ],[ 1.3763  ,  1.3347  ],\n",
    "       [-2.234   , -2.5323  ],[-2.9452  , -1.8219  ],\n",
    "       [ 0.14654 , -0.28733 ],[ 0.5461  ,  5.8245  ],\n",
    "       [-0.65259 ,  9.3444  ],[ 0.59912 ,  5.3524  ],\n",
    "       [ 0.50214 , -0.31818 ],[-3.0603  , -3.6461  ],\n",
    "       [-6.6797  ,  0.67661 ],[-2.353   , -0.72261 ],\n",
    "       [ 1.1319  ,  2.4023  ],[-0.12243 ,  9.0162  ],\n",
    "       [-2.5677  , 13.1779  ],[ 0.057313,  5.4681  ]])\n",
    "y = np.array([0, 0, 0, 0, 0, 0, 0, 0, 0, 0, 0, 0, 0, 0, 0, 0, 0, 0, 0, 0, 1, 1,\n",
    "       1, 1, 1, 1, 1, 1, 1, 1, 1, 1, 1, 1, 1, 1, 1, 1, 1, 1])\n",
    "X_train, X_test, y_train, y_test = train_test_split(X, y, test_size=0.25)"
   ]
  },
  {
   "cell_type": "markdown",
   "metadata": {},
   "source": [
    "#### scratch"
   ]
  },
  {
   "cell_type": "code",
   "execution_count": 5,
   "metadata": {
    "scrolled": true
   },
   "outputs": [],
   "source": [
    "scratch = ScratchDecesionTreeClassifierDepth1()\n",
    "scratch.fit(X_train, y_train)"
   ]
  },
  {
   "cell_type": "code",
   "execution_count": 6,
   "metadata": {
    "scrolled": true
   },
   "outputs": [
    {
     "data": {
      "text/plain": [
       "0.4"
      ]
     },
     "execution_count": 6,
     "metadata": {},
     "output_type": "execute_result"
    }
   ],
   "source": [
    "y_pred = scratch.predict(X_test)\n",
    "accuracy_score(y_pred, y_test)"
   ]
  },
  {
   "cell_type": "markdown",
   "metadata": {},
   "source": [
    "#### sklearn.tree.DecisionTreeClassifier"
   ]
  },
  {
   "cell_type": "code",
   "execution_count": 7,
   "metadata": {},
   "outputs": [
    {
     "data": {
      "text/plain": [
       "DecisionTreeClassifier(class_weight=None, criterion='gini', max_depth=1,\n",
       "                       max_features=None, max_leaf_nodes=None,\n",
       "                       min_impurity_decrease=0.0, min_impurity_split=None,\n",
       "                       min_samples_leaf=1, min_samples_split=2,\n",
       "                       min_weight_fraction_leaf=0.0, presort=False,\n",
       "                       random_state=None, splitter='best')"
      ]
     },
     "execution_count": 7,
     "metadata": {},
     "output_type": "execute_result"
    }
   ],
   "source": [
    "tree = DecisionTreeClassifier(criterion='gini', max_depth=1)\n",
    "tree.fit(X_train, y_train)"
   ]
  },
  {
   "cell_type": "code",
   "execution_count": 8,
   "metadata": {},
   "outputs": [
    {
     "data": {
      "text/plain": [
       "0.5"
      ]
     },
     "execution_count": 8,
     "metadata": {},
     "output_type": "execute_result"
    }
   ],
   "source": [
    "y_pred = tree.predict(X_test)\n",
    "accuracy_score(y_pred, y_test)"
   ]
  },
  {
   "cell_type": "markdown",
   "metadata": {},
   "source": [
    "## 【問題6】決定領域の可視化\n",
    "決定領域を可視化してください。"
   ]
  },
  {
   "cell_type": "code",
   "execution_count": 9,
   "metadata": {},
   "outputs": [],
   "source": [
    "from matplotlib.colors import ListedColormap\n",
    "import matplotlib.patches as mpatches\n",
    "\n",
    "def decision_region(X_train, y_train, model, step=0.01, target_names=['0', '1']):\n",
    "\n",
    "    scatter_color = ['red', 'blue']\n",
    "    contourf_color = ['pink', 'skyblue']\n",
    "    n_class = 2\n",
    "\n",
    "    # pred\n",
    "    mesh_f0, mesh_f1  = np.meshgrid(np.arange(np.min(X_train[:,0])-0.5, np.max(X_train[:,0])+0.5, step), \n",
    "                                    np.arange(np.min(X_train[:,1])-0.5, np.max(X_train[:,1])+0.5, step))\n",
    "    mesh = np.c_[np.ravel(mesh_f0),np.ravel(mesh_f1)]\n",
    "    pred = model.predict(mesh).reshape(mesh_f0.shape)\n",
    "\n",
    "    # plot\n",
    "    plt.title('dicision region')\n",
    "    plt.xlabel('x0')\n",
    "    plt.ylabel('x1')\n",
    "    plt.contourf(mesh_f0, mesh_f1, pred, n_class-1, cmap=ListedColormap(contourf_color))\n",
    "    plt.contour(mesh_f0, mesh_f1, pred, n_class-1, colors='y', linewidths=3, alpha=0.5)\n",
    "    for i, target in enumerate(set(y_train)):\n",
    "        plt.scatter(X_train[y_train==target][:, 0], X_train[y_train==target][:, 1], s=80, color=scatter_color[i], label=target_names[i], marker='o')\n",
    "    patches = [mpatches.Patch(color=scatter_color[i], label=target_names[i]) for i in range(n_class)]\n",
    "    plt.legend(handles=patches)\n",
    "    plt.legend()\n",
    "    plt.show()"
   ]
  },
  {
   "cell_type": "code",
   "execution_count": 10,
   "metadata": {
    "scrolled": false
   },
   "outputs": [
    {
     "data": {
      "image/png": "[encoded data removed]",
      "text/plain": [
       "<Figure size 432x288 with 1 Axes>"
      ]
     },
     "metadata": {
      "needs_background": "light"
     },
     "output_type": "display_data"
    }
   ],
   "source": [
    "decision_region(X_train, y_train, scratch)"
   ]
  },
  {
   "cell_type": "markdown",
   "metadata": {},
   "source": [
    "## 【問題8】深さに制限のない決定木分類器クラスの作成\n",
    "深さに制限のない決定木分類器のクラスScratchDecesionTreeClassifierDepthInfを作成してください。  \n",
    "\n",
    "任意の深さを指定できるようにするとともに、指定しない場合は全ての葉ノードがジニ不純度0となるまで続けられるようにもしてください。"
   ]
  },
  {
   "cell_type": "code",
   "execution_count": 11,
   "metadata": {},
   "outputs": [],
   "source": [
    "class ScratchDecesionTreeClassifier():\n",
    "   \n",
    "    def __init__(self, max_depth=1, verbose=False):\n",
    "        # ハイパーパラメータを属性として記録\n",
    "        self.max_depth = max_depth\n",
    "\n",
    "        \n",
    "    def fit(self, X, y):\n",
    "        self.path = []\n",
    "        self.threshold = []\n",
    "        self.label = []\n",
    "        self.depth = []\n",
    "        self.cols = []\n",
    "        self.tree(X, y, None, 0, [], [], [])\n",
    "          \n",
    "\n",
    "    def tree(self, X, y, label, depth, cols, path, threshold):\n",
    "        if (depth >= self.max_depth):\n",
    "            #print('label',label, 'depth',depth, 'col',cols, 'path',path, 'th',threshold)\n",
    "            self.path.append(path)\n",
    "            self.label.append(label)\n",
    "            self.depth.append(depth)\n",
    "            self.threshold.append(threshold)\n",
    "            self.cols.append(cols)\n",
    "            return\n",
    "\n",
    "        \n",
    "        root_labels, root_label_nums = np.unique(y, return_counts=True)\n",
    "        under_label, over_label = None, None\n",
    "      \n",
    "        for i in range(X.shape[1]):\n",
    "            xs = X[:,i]\n",
    "            x_minimum, x_maximum = np.min(xs), np.max(xs)\n",
    "            max_ig = 0\n",
    "            for x in xs:\n",
    "                under_idx = np.where(xs<x)[0]\n",
    "                over_idx = np.where(xs>=x)[0]\n",
    "                _, under_label_nums = np.unique(y[under_idx], return_counts=True)\n",
    "                _, over_label_nums = np.unique(y[over_idx], return_counts=True)\n",
    "                tmp_ig = self._info_gain(root_label_nums, under_label_nums, over_label_nums)\n",
    "                if x != x_minimum and max_ig < tmp_ig:\n",
    "                #if (x != x_minimum and x != x_maximum) and max_ig < tmp_ig:\n",
    "                    max_ig = tmp_ig\n",
    "                    col, value = i, x\n",
    "                    under_label = stats.mode(y[under_idx])[0][0]\n",
    "                    over_label = stats.mode(y[over_idx])[0][0]\n",
    "                    under = under_idx\n",
    "                    over = over_idx\n",
    "                else:\n",
    "                    continue\n",
    "        if max_ig == 0:\n",
    "            #print(label, depth, cols, path, threshold)\n",
    "            self.path.append(path)\n",
    "            self.label.append(label)\n",
    "            self.depth.append(depth)\n",
    "            self.threshold.append(threshold)\n",
    "            self.cols.append(cols)\n",
    "            return\n",
    "        \n",
    "        self.tree(np.copy(X[under]), np.copy(y[under]),\n",
    "                  under_label, depth+1, cols+[col,], path+[1,], threshold+[value,])\n",
    "        self.tree(np.copy(X[over]), np.copy(y[over]), \n",
    "                  over_label, depth+1, cols+[col,], path+[2,], threshold+[value,])\n",
    "        return\n",
    "\n",
    "                \n",
    "    def _gini(self, node):\n",
    "        if len(node) == 0:\n",
    "            return 0\n",
    "        return 1 - np.sum(node**2)/np.sum(node)**2\n",
    "    \n",
    "    def _info_gain(self, node, left, right):\n",
    "        if len(node) == 0:\n",
    "            return 0\n",
    "        ig = self._gini(node) - (np.sum(left)*self._gini(left) + np.sum(right*self._gini(right)))/np.sum(node)\n",
    "        return ig\n",
    "    \n",
    "    def predict(self, X):\n",
    "        y_pred = np.empty(len(X))\n",
    "        for i in range(len(X)):\n",
    "            for j in range(len(self.path)):\n",
    "                label, depth = self.label[j], self.depth[j]\n",
    "                cols, threshold, path = self.cols[j], self.threshold[j], self.path[j]\n",
    "                for d in range(depth):\n",
    "                    if ((X[i,cols[d]]<threshold[d]) and (path[d]==1)) or ((X[i,cols[d]]>=threshold[d]) and (path[d]==2)):\n",
    "                        if d+1 == depth:\n",
    "                            y_pred[i] = label\n",
    "                        continue\n",
    "                    else:\n",
    "                        break\n",
    "        return y_pred\n",
    "    "
   ]
  },
  {
   "cell_type": "code",
   "execution_count": 12,
   "metadata": {
    "scrolled": true
   },
   "outputs": [],
   "source": [
    "scratch = ScratchDecesionTreeClassifier(max_depth=15)\n",
    "scratch.fit(X_train, y_train)"
   ]
  },
  {
   "cell_type": "code",
   "execution_count": 13,
   "metadata": {
    "scrolled": true
   },
   "outputs": [],
   "source": [
    "y_pred2 = scratch.predict(X_test)"
   ]
  },
  {
   "cell_type": "code",
   "execution_count": 14,
   "metadata": {},
   "outputs": [
    {
     "data": {
      "image/png": "[encoded data removed]",
      "text/plain": [
       "<Figure size 432x288 with 1 Axes>"
      ]
     },
     "metadata": {
      "needs_background": "light"
     },
     "output_type": "display_data"
    }
   ],
   "source": [
    "decision_region(X_train, y_train, scratch)"
   ]
  }
 ],
 "metadata": {
  "kernelspec": {
   "display_name": "Python 3",
   "language": "python",
   "name": "python3"
  },
  "language_info": {
   "codemirror_mode": {
    "name": "ipython",
    "version": 3
   },
   "file_extension": ".py",
   "mimetype": "text/x-python",
   "name": "python",
   "nbconvert_exporter": "python",
   "pygments_lexer": "ipython3",
   "version": "3.7.4"
  }
 },
 "nbformat": 4,
 "nbformat_minor": 2
}
