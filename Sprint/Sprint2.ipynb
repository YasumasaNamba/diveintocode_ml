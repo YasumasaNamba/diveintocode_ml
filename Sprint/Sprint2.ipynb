{
 "cells": [
  {
   "cell_type": "code",
   "execution_count": 21,
   "metadata": {},
   "outputs": [],
   "source": [
    "import numpy as np\n",
    "import pandas as pd\n",
    "import matplotlib.pyplot as plt\n",
    "%matplotlib inline\n",
    "from sklearn.model_selection import train_test_split\n",
    "from sklearn.linear_model import LinearRegression\n",
    "from sklearn.preprocessing import StandardScaler"
   ]
  },
  {
   "cell_type": "markdown",
   "metadata": {},
   "source": [
    "## 【問題1】仮定関数\n",
    "以下の数式で表される線形回帰の仮定関数を実装してください。メソッドの雛形を用意してあります。  \n",
    "$$\n",
    "h_{\\theta}(x) = \\theta_{0}x_{0} + \\theta_{1}x_{1} + ... + \\theta_{n}x_{n}\n",
    "$$\n",
    "\n",
    "## 【問題2】最急降下\n",
    "最急降下法により学習させる実装を行なってください。以下の式で表されるパラメータの更新式のメソッド_gradient_descentを追加し、fitメソッドから呼び出すようにしてください。  \n",
    "$$\n",
    "\\theta_{j} := \\theta_{j} - \\alpha \\frac{1}{m} \\sum^{m}_{i=1} [h_{\\theta}(x^{(i)}) - y^{(i)})x^{(i)}_{j}]\n",
    "$$\n",
    "\n",
    "## 【問題3】推定\n",
    "推定する仕組みを実装してください。ScratchLinearRegressionクラスの雛形に含まれるpredictメソッドに書き加えてください。  \n",
    "仮定関数 $ h_{\\theta}(x) $ の出力が推定結果です。\n",
    "\n",
    "## 【問題4】平均二乗誤差\n",
    "線形回帰の指標値として用いられる平均二乗誤差（mean square error, MSE）の関数を作成してください。  \n",
    "平均二乗誤差関数は回帰問題全般で使える関数のたScratchLinearRegressionクラスのメソッドではなく、別の関数として作成してください。  \n",
    "平均二乗誤差は以下の数式で表されます。  \n",
    "$$\n",
    "L(\\theta) = \\frac{1}{m} \\sum^{m}_{i=1}(h_{\\theta}(x^{(i)}) - y^{(i)})^{2}\n",
    "$$ \n",
    "\n",
    "## 【問題5】目的関数\n",
    "以下の数式で表される線形回帰の 目的関数（損失関数） を実装してください。  \n",
    "そして、これをself.loss, self.val_lossに記録するようにしてください。  \n",
    "目的関数（損失関数）$ J(\\theta) $ は次の式です。\n",
    "$$\n",
    "J(\\theta) = \\frac{1}{2m} \\sum^{m}_{i=1}(h_{\\theta}(x^{(i)}) - y^{(i)})^2\n",
    "$$"
   ]
  },
  {
   "cell_type": "code",
   "execution_count": 2,
   "metadata": {},
   "outputs": [],
   "source": [
    "class ScratchLinearRegression():\n",
    "    \n",
    "    def __init__(self, num_iter, lr, bias, verbose):\n",
    "        # ハイパーパラメータを属性として記録\n",
    "        self.iter = num_iter\n",
    "        self.lr = lr\n",
    "        self.bias = bias\n",
    "        self.verbose = verbose\n",
    "        self.m = None\n",
    "        self.X = None\n",
    "        self.y = None\n",
    "        self.h = None\n",
    "        self.theta = None\n",
    "        # 損失を記録する配列を用意\n",
    "        self.loss = np.zeros(self.iter)\n",
    "        self.val_loss = np.zeros(self.iter)\n",
    "        \n",
    "\n",
    "    def fit(self, X, y, X_val=None, y_val=None):\n",
    "        \n",
    "        self.m = X.shape[1]\n",
    "        self.X = X\n",
    "        self.y = y.reshape(-1, 1)\n",
    "        if self.bias:\n",
    "            self.X = np.insert(arr=X, obj=0, values=1, axis=1)\n",
    "            if X_val is not None:\n",
    "                X_val = np.insert(arr=X_val, obj=0, values=1, axis=1)\n",
    "        self.theta = np.random.randn(self.X.shape[1], 1)\n",
    "        \n",
    "        for i in range(self.iter):\n",
    "            self.h = self._linear_hypothesis(self.X)\n",
    "            self.theta -= self._gradient_descent()\n",
    "\n",
    "            self.loss[i] = 1 / (2*self.m) * np.sum((self.h - y)**2)\n",
    "            if X_val is not None:\n",
    "                self.val_loss[i] = 1 / (2*self.m) * np.sum((np.dot(X_val, self.theta) - y_val)**2)\n",
    "        if self.verbose:\n",
    "            #verboseをTrueにした際は学習過程を出力\n",
    "            print(self.loss)\n",
    "\n",
    "    def _linear_hypothesis(self, X):\n",
    "        return np.dot(X, self.theta)\n",
    "    \n",
    "    def _gradient_descent(self):\n",
    "        return self.lr / self.m * np.dot(self.X.T, self.h-self.y)\n",
    "                    \n",
    "    def predict(self, X_test):\n",
    "        if self.bias:\n",
    "            X_test = np.insert(arr=X_test, obj=0, values=1, axis=1)\n",
    "        return np.dot(X_test, self.theta)\n",
    "    "
   ]
  },
  {
   "cell_type": "code",
   "execution_count": 3,
   "metadata": {},
   "outputs": [],
   "source": [
    "def MSE(y_pred, y):\n",
    "    \"\"\"\n",
    "    平均二乗誤差の計算\n",
    "\n",
    "    Parameters\n",
    "    ----------\n",
    "    y_pred : 次の形のndarray, shape (n_samples,)\n",
    "      推定した値\n",
    "    y : 次の形のndarray, shape (n_samples,)\n",
    "      正解値\n",
    "\n",
    "    Returns\n",
    "    ----------\n",
    "    mse : numpy.float\n",
    "      平均二乗誤差\n",
    "    \"\"\"\n",
    "    n_samples = len(y)\n",
    "    mse = np.sum((y_pred - y)**2) / n_samples\n",
    "    return mse"
   ]
  },
  {
   "cell_type": "markdown",
   "metadata": {},
   "source": [
    "## 【問題6】学習と推定\n",
    "機械学習スクラッチ入門のSprintで用意したHouse Pricesコンペティションのデータに対してスクラッチ実装の学習と推定を行なってください。  \n",
    "scikit-learnによる実装と比べ、正しく動いているかを確認してください。  "
   ]
  },
  {
   "cell_type": "code",
   "execution_count": 4,
   "metadata": {
    "scrolled": true
   },
   "outputs": [
    {
     "data": {
      "text/html": [
       "<div>\n",
       "<style scoped>\n",
       "    .dataframe tbody tr th:only-of-type {\n",
       "        vertical-align: middle;\n",
       "    }\n",
       "\n",
       "    .dataframe tbody tr th {\n",
       "        vertical-align: top;\n",
       "    }\n",
       "\n",
       "    .dataframe thead th {\n",
       "        text-align: right;\n",
       "    }\n",
       "</style>\n",
       "<table border=\"1\" class=\"dataframe\">\n",
       "  <thead>\n",
       "    <tr style=\"text-align: right;\">\n",
       "      <th></th>\n",
       "      <th>Id</th>\n",
       "      <th>MSSubClass</th>\n",
       "      <th>MSZoning</th>\n",
       "      <th>LotFrontage</th>\n",
       "      <th>LotArea</th>\n",
       "      <th>Street</th>\n",
       "      <th>Alley</th>\n",
       "      <th>LotShape</th>\n",
       "      <th>LandContour</th>\n",
       "      <th>Utilities</th>\n",
       "      <th>...</th>\n",
       "      <th>PoolArea</th>\n",
       "      <th>PoolQC</th>\n",
       "      <th>Fence</th>\n",
       "      <th>MiscFeature</th>\n",
       "      <th>MiscVal</th>\n",
       "      <th>MoSold</th>\n",
       "      <th>YrSold</th>\n",
       "      <th>SaleType</th>\n",
       "      <th>SaleCondition</th>\n",
       "      <th>SalePrice</th>\n",
       "    </tr>\n",
       "  </thead>\n",
       "  <tbody>\n",
       "    <tr>\n",
       "      <td>0</td>\n",
       "      <td>1</td>\n",
       "      <td>60</td>\n",
       "      <td>RL</td>\n",
       "      <td>65.0</td>\n",
       "      <td>8450</td>\n",
       "      <td>Pave</td>\n",
       "      <td>NaN</td>\n",
       "      <td>Reg</td>\n",
       "      <td>Lvl</td>\n",
       "      <td>AllPub</td>\n",
       "      <td>...</td>\n",
       "      <td>0</td>\n",
       "      <td>NaN</td>\n",
       "      <td>NaN</td>\n",
       "      <td>NaN</td>\n",
       "      <td>0</td>\n",
       "      <td>2</td>\n",
       "      <td>2008</td>\n",
       "      <td>WD</td>\n",
       "      <td>Normal</td>\n",
       "      <td>208500</td>\n",
       "    </tr>\n",
       "    <tr>\n",
       "      <td>1</td>\n",
       "      <td>2</td>\n",
       "      <td>20</td>\n",
       "      <td>RL</td>\n",
       "      <td>80.0</td>\n",
       "      <td>9600</td>\n",
       "      <td>Pave</td>\n",
       "      <td>NaN</td>\n",
       "      <td>Reg</td>\n",
       "      <td>Lvl</td>\n",
       "      <td>AllPub</td>\n",
       "      <td>...</td>\n",
       "      <td>0</td>\n",
       "      <td>NaN</td>\n",
       "      <td>NaN</td>\n",
       "      <td>NaN</td>\n",
       "      <td>0</td>\n",
       "      <td>5</td>\n",
       "      <td>2007</td>\n",
       "      <td>WD</td>\n",
       "      <td>Normal</td>\n",
       "      <td>181500</td>\n",
       "    </tr>\n",
       "    <tr>\n",
       "      <td>2</td>\n",
       "      <td>3</td>\n",
       "      <td>60</td>\n",
       "      <td>RL</td>\n",
       "      <td>68.0</td>\n",
       "      <td>11250</td>\n",
       "      <td>Pave</td>\n",
       "      <td>NaN</td>\n",
       "      <td>IR1</td>\n",
       "      <td>Lvl</td>\n",
       "      <td>AllPub</td>\n",
       "      <td>...</td>\n",
       "      <td>0</td>\n",
       "      <td>NaN</td>\n",
       "      <td>NaN</td>\n",
       "      <td>NaN</td>\n",
       "      <td>0</td>\n",
       "      <td>9</td>\n",
       "      <td>2008</td>\n",
       "      <td>WD</td>\n",
       "      <td>Normal</td>\n",
       "      <td>223500</td>\n",
       "    </tr>\n",
       "    <tr>\n",
       "      <td>3</td>\n",
       "      <td>4</td>\n",
       "      <td>70</td>\n",
       "      <td>RL</td>\n",
       "      <td>60.0</td>\n",
       "      <td>9550</td>\n",
       "      <td>Pave</td>\n",
       "      <td>NaN</td>\n",
       "      <td>IR1</td>\n",
       "      <td>Lvl</td>\n",
       "      <td>AllPub</td>\n",
       "      <td>...</td>\n",
       "      <td>0</td>\n",
       "      <td>NaN</td>\n",
       "      <td>NaN</td>\n",
       "      <td>NaN</td>\n",
       "      <td>0</td>\n",
       "      <td>2</td>\n",
       "      <td>2006</td>\n",
       "      <td>WD</td>\n",
       "      <td>Abnorml</td>\n",
       "      <td>140000</td>\n",
       "    </tr>\n",
       "    <tr>\n",
       "      <td>4</td>\n",
       "      <td>5</td>\n",
       "      <td>60</td>\n",
       "      <td>RL</td>\n",
       "      <td>84.0</td>\n",
       "      <td>14260</td>\n",
       "      <td>Pave</td>\n",
       "      <td>NaN</td>\n",
       "      <td>IR1</td>\n",
       "      <td>Lvl</td>\n",
       "      <td>AllPub</td>\n",
       "      <td>...</td>\n",
       "      <td>0</td>\n",
       "      <td>NaN</td>\n",
       "      <td>NaN</td>\n",
       "      <td>NaN</td>\n",
       "      <td>0</td>\n",
       "      <td>12</td>\n",
       "      <td>2008</td>\n",
       "      <td>WD</td>\n",
       "      <td>Normal</td>\n",
       "      <td>250000</td>\n",
       "    </tr>\n",
       "  </tbody>\n",
       "</table>\n",
       "<p>5 rows × 81 columns</p>\n",
       "</div>"
      ],
      "text/plain": [
       "   Id  MSSubClass MSZoning  LotFrontage  LotArea Street Alley LotShape  \\\n",
       "0   1          60       RL         65.0     8450   Pave   NaN      Reg   \n",
       "1   2          20       RL         80.0     9600   Pave   NaN      Reg   \n",
       "2   3          60       RL         68.0    11250   Pave   NaN      IR1   \n",
       "3   4          70       RL         60.0     9550   Pave   NaN      IR1   \n",
       "4   5          60       RL         84.0    14260   Pave   NaN      IR1   \n",
       "\n",
       "  LandContour Utilities  ... PoolArea PoolQC Fence MiscFeature MiscVal MoSold  \\\n",
       "0         Lvl    AllPub  ...        0    NaN   NaN         NaN       0      2   \n",
       "1         Lvl    AllPub  ...        0    NaN   NaN         NaN       0      5   \n",
       "2         Lvl    AllPub  ...        0    NaN   NaN         NaN       0      9   \n",
       "3         Lvl    AllPub  ...        0    NaN   NaN         NaN       0      2   \n",
       "4         Lvl    AllPub  ...        0    NaN   NaN         NaN       0     12   \n",
       "\n",
       "  YrSold  SaleType  SaleCondition  SalePrice  \n",
       "0   2008        WD         Normal     208500  \n",
       "1   2007        WD         Normal     181500  \n",
       "2   2008        WD         Normal     223500  \n",
       "3   2006        WD        Abnorml     140000  \n",
       "4   2008        WD         Normal     250000  \n",
       "\n",
       "[5 rows x 81 columns]"
      ]
     },
     "execution_count": 4,
     "metadata": {},
     "output_type": "execute_result"
    }
   ],
   "source": [
    "train = pd.read_csv('../week4/train.csv')\n",
    "train.head()"
   ]
  },
  {
   "cell_type": "code",
   "execution_count": 5,
   "metadata": {},
   "outputs": [],
   "source": [
    "scaler = StandardScaler()\n",
    "train['SalePrice'] = scaler.fit_transform(train[['SalePrice']])"
   ]
  },
  {
   "cell_type": "code",
   "execution_count": 6,
   "metadata": {},
   "outputs": [],
   "source": [
    "numerical_feats = train.columns[train.dtypes != 'object']\n",
    "train.fillna(train[numerical_feats].mean(), inplace=True)"
   ]
  },
  {
   "cell_type": "code",
   "execution_count": 16,
   "metadata": {},
   "outputs": [],
   "source": [
    "X = train[['GrLivArea', 'LotArea', 'GarageArea', 'TotalBsmtSF']].values\n",
    "y = train['SalePrice'].values\n",
    "X_train ,X_test, y_train, y_test = train_test_split(X, y, test_size=0.25)"
   ]
  },
  {
   "cell_type": "code",
   "execution_count": 17,
   "metadata": {
    "scrolled": true
   },
   "outputs": [
    {
     "data": {
      "text/plain": [
       "array([-0.61124647, -0.51192183,  0.41104826, -0.03631161,  0.95745396,\n",
       "        0.85836191,  0.65433833,  0.5698389 , -0.27266184, -0.19920279,\n",
       "       -0.49654494,  2.33358648,  0.19165957,  0.10800036,  1.12297917,\n",
       "        0.0864042 ,  0.06830822, -0.46403718, -0.07488335, -0.612741  ,\n",
       "       -0.8501603 ,  0.22467208, -0.39498043, -0.59315905, -0.11564838,\n",
       "        1.53041577, -0.59143435,  0.6040932 ,  1.11665157,  1.32578792,\n",
       "        0.05414697, -0.65603323, -0.53321339, -0.55168719, -1.1946931 ,\n",
       "        0.24920972, -0.1065654 , -0.2470445 ,  2.2170765 ,  0.11018882,\n",
       "       -0.86920721,  0.62047105,  0.29094708,  0.60561691, -0.00690047,\n",
       "        0.59279527,  0.53548183, -0.43147292,  1.17049024, -0.47282665,\n",
       "       -0.4197541 ,  0.80066753,  0.24937267, -0.55094712, -0.16200616,\n",
       "       -1.26711531,  0.10361145,  1.3929782 ,  0.38442489,  0.123603  ,\n",
       "       -0.28579004, -1.08405971,  0.70576459,  0.39395751, -1.31241021,\n",
       "       -0.32737717,  1.53697196,  0.04596226,  0.88089306, -0.55570443,\n",
       "       -0.39589398, -0.74991185,  0.81010179, -0.1894004 , -0.48873424,\n",
       "       -1.2553628 , -0.35716676,  1.0187654 , -0.18663728,  0.34032079,\n",
       "        0.91582792, -0.27347202,  0.16948807,  0.00507016, -0.78368319,\n",
       "       -1.54908587,  0.33849296,  1.02922391, -0.24581922, -0.56556826,\n",
       "       -1.50976494,  0.89683848, -0.97658485,  1.04567923, -0.52094756,\n",
       "        1.37803118, -0.73034422,  1.14960731, -1.02552931,  0.32998488,\n",
       "       -0.40191301,  0.02071051, -1.16370048, -1.35399552,  1.41436883,\n",
       "       -0.20381691,  0.63895662, -1.06576052,  0.71440669,  0.652482  ,\n",
       "       -0.68388174, -0.46121934,  0.12427784,  0.56138161,  0.75227845,\n",
       "        0.59640255,  0.41847252,  0.29401782, -0.27040062, -0.69912422,\n",
       "       -0.28493123,  0.24975161,  0.4863378 , -0.86072491,  0.22702332,\n",
       "        0.08163166, -0.04668409, -0.87447308,  0.02005864, -0.41475322,\n",
       "        0.88627555,  0.14398899, -0.57957366, -0.24831028,  0.86294328,\n",
       "       -0.6440843 ,  0.34170006, -0.53404473,  0.15906544,  0.17628461,\n",
       "        0.6650792 , -0.79863006,  0.22440554,  0.08462761, -0.32238693,\n",
       "       -1.25692231,  1.03540817,  0.65197811,  0.50092123, -0.43997693,\n",
       "       -1.08428174, -0.53102221, -0.79807057, -0.01804436,  0.54373188,\n",
       "       -0.10988108,  0.16907869, -0.2094445 ,  1.01197789, -0.69837969,\n",
       "       -0.21291898, -1.02180473,  0.92868487, -0.01581788, -0.03062088,\n",
       "        0.05657734, -0.33767655, -0.84582399,  4.59173408,  0.72275245,\n",
       "        0.91695481,  0.37885786,  0.63254344,  0.38174346,  1.51760086,\n",
       "        1.30119371, -1.294073  ,  1.48866438,  0.87096756, -0.87140355,\n",
       "       -0.27259513, -0.80661795, -1.50040239, -0.00882827, -0.20791463,\n",
       "        0.27104561, -0.36693026, -0.33948087, -0.86554749,  0.02091204,\n",
       "        1.21214957, -0.60391819,  0.28107071,  2.33734823, -0.75666755,\n",
       "        0.12170163,  1.24712731, -0.92446687, -1.08405971, -0.06442341,\n",
       "       -0.96089355,  1.28504455,  0.64301451,  1.40969985, -0.5760822 ,\n",
       "       -0.81270367,  0.58894679,  1.37203539,  0.94140811,  0.32224293,\n",
       "        0.44357599, -0.15337128,  0.29433544,  0.073262  , -0.72295213,\n",
       "       -0.01737665, -1.3041377 ,  2.46779471, -0.36297643,  0.34817637,\n",
       "       -0.34635038,  1.49641512, -1.08405971, -0.38280024, -0.85702463,\n",
       "       -0.62024843, -0.34846526, -0.22225858,  0.11946245, -0.36414288,\n",
       "        0.46508153,  0.42949903,  0.09867688, -1.12459765,  0.23501714,\n",
       "        0.45392211, -0.01301173, -1.24337358,  1.87261134,  2.17417095,\n",
       "        0.57991436,  0.17739246,  0.99123597, -0.40034638, -0.0553031 ,\n",
       "        0.39951713,  0.03199426, -0.1079883 ,  0.14144642, -0.20762873,\n",
       "       -0.11255179,  0.78114053, -0.32257213, -0.31353184, -0.24688251,\n",
       "        0.17431004, -0.20447744, -0.66707294,  0.03275454, -0.13207393,\n",
       "        0.06894303, -0.2304439 , -0.57647445, -0.49992787, -0.2604806 ,\n",
       "       -0.29485065,  0.57560508, -0.55482214,  1.0965007 ,  0.06406129,\n",
       "        1.51979932,  0.10680501, -0.80058745,  0.60223136, -0.12609005,\n",
       "       -0.86361657, -0.63714294, -1.04333084,  1.25032194,  0.52045454,\n",
       "        0.67372855,  0.0368607 ,  0.91311769,  0.37973237, -0.0947054 ,\n",
       "        0.02768012, -0.69937799,  1.44922434,  0.63560529, -0.04236794,\n",
       "        0.83950549,  0.77284474,  0.60283826, -0.45521347,  1.45530083,\n",
       "        0.3394338 , -0.76477194, -0.16840239, -0.70109244, -0.30864013,\n",
       "       -0.44260767,  0.23847755, -0.27212661,  0.59468605, -0.58002433,\n",
       "        1.27306537, -0.88718327, -0.3013724 ,  1.02585196, -1.69063804,\n",
       "       -0.07694459,  1.03709535,  1.16969118, -0.90445939,  0.75293054,\n",
       "        0.40485428, -0.39015169,  0.66513548,  1.43641931,  0.69051667,\n",
       "       -0.11859854,  0.20996685, -0.53653842,  0.51711726,  1.11239172,\n",
       "       -0.69700156,  0.31844112,  0.5279641 ,  0.32746774,  0.68839737,\n",
       "        1.3046317 ,  0.01891212,  0.31515681, -0.41039698,  0.27182414,\n",
       "        0.04443427,  0.56795157, -0.88896249,  0.72560678, -0.00804028,\n",
       "       -0.41826053, -0.13762798,  0.09416435, -0.15870095, -0.13717121,\n",
       "        0.90551931,  0.70727764, -1.40994337, -0.87494311, -0.49650363,\n",
       "        0.03135159,  0.62835288,  0.18266903, -0.07751483, -0.88187071,\n",
       "        0.04032399, -0.36027898, -0.81741993,  0.1373422 , -0.37327473,\n",
       "       -1.02170574, -0.17944411,  0.14426779, -0.18707005,  0.6190678 ])"
      ]
     },
     "execution_count": 17,
     "metadata": {},
     "output_type": "execute_result"
    }
   ],
   "source": [
    "lr = LinearRegression()\n",
    "lr.fit(X_train, y_train)\n",
    "lr.predict(X_test)"
   ]
  },
  {
   "cell_type": "code",
   "execution_count": 18,
   "metadata": {
    "scrolled": true
   },
   "outputs": [],
   "source": [
    "sc_lr = ScratchLinearRegression(num_iter=500, lr=0.000000000001, bias=True, verbose=False)\n",
    "sc_lr.fit(X_train, y_train, X_test, y_test)\n",
    "y_pred = sc_lr.predict(X_test)"
   ]
  },
  {
   "cell_type": "markdown",
   "metadata": {},
   "source": [
    "## 【問題7】学習曲線のプロット\n",
    "学習曲線を表示する関数を作成し、実行してください。グラフを見て損失が適切に下がっているかどうか確認してください。  \n",
    "線形回帰クラスの雛形ではself.loss, self.val_lossに損失を記録しておくようになっているため、入力にはこれを利用してください。"
   ]
  },
  {
   "cell_type": "code",
   "execution_count": 22,
   "metadata": {},
   "outputs": [
    {
     "data": {
      "text/plain": [
       "<matplotlib.legend.Legend at 0x1a23293c90>"
      ]
     },
     "execution_count": 22,
     "metadata": {},
     "output_type": "execute_result"
    },
    {
     "data": {
      "image/png": "[encoded data removed]",
      "text/plain": [
       "<Figure size 432x288 with 1 Axes>"
      ]
     },
     "metadata": {
      "needs_background": "light"
     },
     "output_type": "display_data"
    }
   ],
   "source": [
    "plt.plot(sc_lr.loss, label='train_loss')\n",
    "plt.plot(sc_lr.val_loss, label='val_loss')\n",
    "plt.legend()"
   ]
  },
  {
   "cell_type": "markdown",
   "metadata": {},
   "source": [
    "## 【問題8】バイアス項の除去\n",
    "バイアス項 $\\theta_0 $ を抜くと学習がどう変化するか検証してください。また、線形回帰モデルにおけるバイアス項の役割の考察・調査を行ってください。"
   ]
  },
  {
   "cell_type": "code",
   "execution_count": 23,
   "metadata": {},
   "outputs": [],
   "source": [
    "sc_lr = ScratchLinearRegression(num_iter=500, lr=0.000000000001, bias=False, verbose=None)\n",
    "sc_lr.fit(X_train, y_train, X_test, y_test)\n",
    "y_pred = sc_lr.predict(X_test)"
   ]
  },
  {
   "cell_type": "code",
   "execution_count": 24,
   "metadata": {},
   "outputs": [
    {
     "data": {
      "text/plain": [
       "<matplotlib.legend.Legend at 0x1a2392c8d0>"
      ]
     },
     "execution_count": 24,
     "metadata": {},
     "output_type": "execute_result"
    },
    {
     "data": {
      "image/png": "[encoded data removed]",
      "text/plain": [
       "<Figure size 432x288 with 1 Axes>"
      ]
     },
     "metadata": {
      "needs_background": "light"
     },
     "output_type": "display_data"
    }
   ],
   "source": [
    "plt.plot(sc_lr.loss, label='train_loss')\n",
    "plt.plot(sc_lr.val_loss, label='val_loss')\n",
    "plt.legend()"
   ]
  },
  {
   "cell_type": "markdown",
   "metadata": {},
   "source": [
    "バイアス項は切片を反映。"
   ]
  },
  {
   "cell_type": "code",
   "execution_count": null,
   "metadata": {},
   "outputs": [],
   "source": []
  }
 ],
 "metadata": {
  "kernelspec": {
   "display_name": "Python 3",
   "language": "python",
   "name": "python3"
  },
  "language_info": {
   "codemirror_mode": {
    "name": "ipython",
    "version": 3
   },
   "file_extension": ".py",
   "mimetype": "text/x-python",
   "name": "python",
   "nbconvert_exporter": "python",
   "pygments_lexer": "ipython3",
   "version": "3.7.4"
  }
 },
 "nbformat": 4,
 "nbformat_minor": 2
}
