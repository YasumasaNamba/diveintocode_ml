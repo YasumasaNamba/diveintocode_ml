{
 "cells": [
  {
   "cell_type": "code",
   "execution_count": 1,
   "metadata": {},
   "outputs": [],
   "source": [
    "import numpy as np\n",
    "import matplotlib.pyplot as plt\n",
    "%matplotlib inline"
   ]
  },
  {
   "cell_type": "markdown",
   "metadata": {},
   "source": [
    "## 【問題1】全結合層のクラス化"
   ]
  },
  {
   "cell_type": "code",
   "execution_count": 2,
   "metadata": {},
   "outputs": [],
   "source": [
    "class FC():\n",
    "    def __init__(self, n_nodes1, n_nodes2, activator, initializer, optimizer):\n",
    "        self.optimizer = optimizer\n",
    "        self.activator = activator\n",
    "        self.W = initializer.W(n_nodes1, n_nodes2)\n",
    "        self.B = initializer.B(n_nodes2)\n",
    "\n",
    "    def forward(self, X):  \n",
    "        self.X = X\n",
    "        self.n_batch = len(self.X)\n",
    "        self.Z = np.dot(X, self.W) + self.B\n",
    "        self.A = self.activator.forward(self.Z)\n",
    "        return self.A    \n",
    "\n",
    "    def backward(self, dA):\n",
    "        dZ = self.activator.backward(dA)\n",
    "        self, dA = self.optimizer.update(self, dZ)\n",
    "        return dA"
   ]
  },
  {
   "cell_type": "markdown",
   "metadata": {},
   "source": [
    "## 【問題2】初期方法のクラス化"
   ]
  },
  {
   "cell_type": "markdown",
   "metadata": {},
   "source": [
    "## 【問題6】重みの初期値"
   ]
  },
  {
   "cell_type": "code",
   "execution_count": 3,
   "metadata": {},
   "outputs": [],
   "source": [
    "class SimpleInitializer:\n",
    "    def __init__(self, sigma):\n",
    "        self.sigma = sigma\n",
    "        \n",
    "    def W(self, n_nodes1, n_nodes2):\n",
    "        return np.random.randn(n_nodes1, n_nodes2)\n",
    "    \n",
    "    def B(self, n_nodes2):\n",
    "        return np.random.randn(n_nodes2)\n",
    "    \n",
    "class XavierInitializer():\n",
    "    def __init__(self):\n",
    "        self.std = None\n",
    "    \n",
    "    def W(self, n_nodes1, n_nodes2):\n",
    "        self.std = np.sqrt(n_nodes1)\n",
    "        return np.random.randn(n_nodes1, n_nodes2) / self.std\n",
    "    \n",
    "    def B(self, n_nodes2):\n",
    "        return np.random.randn(n_nodes2) / self.std\n",
    "    \n",
    "\n",
    "class HeInitializer():\n",
    "    def __init__(self):\n",
    "        self.std = None\n",
    "    \n",
    "    def W(self, n_nodes1, n_nodes2):\n",
    "        self.std = np.sqrt(n_nodes1/2)\n",
    "        return np.random.randn(n_nodes1, n_nodes2) / self.std\n",
    "    \n",
    "    def B(self, n_nodes2):\n",
    "        return np.random.randn(n_nodes2) / self.std"
   ]
  },
  {
   "cell_type": "markdown",
   "metadata": {},
   "source": [
    "## 【問題3】最適化手法のクラス化"
   ]
  },
  {
   "cell_type": "markdown",
   "metadata": {},
   "source": [
    "## 【問題7】最適化手法"
   ]
  },
  {
   "cell_type": "code",
   "execution_count": 4,
   "metadata": {},
   "outputs": [],
   "source": [
    "class SGD:\n",
    "    def __init__(self, lr):\n",
    "        self.lr = lr\n",
    "        \n",
    "    def update(self, layer, dZ):\n",
    "        dB = np.sum(dZ, axis=0)\n",
    "        dW = np.dot(layer.X.T, dZ)\n",
    "        dA = np.dot(dZ, layer.W.T)\n",
    "        layer.B -= self.lr * dB / layer.n_batch\n",
    "        layer.W -= self.lr * dW / layer.n_batch\n",
    "        return layer, dA\n",
    "    \n",
    "class AdaGrad():\n",
    "    def __init__(self, lr):\n",
    "        self.lr = lr\n",
    "        self.Hb = 1e-10\n",
    "        self.Hw = 1e-10\n",
    "        \n",
    "    def update(self, layer, dZ):\n",
    "        dB = np.sum(dZ, axis=0)\n",
    "        dW = np.dot(layer.X.T, dZ)\n",
    "        dA = np.dot(dZ, layer.W.T)\n",
    "        self.Hb += (dB/layer.n_batch)**2\n",
    "        self.Hw += (dW/layer.n_batch)**2\n",
    "        layer.B -= self.lr * (self.Hb)**(-0.5) * dB / layer.n_batch\n",
    "        layer.W -= self.lr * (self.Hw)**(-0.5) * dW / layer.n_batch\n",
    "        return layer, dA"
   ]
  },
  {
   "cell_type": "markdown",
   "metadata": {},
   "source": [
    "## 【問題4】活性化関数のクラス化"
   ]
  },
  {
   "cell_type": "code",
   "execution_count": 5,
   "metadata": {},
   "outputs": [],
   "source": [
    "class Softmax():\n",
    "    def __init__(self):\n",
    "        pass\n",
    "    \n",
    "    def forward(self, Z):\n",
    "        if Z.ndim == 2:\n",
    "            Z = Z.T\n",
    "            self.A = (np.exp(Z) / np.sum(np.exp(Z), axis=0)).T\n",
    "            return self.A\n",
    "        self.A = np.exp(Z) / np.sum(np.exp(Z))\n",
    "        return self.A\n",
    "    \n",
    "    def backward(self, y):\n",
    "        return self.A - y"
   ]
  },
  {
   "cell_type": "markdown",
   "metadata": {},
   "source": [
    "## 【問題5】ReLUクラスの作成"
   ]
  },
  {
   "cell_type": "code",
   "execution_count": 6,
   "metadata": {},
   "outputs": [],
   "source": [
    "class Relu():\n",
    "    def __init__(self):\n",
    "        pass\n",
    "    \n",
    "    def forward(self, Z):\n",
    "        self.A = np.maximum(0, Z)\n",
    "        return self.A\n",
    "    \n",
    "    def backward(self, dA):\n",
    "        return  dA * np.where(self.A>0, 1, 0)"
   ]
  },
  {
   "cell_type": "markdown",
   "metadata": {},
   "source": [
    "## 【問題8】クラスの完成"
   ]
  },
  {
   "cell_type": "code",
   "execution_count": 7,
   "metadata": {},
   "outputs": [],
   "source": [
    "class ScratchDeepNeuralNetworkClassifier():\n",
    "    def __init__(self, *layers, epoch=3):\n",
    "        self.epoch = epoch\n",
    "        self.n_layers = len(layers)\n",
    "        self.layers = layers\n",
    "        self.loss_train = []\n",
    "        self.loss_valid = []\n",
    "\n",
    "    def train(self, X, y, X_val=None, y_val=None):\n",
    "        get_mini_batch = GetMiniBatch(X_train, y_train, batch_size=20)\n",
    "        for _ in tqdm(range(self.epoch)):\n",
    "            for mini_X_train, mini_y_train in get_mini_batch:\n",
    "                fout = mini_X_train.copy()\n",
    "                for layer in self.layers:\n",
    "                    fout = layer.forward(fout)\n",
    "\n",
    "                bout = mini_y_train.copy()\n",
    "                for layer in self.layers[::-1]:\n",
    "                    bout = layer.backward(bout)\n",
    "                    \n",
    "            self.loss_train.append(self.crossentropy(mini_y_train, fout))\n",
    "            if X_val is not None:\n",
    "                y_val_pred = X_val.copy()\n",
    "                for layer in self.layers:\n",
    "                    y_val_pred = layer.forward(y_val_pred)\n",
    "                self.loss_valid.append(self.crossentropy(y_val, y_val_pred))\n",
    "        \n",
    "        \n",
    "    def crossentropy(self, y, y_pred):\n",
    "        loss = -np.mean(np.sum(y*np.log(y_pred), axis=1))\n",
    "        return loss\n",
    "    \n",
    "            \n",
    "    def predict(self, X_test):\n",
    "        out = X_test\n",
    "        for layer in self.layers:\n",
    "            out = layer.forward(out)\n",
    "        return out      "
   ]
  },
  {
   "cell_type": "code",
   "execution_count": 8,
   "metadata": {},
   "outputs": [
    {
     "name": "stderr",
     "output_type": "stream",
     "text": [
      "Using TensorFlow backend.\n"
     ]
    }
   ],
   "source": [
    "from sklearn.model_selection import train_test_split\n",
    "from sklearn.metrics import accuracy_score\n",
    "from keras.datasets import mnist\n",
    "from tqdm import tqdm"
   ]
  },
  {
   "cell_type": "code",
   "execution_count": 9,
   "metadata": {},
   "outputs": [],
   "source": [
    "(X_train, y_train), (X_test, y_test) = mnist.load_data()\n",
    "X_train = X_train.reshape(-1, 784)\n",
    "X_test = X_test.reshape(-1, 784)\n",
    "X_train = X_train.astype(np.float)\n",
    "X_test = X_test.astype(np.float)\n",
    "X_train /= 255\n",
    "X_test /= 255\n",
    "\n",
    "from sklearn.preprocessing import OneHotEncoder\n",
    "enc = OneHotEncoder(handle_unknown='ignore', sparse=False)\n",
    "y_train_one_hot = enc.fit_transform(y_train[:, np.newaxis])\n",
    "y_test_one_hot = enc.transform(y_test[:, np.newaxis])\n",
    "X_train, X_val, y_train, y_val = train_test_split(X_train, y_train_one_hot, test_size=0.2)"
   ]
  },
  {
   "cell_type": "code",
   "execution_count": 10,
   "metadata": {},
   "outputs": [],
   "source": [
    "class GetMiniBatch:\n",
    "    def __init__(self, X, y, batch_size=20, seed=0):\n",
    "        self.batch_size = batch_size\n",
    "        np.random.seed(seed)\n",
    "        shuffle_index = np.random.permutation(np.arange(X.shape[0]))\n",
    "        self._X = X[shuffle_index]\n",
    "        self._y = y[shuffle_index]\n",
    "        self._stop = np.ceil(X.shape[0]/self.batch_size).astype(np.int)\n",
    "    def __len__(self):\n",
    "        return self._stop\n",
    "    def __getitem__(self, item):\n",
    "        p0 = item*self.batch_size\n",
    "        p1 = item*self.batch_size + self.batch_size\n",
    "        return self._X[p0:p1], self._y[p0:p1]        \n",
    "    def __iter__(self):\n",
    "        self._counter = 0\n",
    "        return self\n",
    "    def __next__(self):\n",
    "        if self._counter >= self._stop:\n",
    "            raise StopIteration()\n",
    "        p0 = self._counter*self.batch_size\n",
    "        p1 = self._counter*self.batch_size + self.batch_size\n",
    "        self._counter += 1\n",
    "        return self._X[p0:p1], self._y[p0:p1]"
   ]
  },
  {
   "cell_type": "markdown",
   "metadata": {},
   "source": [
    "## 【問題9】学習と推定"
   ]
  },
  {
   "cell_type": "code",
   "execution_count": 11,
   "metadata": {},
   "outputs": [
    {
     "name": "stderr",
     "output_type": "stream",
     "text": [
      "100%|██████████| 100/100 [04:33<00:00,  2.73s/it]"
     ]
    },
    {
     "name": "stdout",
     "output_type": "stream",
     "text": [
      "0.9226666666666666\n"
     ]
    },
    {
     "name": "stderr",
     "output_type": "stream",
     "text": [
      "\n"
     ]
    }
   ],
   "source": [
    "relu = Relu()\n",
    "softmax = Softmax()\n",
    "initializer = SimpleInitializer(sigma=1)\n",
    "optimizer1 = SGD(lr=0.001)\n",
    "optimizer2 = SGD(lr=0.001)\n",
    "fc1 = FC(784, 200, relu, initializer, optimizer1)\n",
    "fc2 = FC(200, 10, softmax, initializer, optimizer2)\n",
    "\n",
    "nn = ScratchDeepNeuralNetworkClassifier(fc1, fc2, epoch=100)\n",
    "nn.train(X_train, y_train, X_val=X_val, y_val=y_val)\n",
    "\n",
    "y_pred = nn.predict(X_val)\n",
    "print(accuracy_score(np.argmax(y_pred, axis=1), np.argmax(y_val, axis=1)))"
   ]
  },
  {
   "cell_type": "code",
   "execution_count": 12,
   "metadata": {
    "scrolled": true
   },
   "outputs": [
    {
     "data": {
      "image/png": "[encoded data removed]",
      "text/plain": [
       "<Figure size 432x288 with 1 Axes>"
      ]
     },
     "metadata": {
      "needs_background": "light"
     },
     "output_type": "display_data"
    }
   ],
   "source": [
    "plt.plot(nn.loss_train, '-o', label='train')\n",
    "plt.plot(nn.loss_valid, '-o', label='valid')\n",
    "plt.legend();"
   ]
  },
  {
   "cell_type": "code",
   "execution_count": 13,
   "metadata": {},
   "outputs": [
    {
     "name": "stderr",
     "output_type": "stream",
     "text": [
      "100%|██████████| 100/100 [23:28<00:00, 14.09s/it]"
     ]
    },
    {
     "name": "stdout",
     "output_type": "stream",
     "text": [
      "0.8269166666666666\n"
     ]
    },
    {
     "name": "stderr",
     "output_type": "stream",
     "text": [
      "\n"
     ]
    }
   ],
   "source": [
    "relu = Relu()\n",
    "softmax = Softmax()\n",
    "initializer1 = SimpleInitializer(sigma=1)\n",
    "initializer2 = SimpleInitializer(sigma=1)\n",
    "optimizer1 = AdaGrad(lr=0.001)\n",
    "optimizer2 = AdaGrad(lr=0.001)\n",
    "fc1 = FC(784, 200, relu, initializer1, optimizer1)\n",
    "fc2 = FC(200, 10, softmax, initializer2, optimizer2)\n",
    "\n",
    "nn = ScratchDeepNeuralNetworkClassifier(fc1, fc2, epoch=100)\n",
    "nn.train(X_train, y_train, X_val=X_val, y_val=y_val)\n",
    "\n",
    "y_pred = nn.predict(X_val)\n",
    "print(accuracy_score(np.argmax(y_pred, axis=1), np.argmax(y_val, axis=1)))"
   ]
  },
  {
   "cell_type": "code",
   "execution_count": 14,
   "metadata": {},
   "outputs": [
    {
     "data": {
      "image/png": "[encoded data removed]",
      "text/plain": [
       "<Figure size 432x288 with 1 Axes>"
      ]
     },
     "metadata": {
      "needs_background": "light"
     },
     "output_type": "display_data"
    }
   ],
   "source": [
    "plt.plot(nn.loss_train, '-o', label='train')\n",
    "plt.plot(nn.loss_valid, '-o', label='valid')\n",
    "plt.legend();"
   ]
  },
  {
   "cell_type": "code",
   "execution_count": 15,
   "metadata": {},
   "outputs": [
    {
     "name": "stderr",
     "output_type": "stream",
     "text": [
      "100%|██████████| 100/100 [04:38<00:00,  2.79s/it]"
     ]
    },
    {
     "name": "stdout",
     "output_type": "stream",
     "text": [
      "0.9554166666666667\n"
     ]
    },
    {
     "name": "stderr",
     "output_type": "stream",
     "text": [
      "\n"
     ]
    }
   ],
   "source": [
    "relu = Relu()\n",
    "softmax = Softmax()\n",
    "initializer1 = XavierInitializer()\n",
    "initializer2 = XavierInitializer()\n",
    "optimizer1 = SGD(lr=0.001)\n",
    "optimizer2 = SGD(lr=0.001)\n",
    "fc1 = FC(784, 200, relu, initializer1, optimizer1)\n",
    "fc2 = FC(200, 10, softmax, initializer2, optimizer2)\n",
    "\n",
    "nn = ScratchDeepNeuralNetworkClassifier(fc1, fc2, epoch=100)\n",
    "nn.train(X_train, y_train, X_val=X_val, y_val=y_val)\n",
    "\n",
    "y_pred = nn.predict(X_val)\n",
    "print(accuracy_score(np.argmax(y_pred, axis=1), np.argmax(y_val, axis=1)))"
   ]
  },
  {
   "cell_type": "code",
   "execution_count": 16,
   "metadata": {},
   "outputs": [
    {
     "data": {
      "image/png": "[encoded data removed]",
      "text/plain": [
       "<Figure size 432x288 with 1 Axes>"
      ]
     },
     "metadata": {
      "needs_background": "light"
     },
     "output_type": "display_data"
    }
   ],
   "source": [
    "plt.plot(nn.loss_train, '-o', label='train')\n",
    "plt.plot(nn.loss_valid, '-o', label='valid')\n",
    "plt.legend();"
   ]
  },
  {
   "cell_type": "code",
   "execution_count": 17,
   "metadata": {},
   "outputs": [
    {
     "name": "stderr",
     "output_type": "stream",
     "text": [
      "100%|██████████| 100/100 [04:31<00:00,  2.71s/it]\n"
     ]
    },
    {
     "data": {
      "text/plain": [
       "0.9574166666666667"
      ]
     },
     "execution_count": 17,
     "metadata": {},
     "output_type": "execute_result"
    }
   ],
   "source": [
    "relu = Relu()\n",
    "softmax = Softmax()\n",
    "initializer1 = HeInitializer()\n",
    "initializer2 = HeInitializer()\n",
    "optimizer1 = SGD(lr=0.001)\n",
    "optimizer2 = SGD(lr=0.001)\n",
    "fc1 = FC(784, 200, relu, initializer1, optimizer1)\n",
    "fc2 = FC(200, 10, softmax, initializer2, optimizer2)\n",
    "\n",
    "nn = ScratchDeepNeuralNetworkClassifier(fc1, fc2, epoch=100)\n",
    "nn.train(X_train, y_train, X_val=X_val, y_val=y_val)\n",
    "\n",
    "y_pred = nn.predict(X_val)\n",
    "accuracy_score(np.argmax(y_pred, axis=1), np.argmax(y_val, axis=1))"
   ]
  },
  {
   "cell_type": "code",
   "execution_count": 18,
   "metadata": {
    "scrolled": true
   },
   "outputs": [
    {
     "data": {
      "image/png": "[encoded data removed]",
      "text/plain": [
       "<Figure size 432x288 with 1 Axes>"
      ]
     },
     "metadata": {
      "needs_background": "light"
     },
     "output_type": "display_data"
    }
   ],
   "source": [
    "plt.plot(nn.loss_train, '-o', label='train')\n",
    "plt.plot(nn.loss_valid, '-o', label='valid')\n",
    "plt.legend();"
   ]
  },
  {
   "cell_type": "code",
   "execution_count": 19,
   "metadata": {},
   "outputs": [
    {
     "name": "stderr",
     "output_type": "stream",
     "text": [
      "100%|██████████| 100/100 [06:49<00:00,  4.10s/it]"
     ]
    },
    {
     "name": "stdout",
     "output_type": "stream",
     "text": [
      "0.9733333333333334\n"
     ]
    },
    {
     "name": "stderr",
     "output_type": "stream",
     "text": [
      "\n"
     ]
    }
   ],
   "source": [
    "relu1 = Relu()\n",
    "relu2 = Relu()\n",
    "relu3 = Relu()\n",
    "softmax = Softmax()\n",
    "initializer1 = XavierInitializer()\n",
    "initializer2 = XavierInitializer()\n",
    "initializer3 = XavierInitializer()\n",
    "initializer4 = XavierInitializer()\n",
    "optimizer1 = SGD(lr=0.001)\n",
    "optimizer2 = SGD(lr=0.001)\n",
    "optimizer3 = SGD(lr=0.001)\n",
    "optimizer4 = SGD(lr=0.001)\n",
    "fc1 = FC(784, 200, relu1, initializer1, optimizer1)\n",
    "fc2 = FC(200, 200, relu2, initializer2, optimizer2)\n",
    "fc3 = FC(200, 100, relu3, initializer3, optimizer3)\n",
    "fc4 = FC(100, 10, softmax, initializer4, optimizer4)\n",
    "\n",
    "nn = ScratchDeepNeuralNetworkClassifier(fc1, fc2, fc3, fc4, epoch=100)\n",
    "nn.train(X_train, y_train, X_val=X_val, y_val=y_val)\n",
    "\n",
    "y_pred = nn.predict(X_val)\n",
    "print(accuracy_score(np.argmax(y_pred, axis=1), np.argmax(y_val, axis=1)))"
   ]
  },
  {
   "cell_type": "code",
   "execution_count": 20,
   "metadata": {},
   "outputs": [
    {
     "data": {
      "image/png": "[encoded data removed]",
      "text/plain": [
       "<Figure size 432x288 with 1 Axes>"
      ]
     },
     "metadata": {
      "needs_background": "light"
     },
     "output_type": "display_data"
    }
   ],
   "source": [
    "plt.plot(nn.loss_train, '-o', label='train')\n",
    "plt.plot(nn.loss_valid, '-o', label='valid')\n",
    "plt.legend();"
   ]
  }
 ],
 "metadata": {
  "kernelspec": {
   "display_name": "Python 3",
   "language": "python",
   "name": "python3"
  },
  "language_info": {
   "codemirror_mode": {
    "name": "ipython",
    "version": 3
   },
   "file_extension": ".py",
   "mimetype": "text/x-python",
   "name": "python",
   "nbconvert_exporter": "python",
   "pygments_lexer": "ipython3",
   "version": "3.7.4"
  }
 },
 "nbformat": 4,
 "nbformat_minor": 2
}
