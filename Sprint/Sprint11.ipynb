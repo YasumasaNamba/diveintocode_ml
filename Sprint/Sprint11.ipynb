{
 "cells": [
  {
   "cell_type": "code",
   "execution_count": 1,
   "metadata": {},
   "outputs": [],
   "source": [
    "import numpy as np\n",
    "import matplotlib.pyplot as plt\n",
    "%matplotlib inline"
   ]
  },
  {
   "cell_type": "markdown",
   "metadata": {},
   "source": [
    "## 【問題1】2次元畳み込み層の作成"
   ]
  },
  {
   "cell_type": "markdown",
   "metadata": {},
   "source": [
    "## 【問題2】2次元畳み込み後の出力サイズ"
   ]
  },
  {
   "cell_type": "markdown",
   "metadata": {},
   "source": [
    "## 【問題3】最大プーリング層の作成"
   ]
  },
  {
   "cell_type": "markdown",
   "metadata": {},
   "source": [
    "## 【問題4】平均プーリングの作成"
   ]
  },
  {
   "cell_type": "markdown",
   "metadata": {},
   "source": [
    "## 【問題5】平滑化"
   ]
  },
  {
   "cell_type": "code",
   "execution_count": 2,
   "metadata": {},
   "outputs": [],
   "source": [
    "class Scratch2dCNNClassifier():\n",
    "    def __init__(self, initializer, optimizer, in_channel=1, out_channel=1, kernel=(1,1), stride=(1,1), padding=0, verbose=False):\n",
    "        self.stride = stride    # tuple\n",
    "        self.padding = padding  # int\n",
    "        self.kernel = kernel    # tuple\n",
    "        self.W = initializer.W(in_channel, out_channel, kernel[0], kernel[1])\n",
    "        self.b = initializer.b(out_channel)\n",
    "        self.optimizer = optimizer\n",
    "        self.verbose = verbose\n",
    "        self.Z = None\n",
    "\n",
    "    def forward(self, X):\n",
    "        #Xの次元は(batchsize, channel, height, width)\n",
    "        self.X = X\n",
    "        \n",
    "        #outputのshapeは 0:in_channel, 1:out_channel, 2:out_height, 3:out_width\n",
    "        self.batchsize, self.in_channel, self.in_h, self.in_w = X.shape\n",
    "        self.out_channel = len(self.b)\n",
    "        self.out_h = self._calc_hout()\n",
    "        self.out_w = self._calc_wout()\n",
    "        if not self.out_w.is_integer() or not self.out_h.is_integer():\n",
    "            print('Check kernelsize, stride, padding')\n",
    "            print(f'output shape: ({self.batchsize}, {self.out_channel}, {self.out_h}, {self.out_w})')\n",
    "            return \n",
    "        else:\n",
    "            self.out_h, self.out_w = int(self.out_h), int(self.out_w)\n",
    "        if self.verbose:\n",
    "            print(f'conv output shape: ({self.batchsize}, {self.out_channel}, {self.out_h}, {self.out_w})')\n",
    "        \n",
    "        if self.padding == 0:\n",
    "            self.X_pad = self.X.copy()\n",
    "        elif self.padding > 0:\n",
    "            self.X_pad = np.zeros((self.batchsize, self.in_channel,\n",
    "                                   self.in_h+2*self.padding, self.in_w+2*self.padding))\n",
    "            self.X_pad[:,:,self.padding:-self.padding, self.padding:-self.padding] += self.X\n",
    "        \n",
    "        self.Z = np.zeros((self.batchsize, self.out_channel, self.out_h, self.out_w))\n",
    "        sh, sw = self.stride\n",
    "        kh, kw = self.kernel\n",
    "        for b in range(self.batchsize):\n",
    "            for o_ch in range(self.out_channel):\n",
    "                for i_ch in range(self.in_channel):\n",
    "                    for o_h in range(self.out_h):\n",
    "                        for o_w in range(self.out_w):\n",
    "                            self.Z[b,o_ch,o_h,o_w] += np.sum(self.X_pad[b,i_ch,sh*o_h:sh*o_h+kh,sw*o_w:sw*o_w+kw]*self.W[i_ch,o_ch])\n",
    "                self.Z[b,o_ch] += self.b[o_ch]\n",
    "            \n",
    "        return self.Z\n",
    "\n",
    "    def backward(self, dA):\n",
    "        self, dA = self.optimizer.update(self, dA)\n",
    "        return dA\n",
    "    \n",
    "    def _calc_hout(self):\n",
    "        return (self.in_h+2*self.padding-self.kernel[0])/self.stride[0] + 1\n",
    "    \n",
    "    def _calc_wout(self):\n",
    "        return (self.in_w+2*self.padding-self.kernel[1])/self.stride[1] + 1"
   ]
  },
  {
   "cell_type": "code",
   "execution_count": 3,
   "metadata": {},
   "outputs": [],
   "source": [
    "def calc_size(n, pad, kernel, stride):\n",
    "    return (n+2*pad-kernel)/stride + 1\n",
    "\n",
    "\n",
    "class MaxPool2D():\n",
    "    def __init__(self, pool_size=(2,2), stride=(2,2), verbose=False):\n",
    "        self.pool_size = pool_size\n",
    "        self.stride = stride\n",
    "        self.verbose = verbose\n",
    "    \n",
    "    def forward(self, X):\n",
    "        self.X = X\n",
    "        batchsize, channel, h, w = X.shape\n",
    "        h_out = calc_size(h, 0, self.pool_size[0], self.stride[0])\n",
    "        w_out = calc_size(w, 0, self.pool_size[1], self.stride[1])\n",
    "        if not h_out.is_integer() or not w_out.is_integer():\n",
    "            print('Check pool_size and stride')\n",
    "            print(f'output shape: ({batchsize}, {channel}, {h_out}, {w_out})')\n",
    "            return \n",
    "        else:\n",
    "            h_out, w_out = int(h_out), int(w_out)\n",
    "        if self.verbose:\n",
    "            print(f'pooling output shape: ({batchsize}, {channel}, {h_out}, {w_out})')\n",
    "        \n",
    "        self.Z = np.zeros((batchsize, channel, h_out, w_out))\n",
    "        self.idx = []\n",
    "#         self.idx = np.zeros_like(X)\n",
    "        h_p, w_p = self.pool_size\n",
    "        h_str, w_str = self.stride\n",
    "        for b in range(batchsize):\n",
    "            for ch in range(channel):\n",
    "                for i in range(h_out):\n",
    "                    for j in range(w_out):\n",
    "                        tmp = np.argmax(X[b,ch,h_str*i:h_str*(i+1),w_str*j:w_str*(j+1)])\n",
    "#                         self.idx.append(tmp)\n",
    "                        row = h_str*i + tmp//h_p\n",
    "                        col = w_str*j + tmp%w_p\n",
    "                        self.idx.append((row, col))\n",
    "                        self.Z[b,ch,i,j] = np.max(X[b,ch,h_str*i:h_str*i+h_p,w_str*j:w_str*j+w_p])\n",
    "        return self.Z\n",
    "        \n",
    "    def backward(self, dA):\n",
    "        delta = np.zeros_like(self.X)\n",
    "        batchsize, channel, h, w = dA.shape\n",
    "        dA = dA.reshape(batchsize, channel, -1)\n",
    "        for b in range(batchsize):\n",
    "            for ch in range(channel):\n",
    "                for idx, loss in zip(self.idx, dA[b,ch]):\n",
    "                    delta[b,ch,idx[0],idx[1]] += loss\n",
    "        return delta"
   ]
  },
  {
   "cell_type": "code",
   "execution_count": 4,
   "metadata": {},
   "outputs": [],
   "source": [
    "class MeanPool2D():\n",
    "\n",
    "    def __init__(self, pool_size=(2,2), stride=(2,2), verbose=False):\n",
    "        self.pool_size = pool_size\n",
    "        self.stride = stride\n",
    "        self.verbose = verbose\n",
    "    \n",
    "    def forward(self, X):\n",
    "        self.X = X\n",
    "        batchsize, channel, h, w = X.shape\n",
    "        h_out = calc_size(h, 0, self.pool_size[0], self.stride[0])\n",
    "        w_out = calc_size(w, 0, self.pool_size[1], self.stride[1])\n",
    "        if not h_out.is_integer() or not w_out.is_integer():\n",
    "            print('Check pool_size and stride')\n",
    "            print(f'output shape: ({batchsize}, {channel}, {h_out}, {w_out})')\n",
    "            return \n",
    "        else:\n",
    "            h_out, w_out = int(h_out), int(w_out)\n",
    "            self.h_out, self.w_out = h_out, w_out\n",
    "        if self.verbose:\n",
    "            print(f'pooling output shape: ({batchsize}, {channel}, {h_out}, {w_out})')\n",
    "      \n",
    "        self.Z = np.zeros((batchsize, channel, h_out, w_out))\n",
    "#         self.loss_coef = []\n",
    "        h_p, w_p = self.pool_size\n",
    "        h_str, w_str = self.stride\n",
    "        for b in range(batchsize):\n",
    "            for ch in range(channel):\n",
    "                for i in range(h_out):\n",
    "                    for j in range(w_out):\n",
    "#                         self.loss_coef = idx[b,ch,h_str*i:h_str*(i+1),w_str*j:w_str*(j+1)] = 1 / (h_p*w_p)\n",
    "                        self.Z[b,ch,i,j] = np.mean(X[b,ch,h_str*i:h_str*i+h_p,w_str*j:w_str*j+w_p])\n",
    "        return self.Z\n",
    "        \n",
    "    def backward(self, dA):\n",
    "        loss = np.zeros_like(self.X)\n",
    "        h_str, w_str = self.stride\n",
    "        h_p, w_p = self.pool_size\n",
    "        for b in range(dA.shape[0]):\n",
    "            for ch in range(dA.shape[1]):\n",
    "                for h in range(self.h_out):\n",
    "                    for w in range(self.w_out):\n",
    "                         loss[b,ch,h_str*h:h_str*h+h_p,w_str*w+w_p] += dA[b,ch,h,w]\n",
    "        return loss / (h_p*w_p)"
   ]
  },
  {
   "cell_type": "code",
   "execution_count": 5,
   "metadata": {},
   "outputs": [],
   "source": [
    "class Flatten():\n",
    "    def __init__(self):\n",
    "        pass\n",
    "    \n",
    "    def forward(self, X):\n",
    "        self.b, self.ch, self.h, self.w = X.shape\n",
    "        return X.reshape(-1, self.ch*self.h*self.w)\n",
    "    \n",
    "    def backward(self, dA):\n",
    "        return dA.reshape(self.b, self.ch, self.h, self.w)"
   ]
  },
  {
   "cell_type": "code",
   "execution_count": 6,
   "metadata": {},
   "outputs": [],
   "source": [
    "class ConvInitializer:\n",
    "    def __init__(self, sigma=1):\n",
    "        self.sigma = sigma\n",
    "        \n",
    "    def W(self, inchannel, outchannel, kh, kw):\n",
    "        return np.random.randn(inchannel, outchannel, kh, kw)\n",
    "    \n",
    "    def b(self, outchannel):\n",
    "        return np.random.randn(outchannel)"
   ]
  },
  {
   "cell_type": "code",
   "execution_count": 7,
   "metadata": {},
   "outputs": [],
   "source": [
    "class ConvSGD:\n",
    "    def __init__(self, lr=0.001):\n",
    "        self.lr = lr\n",
    "        \n",
    "    def update(self, layer, dA):\n",
    "        db = np.zeros(layer.out_channel)\n",
    "        for o_ch in range(layer.out_channel):\n",
    "            db[o_ch] = np.sum(dA[:,o_ch,:,:])\n",
    "            \n",
    "        dW = np.zeros_like(layer.W)\n",
    "        for b in range(layer.batchsize):\n",
    "            for i_ch in range(layer.in_channel):\n",
    "                for o_ch in range(layer.out_channel):\n",
    "                    for h in range(layer.kernel[0]):\n",
    "                        for w in range(layer.kernel[1]):\n",
    "                            dW[i_ch,o_ch,h,w] = np.sum(layer.X_pad[b,i_ch,h:h+layer.out_h,w:w+layer.out_w]*dA[b,o_ch])\n",
    "                            \n",
    "        dX = np.zeros_like(layer.X)\n",
    "        for b in range(layer.batchsize):\n",
    "            for i_ch in range(layer.in_channel):\n",
    "                for o_ch in range(layer.out_channel):\n",
    "                    for h in range(layer.out_h-layer.kernel[0]):\n",
    "                        for w in range(layer.out_w-layer.kernel[1]):\n",
    "                            dX[b,i_ch,h:h+layer.kernel[0],w:w+layer.kernel[1]] += layer.W[i_ch,o_ch] * dA[b,o_ch,h,w]\n",
    "        \n",
    "        layer.b -= self.lr * db\n",
    "        layer.W -= self.lr * dW\n",
    "        self.dX = dX\n",
    "        self.dW = dW\n",
    "        return layer, dX"
   ]
  },
  {
   "cell_type": "code",
   "execution_count": 8,
   "metadata": {},
   "outputs": [
    {
     "name": "stderr",
     "output_type": "stream",
     "text": [
      "Using TensorFlow backend.\n"
     ]
    }
   ],
   "source": [
    "from sklearn.model_selection import train_test_split\n",
    "from sklearn.metrics import accuracy_score\n",
    "from keras.datasets import mnist\n",
    "from tqdm import tqdm"
   ]
  },
  {
   "cell_type": "code",
   "execution_count": 9,
   "metadata": {},
   "outputs": [],
   "source": [
    "class FC():\n",
    "    def __init__(self, n_nodes1, n_nodes2, activator, initializer, optimizer):\n",
    "        self.optimizer = optimizer\n",
    "        self.activator = activator\n",
    "        self.W = initializer.W(n_nodes1, n_nodes2)\n",
    "        self.B = initializer.B(n_nodes2)\n",
    "\n",
    "    def forward(self, X):  \n",
    "        self.X = X\n",
    "        self.n_batch = len(self.X)\n",
    "        self.Z = np.dot(X, self.W) + self.B\n",
    "        self.A = self.activator.forward(self.Z)\n",
    "        return self.A    \n",
    "\n",
    "    def backward(self, dA):\n",
    "        dZ = self.activator.backward(dA)\n",
    "        self, dA = self.optimizer.update(self, dZ)\n",
    "        return dA\n",
    "    \n",
    "class SimpleInitializer:\n",
    "    def __init__(self, sigma):\n",
    "        self.sigma = sigma\n",
    "        \n",
    "    def W(self, n_nodes1, n_nodes2):\n",
    "        return np.random.randn(n_nodes1, n_nodes2)\n",
    "    \n",
    "    def B(self, n_nodes2):\n",
    "        return np.random.randn(n_nodes2)\n",
    "\n",
    "class HeInitializer():\n",
    "    def __init__(self):\n",
    "        self.std = None\n",
    "    \n",
    "    def W(self, n_nodes1, n_nodes2):\n",
    "        self.std = np.sqrt(n_nodes1/2)\n",
    "        return np.random.randn(n_nodes1, n_nodes2) / self.std\n",
    "    \n",
    "    def B(self, n_nodes2):\n",
    "        return np.random.randn(n_nodes2) / self.std\n",
    "    \n",
    "    \n",
    "class SGD:\n",
    "    def __init__(self, lr):\n",
    "        self.lr = lr\n",
    "        \n",
    "    def update(self, layer, dZ):\n",
    "        dB = np.sum(dZ, axis=0)\n",
    "        dW = np.dot(layer.X.T, dZ)\n",
    "        dA = np.dot(dZ, layer.W.T)\n",
    "        layer.B -= self.lr * dB / layer.n_batch\n",
    "        layer.W -= self.lr * dW / layer.n_batch\n",
    "        return layer, dA\n",
    "\n",
    "class Relu():\n",
    "    def __init__(self):\n",
    "        pass\n",
    "    \n",
    "    def forward(self, Z):\n",
    "        self.A = np.maximum(0, Z)\n",
    "        return self.A\n",
    "    \n",
    "    def backward(self, dA):\n",
    "        return  dA * np.where(self.A>0, 1, 0)\n",
    "    \n",
    "class Softmax():\n",
    "    def __init__(self):\n",
    "        pass\n",
    "    \n",
    "    def forward(self, Z):\n",
    "        if Z.ndim == 2:\n",
    "            Z = Z.T\n",
    "            self.A = (np.exp(Z) / np.sum(np.exp(Z), axis=0)).T\n",
    "            return self.A\n",
    "        self.A = np.exp(Z) / np.sum(np.exp(Z))\n",
    "        return self.A\n",
    "    \n",
    "    def backward(self, y):\n",
    "        return self.A - y\n",
    "\n",
    "class ScratchDeepNeuralNetworkClassifier():\n",
    "    def __init__(self, *layers, epoch=3):\n",
    "        self.epoch = epoch\n",
    "        self.n_layers = len(layers)\n",
    "        self.layers = layers\n",
    "        self.loss_train = []\n",
    "        self.loss_valid = []\n",
    "\n",
    "    def train(self, X, y, X_val=None, y_val=None):\n",
    "        get_mini_batch = GetMiniBatch(X_train, y_train, batch_size=5)\n",
    "        for _ in tqdm(range(self.epoch)):\n",
    "            for mini_X_train, mini_y_train in get_mini_batch:\n",
    "                fout = mini_X_train.copy()\n",
    "                for layer in self.layers:\n",
    "                    fout = layer.forward(fout)\n",
    "\n",
    "                bout = mini_y_train.copy()\n",
    "                for layer in self.layers[::-1]:\n",
    "                    bout = layer.backward(bout)\n",
    "                    \n",
    "            self.loss_train.append(self.crossentropy(mini_y_train, fout))\n",
    "            if X_val is not None:\n",
    "                y_val_pred = X_val.copy()\n",
    "                for layer in self.layers:\n",
    "                    y_val_pred = layer.forward(y_val_pred)\n",
    "                self.loss_valid.append(self.crossentropy(y_val, y_val_pred))\n",
    "        \n",
    "        \n",
    "    def crossentropy(self, y, y_pred):\n",
    "        loss = -np.mean(np.sum(y*np.log(y_pred), axis=1))\n",
    "        return loss\n",
    "    \n",
    "            \n",
    "    def predict(self, X_test):\n",
    "        out = X_test\n",
    "        for layer in self.layers:\n",
    "            out = layer.forward(out)\n",
    "        return out"
   ]
  },
  {
   "cell_type": "code",
   "execution_count": 10,
   "metadata": {},
   "outputs": [],
   "source": [
    "class GetMiniBatch:\n",
    "    def __init__(self, X, y, batch_size=20, seed=0):\n",
    "        self.batch_size = batch_size\n",
    "        np.random.seed(seed)\n",
    "        shuffle_index = np.random.permutation(np.arange(X.shape[0]))\n",
    "        self._X = X[shuffle_index]\n",
    "        self._y = y[shuffle_index]\n",
    "        self._stop = np.ceil(X.shape[0]/self.batch_size).astype(np.int)\n",
    "    def __len__(self):\n",
    "        return self._stop\n",
    "    def __getitem__(self, item):\n",
    "        p0 = item*self.batch_size\n",
    "        p1 = item*self.batch_size + self.batch_size\n",
    "        return self._X[p0:p1], self._y[p0:p1]        \n",
    "    def __iter__(self):\n",
    "        self._counter = 0\n",
    "        return self\n",
    "    def __next__(self):\n",
    "        if self._counter >= self._stop:\n",
    "            raise StopIteration()\n",
    "        p0 = self._counter*self.batch_size\n",
    "        p1 = self._counter*self.batch_size + self.batch_size\n",
    "        self._counter += 1\n",
    "        return self._X[p0:p1], self._y[p0:p1]"
   ]
  },
  {
   "cell_type": "code",
   "execution_count": 11,
   "metadata": {},
   "outputs": [],
   "source": [
    "(X_train, y_train), (X_test, y_test) = mnist.load_data()\n",
    "X_train = X_train.reshape(-1, 1, 28, 28)[:5000]\n",
    "y_train = y_train[:5000]\n",
    "X_train = X_train.astype(np.float)\n",
    "X_train /= 255\n",
    "\n",
    "from sklearn.preprocessing import OneHotEncoder\n",
    "enc = OneHotEncoder(handle_unknown='ignore', sparse=False)\n",
    "y_train_one_hot = enc.fit_transform(y_train[:, np.newaxis])\n",
    "y_test_one_hot = enc.transform(y_test[:, np.newaxis])\n",
    "X_train, X_val, y_train, y_val = train_test_split(X_train, y_train_one_hot, test_size=0.2)"
   ]
  },
  {
   "cell_type": "markdown",
   "metadata": {},
   "source": [
    "## 【問題6】学習と推定"
   ]
  },
  {
   "cell_type": "code",
   "execution_count": 12,
   "metadata": {},
   "outputs": [
    {
     "name": "stderr",
     "output_type": "stream",
     "text": [
      "100%|██████████| 15/15 [17:29<00:00, 69.94s/it]\n"
     ]
    }
   ],
   "source": [
    "softmax = Softmax()\n",
    "initializer1 = ConvInitializer()\n",
    "optimizer1 = ConvSGD(lr=0.005)\n",
    "initializer2 = SimpleInitializer(sigma=1)\n",
    "optimizer2 = SGD(lr=0.005)\n",
    "\n",
    "conv = Scratch2dCNNClassifier(initializer1, optimizer1, in_channel=1, out_channel=1, kernel=(3,3), stride=(1,1), padding=1)\n",
    "mp = MaxPool2D(pool_size=(2,2), stride=(2,2))\n",
    "fl = Flatten()\n",
    "fc = FC(196, 10, softmax, initializer2, optimizer2)\n",
    "\n",
    "nn = ScratchDeepNeuralNetworkClassifier(conv, mp, fl, fc, epoch=15)\n",
    "nn.train(X_train, y_train, X_val, y_val)"
   ]
  },
  {
   "cell_type": "code",
   "execution_count": 13,
   "metadata": {},
   "outputs": [
    {
     "data": {
      "text/plain": [
       "<matplotlib.legend.Legend at 0x1a4aec3c90>"
      ]
     },
     "execution_count": 13,
     "metadata": {},
     "output_type": "execute_result"
    },
    {
     "data": {
      "image/png": "[encoded data removed]",
      "text/plain": [
       "<Figure size 432x288 with 1 Axes>"
      ]
     },
     "metadata": {
      "needs_background": "light"
     },
     "output_type": "display_data"
    }
   ],
   "source": [
    "plt.plot(nn.loss_train, '-o', label='train loss')\n",
    "plt.plot(nn.loss_valid, '-o', label='valid loss')\n",
    "plt.legend()"
   ]
  },
  {
   "cell_type": "code",
   "execution_count": 14,
   "metadata": {},
   "outputs": [
    {
     "data": {
      "text/plain": [
       "0.389"
      ]
     },
     "execution_count": 14,
     "metadata": {},
     "output_type": "execute_result"
    }
   ],
   "source": [
    "y_pred = nn.predict(X_val)\n",
    "accuracy_score(np.argmax(y_pred, axis=1), np.argmax(y_val, axis=1))"
   ]
  },
  {
   "cell_type": "code",
   "execution_count": 15,
   "metadata": {},
   "outputs": [
    {
     "data": {
      "image/png": "[encoded data removed]",
      "text/plain": [
       "<Figure size 432x432 with 36 Axes>"
      ]
     },
     "metadata": {},
     "output_type": "display_data"
    }
   ],
   "source": [
    "import pandas as pd\n",
    "num = 36 # いくつ表示するか\n",
    "#true_false = pd.get_dummies(y_pred).values==y_val\n",
    "true_false = np.argmax(y_pred, axis=1)==np.argmax(y_val, axis=1)\n",
    "false_list = np.where(true_false==False)[0].astype(np.int)\n",
    "if false_list.shape[0] < num:\n",
    "    num = false_list.shape[0]\n",
    "fig = plt.figure(figsize=(6, 6))\n",
    "fig.subplots_adjust(left=0, right=0.8,  bottom=0, top=0.8, hspace=1, wspace=0.5)\n",
    "for i in range(num):\n",
    "    ax = fig.add_subplot(6, 6, i + 1, xticks=[], yticks=[])\n",
    "    ax.set_title(\"{} / {}\".format(np.argmax(y_pred[false_list[i]]),np.argmax(y_val[false_list[i]])))\n",
    "    ax.imshow(X_val.reshape(-1,28,28)[false_list[i]], cmap='gray')"
   ]
  },
  {
   "cell_type": "markdown",
   "metadata": {},
   "source": [
    "## 【問題7】LeNet"
   ]
  },
  {
   "cell_type": "code",
   "execution_count": 16,
   "metadata": {},
   "outputs": [
    {
     "name": "stderr",
     "output_type": "stream",
     "text": [
      "100%|██████████| 15/15 [2:59:39<00:00, 718.64s/it] \n"
     ]
    }
   ],
   "source": [
    "softmax = Softmax()\n",
    "relu3 = Relu()\n",
    "relu4 = Relu()\n",
    "initializer1 = ConvInitializer()\n",
    "optimizer1 = ConvSGD(lr=0.001)\n",
    "initializer2 = HeInitializer()\n",
    "optimizer2 = SGD(lr=0.001)\n",
    "optimizer3 = SGD(lr=0.001)\n",
    "optimizer4 = SGD(lr=0.001)\n",
    "\n",
    "conv1 = Scratch2dCNNClassifier(initializer1, optimizer1, in_channel=1, out_channel=6,\n",
    "                               kernel=(5,5), stride=(1,1), padding=0)\n",
    "relu1 = Relu()\n",
    "mp1 = MaxPool2D(pool_size=(2,2), stride=(2,2))\n",
    "conv2 = Scratch2dCNNClassifier(initializer1, optimizer1, in_channel=6, out_channel=16,\n",
    "                               kernel=(5,5), stride=(1,1), padding=0)\n",
    "relu2 = Relu()\n",
    "mp2 = MaxPool2D(pool_size=(2,2), stride=(2,2))\n",
    "fl = Flatten()\n",
    "fc1 = FC(256, 120, relu3, initializer2, optimizer2)\n",
    "fc2 = FC(120, 84, relu4, initializer2, optimizer3)\n",
    "fc3 = FC(84, 10, softmax, initializer2, optimizer4)\n",
    "\n",
    "nn = ScratchDeepNeuralNetworkClassifier(conv1, relu1, mp1, conv2, relu2, mp2, fl, fc1, fc2, fc3, epoch=15)\n",
    "nn.train(X_train, y_train, X_val, y_val)"
   ]
  },
  {
   "cell_type": "code",
   "execution_count": 17,
   "metadata": {},
   "outputs": [
    {
     "data": {
      "text/plain": [
       "<matplotlib.legend.Legend at 0x1a4726b9d0>"
      ]
     },
     "execution_count": 17,
     "metadata": {},
     "output_type": "execute_result"
    },
    {
     "data": {
      "image/png": "[encoded data removed]",
      "text/plain": [
       "<Figure size 432x288 with 1 Axes>"
      ]
     },
     "metadata": {
      "needs_background": "light"
     },
     "output_type": "display_data"
    }
   ],
   "source": [
    "plt.plot(nn.loss_train, '-o', label='train loss')\n",
    "plt.plot(nn.loss_valid, '-o', label='valid loss')\n",
    "plt.legend()"
   ]
  },
  {
   "cell_type": "code",
   "execution_count": 18,
   "metadata": {},
   "outputs": [
    {
     "data": {
      "text/plain": [
       "0.917"
      ]
     },
     "execution_count": 18,
     "metadata": {},
     "output_type": "execute_result"
    }
   ],
   "source": [
    "y_pred = nn.predict(X_val)\n",
    "accuracy_score(np.argmax(y_pred, axis=1), np.argmax(y_val, axis=1))"
   ]
  },
  {
   "cell_type": "markdown",
   "metadata": {},
   "source": [
    "## 【問題9】出力サイズとパラメータ数の計算"
   ]
  },
  {
   "cell_type": "markdown",
   "metadata": {},
   "source": [
    "- 入力サイズ：144x144, 3チャネル\n",
    "- フィルタサイズ：3x3, 6チャネル\n",
    "- ストライド：1\n",
    "- パディング：なし\n",
    "<br>  \n",
    "出力サイズ：6x142x142  \n",
    "パラメータ数：3\\*3\\*3\\*6=162"
   ]
  },
  {
   "cell_type": "markdown",
   "metadata": {},
   "source": [
    "- 入力サイズ：60x60, 24チャネル\n",
    "- フィルタサイズ：3x3, 48チャネル\n",
    "- ストライド：1\n",
    "- パディング：なし\n",
    "<br>  \n",
    "出力サイズ：48x58x58  \n",
    "パラメータ数：3\\*3\\*24\\*48=10368"
   ]
  },
  {
   "cell_type": "markdown",
   "metadata": {},
   "source": [
    "- 入力サイズ：20x20, 10チャネル\n",
    "- フィルタサイズ：3x3, 20チャネル\n",
    "- ストライド：2\n",
    "- パディング：なし\n",
    "<br>  \n",
    "出力サイズ：20x9x9  \n",
    "パラメータ数：3\\*3\\*10\\*20=1800"
   ]
  }
 ],
 "metadata": {
  "kernelspec": {
   "display_name": "Python 3",
   "language": "python",
   "name": "python3"
  },
  "language_info": {
   "codemirror_mode": {
    "name": "ipython",
    "version": 3
   },
   "file_extension": ".py",
   "mimetype": "text/x-python",
   "name": "python",
   "nbconvert_exporter": "python",
   "pygments_lexer": "ipython3",
   "version": "3.7.4"
  }
 },
 "nbformat": 4,
 "nbformat_minor": 2
}
