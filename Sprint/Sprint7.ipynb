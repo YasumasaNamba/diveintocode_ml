{
 "cells": [
  {
   "cell_type": "code",
   "execution_count": 1,
   "metadata": {},
   "outputs": [],
   "source": [
    "import numpy as np\n",
    "import pandas as pd\n",
    "import matplotlib.pyplot as plt\n",
    "%matplotlib inline\n",
    "from sklearn.metrics import mean_squared_error as mse\n",
    "from sklearn.model_selection import train_test_split\n",
    "from sklearn.preprocessing import StandardScaler"
   ]
  },
  {
   "cell_type": "code",
   "execution_count": 2,
   "metadata": {},
   "outputs": [
    {
     "data": {
      "text/html": [
       "<div>\n",
       "<style scoped>\n",
       "    .dataframe tbody tr th:only-of-type {\n",
       "        vertical-align: middle;\n",
       "    }\n",
       "\n",
       "    .dataframe tbody tr th {\n",
       "        vertical-align: top;\n",
       "    }\n",
       "\n",
       "    .dataframe thead th {\n",
       "        text-align: right;\n",
       "    }\n",
       "</style>\n",
       "<table border=\"1\" class=\"dataframe\">\n",
       "  <thead>\n",
       "    <tr style=\"text-align: right;\">\n",
       "      <th></th>\n",
       "      <th>Id</th>\n",
       "      <th>MSSubClass</th>\n",
       "      <th>MSZoning</th>\n",
       "      <th>LotFrontage</th>\n",
       "      <th>LotArea</th>\n",
       "      <th>Street</th>\n",
       "      <th>Alley</th>\n",
       "      <th>LotShape</th>\n",
       "      <th>LandContour</th>\n",
       "      <th>Utilities</th>\n",
       "      <th>...</th>\n",
       "      <th>PoolArea</th>\n",
       "      <th>PoolQC</th>\n",
       "      <th>Fence</th>\n",
       "      <th>MiscFeature</th>\n",
       "      <th>MiscVal</th>\n",
       "      <th>MoSold</th>\n",
       "      <th>YrSold</th>\n",
       "      <th>SaleType</th>\n",
       "      <th>SaleCondition</th>\n",
       "      <th>SalePrice</th>\n",
       "    </tr>\n",
       "  </thead>\n",
       "  <tbody>\n",
       "    <tr>\n",
       "      <td>0</td>\n",
       "      <td>1</td>\n",
       "      <td>60</td>\n",
       "      <td>RL</td>\n",
       "      <td>65.0</td>\n",
       "      <td>8450</td>\n",
       "      <td>Pave</td>\n",
       "      <td>NaN</td>\n",
       "      <td>Reg</td>\n",
       "      <td>Lvl</td>\n",
       "      <td>AllPub</td>\n",
       "      <td>...</td>\n",
       "      <td>0</td>\n",
       "      <td>NaN</td>\n",
       "      <td>NaN</td>\n",
       "      <td>NaN</td>\n",
       "      <td>0</td>\n",
       "      <td>2</td>\n",
       "      <td>2008</td>\n",
       "      <td>WD</td>\n",
       "      <td>Normal</td>\n",
       "      <td>208500</td>\n",
       "    </tr>\n",
       "    <tr>\n",
       "      <td>1</td>\n",
       "      <td>2</td>\n",
       "      <td>20</td>\n",
       "      <td>RL</td>\n",
       "      <td>80.0</td>\n",
       "      <td>9600</td>\n",
       "      <td>Pave</td>\n",
       "      <td>NaN</td>\n",
       "      <td>Reg</td>\n",
       "      <td>Lvl</td>\n",
       "      <td>AllPub</td>\n",
       "      <td>...</td>\n",
       "      <td>0</td>\n",
       "      <td>NaN</td>\n",
       "      <td>NaN</td>\n",
       "      <td>NaN</td>\n",
       "      <td>0</td>\n",
       "      <td>5</td>\n",
       "      <td>2007</td>\n",
       "      <td>WD</td>\n",
       "      <td>Normal</td>\n",
       "      <td>181500</td>\n",
       "    </tr>\n",
       "    <tr>\n",
       "      <td>2</td>\n",
       "      <td>3</td>\n",
       "      <td>60</td>\n",
       "      <td>RL</td>\n",
       "      <td>68.0</td>\n",
       "      <td>11250</td>\n",
       "      <td>Pave</td>\n",
       "      <td>NaN</td>\n",
       "      <td>IR1</td>\n",
       "      <td>Lvl</td>\n",
       "      <td>AllPub</td>\n",
       "      <td>...</td>\n",
       "      <td>0</td>\n",
       "      <td>NaN</td>\n",
       "      <td>NaN</td>\n",
       "      <td>NaN</td>\n",
       "      <td>0</td>\n",
       "      <td>9</td>\n",
       "      <td>2008</td>\n",
       "      <td>WD</td>\n",
       "      <td>Normal</td>\n",
       "      <td>223500</td>\n",
       "    </tr>\n",
       "    <tr>\n",
       "      <td>3</td>\n",
       "      <td>4</td>\n",
       "      <td>70</td>\n",
       "      <td>RL</td>\n",
       "      <td>60.0</td>\n",
       "      <td>9550</td>\n",
       "      <td>Pave</td>\n",
       "      <td>NaN</td>\n",
       "      <td>IR1</td>\n",
       "      <td>Lvl</td>\n",
       "      <td>AllPub</td>\n",
       "      <td>...</td>\n",
       "      <td>0</td>\n",
       "      <td>NaN</td>\n",
       "      <td>NaN</td>\n",
       "      <td>NaN</td>\n",
       "      <td>0</td>\n",
       "      <td>2</td>\n",
       "      <td>2006</td>\n",
       "      <td>WD</td>\n",
       "      <td>Abnorml</td>\n",
       "      <td>140000</td>\n",
       "    </tr>\n",
       "    <tr>\n",
       "      <td>4</td>\n",
       "      <td>5</td>\n",
       "      <td>60</td>\n",
       "      <td>RL</td>\n",
       "      <td>84.0</td>\n",
       "      <td>14260</td>\n",
       "      <td>Pave</td>\n",
       "      <td>NaN</td>\n",
       "      <td>IR1</td>\n",
       "      <td>Lvl</td>\n",
       "      <td>AllPub</td>\n",
       "      <td>...</td>\n",
       "      <td>0</td>\n",
       "      <td>NaN</td>\n",
       "      <td>NaN</td>\n",
       "      <td>NaN</td>\n",
       "      <td>0</td>\n",
       "      <td>12</td>\n",
       "      <td>2008</td>\n",
       "      <td>WD</td>\n",
       "      <td>Normal</td>\n",
       "      <td>250000</td>\n",
       "    </tr>\n",
       "  </tbody>\n",
       "</table>\n",
       "<p>5 rows × 81 columns</p>\n",
       "</div>"
      ],
      "text/plain": [
       "   Id  MSSubClass MSZoning  LotFrontage  LotArea Street Alley LotShape  \\\n",
       "0   1          60       RL         65.0     8450   Pave   NaN      Reg   \n",
       "1   2          20       RL         80.0     9600   Pave   NaN      Reg   \n",
       "2   3          60       RL         68.0    11250   Pave   NaN      IR1   \n",
       "3   4          70       RL         60.0     9550   Pave   NaN      IR1   \n",
       "4   5          60       RL         84.0    14260   Pave   NaN      IR1   \n",
       "\n",
       "  LandContour Utilities  ... PoolArea PoolQC Fence MiscFeature MiscVal MoSold  \\\n",
       "0         Lvl    AllPub  ...        0    NaN   NaN         NaN       0      2   \n",
       "1         Lvl    AllPub  ...        0    NaN   NaN         NaN       0      5   \n",
       "2         Lvl    AllPub  ...        0    NaN   NaN         NaN       0      9   \n",
       "3         Lvl    AllPub  ...        0    NaN   NaN         NaN       0      2   \n",
       "4         Lvl    AllPub  ...        0    NaN   NaN         NaN       0     12   \n",
       "\n",
       "  YrSold  SaleType  SaleCondition  SalePrice  \n",
       "0   2008        WD         Normal     208500  \n",
       "1   2007        WD         Normal     181500  \n",
       "2   2008        WD         Normal     223500  \n",
       "3   2006        WD        Abnorml     140000  \n",
       "4   2008        WD         Normal     250000  \n",
       "\n",
       "[5 rows x 81 columns]"
      ]
     },
     "execution_count": 2,
     "metadata": {},
     "output_type": "execute_result"
    }
   ],
   "source": [
    "df = pd.read_csv('../week3/train.csv')\n",
    "df.head()"
   ]
  },
  {
   "cell_type": "code",
   "execution_count": 3,
   "metadata": {},
   "outputs": [],
   "source": [
    "X = df[['GrLivArea', 'YearBuilt']].values\n",
    "y = df[['SalePrice']].values\n",
    "xscaler = StandardScaler()\n",
    "X_scaled = xscaler.fit_transform(X)\n",
    "yscaler = StandardScaler()\n",
    "y_scaled = yscaler.fit_transform(y).ravel()\n",
    "X_train, X_test, y_train, y_test = train_test_split(X_scaled, y_scaled, test_size=0.2)"
   ]
  },
  {
   "cell_type": "markdown",
   "metadata": {},
   "source": [
    "## 【問題1】ブレンディングのスクラッチ実装\n",
    "ブレンディングをスクラッチ実装し、単一モデルより精度があがる例を 最低3つ 示してください。  \n",
    "精度があがるとは、検証用データに対する平均二乗誤差（MSE）が小さくなることを指します。"
   ]
  },
  {
   "cell_type": "code",
   "execution_count": 4,
   "metadata": {},
   "outputs": [],
   "source": [
    "from sklearn.linear_model import LinearRegression\n",
    "from sklearn.svm import SVR\n",
    "from sklearn.tree import DecisionTreeRegressor"
   ]
  },
  {
   "cell_type": "code",
   "execution_count": 5,
   "metadata": {},
   "outputs": [],
   "source": [
    "class Blending():\n",
    "    \"\"\"\n",
    "    各モデルの出力の平均を返す\n",
    "    \"\"\"\n",
    "    def __init__(self, *model):\n",
    "        self.model_list = [*model]\n",
    "        self.num_model = len(model)\n",
    "        \n",
    "        \n",
    "    def fit(self, X_train, y_train):\n",
    "        for i in range(self.num_model):\n",
    "            self.model_list[i].fit(X_train, y_train)\n",
    "        \n",
    "        \n",
    "    def predict(self, X_test, weight=None):\n",
    "        y_pred = np.zeros((len(X_test), self.num_model))\n",
    "        if not weight:\n",
    "            weight = np.array([1/self.num_model]*self.num_model)\n",
    "        else:\n",
    "            weight = np.array(weight)\n",
    "        for i in range(self.num_model):\n",
    "            y_pred[:,i] = self.model_list[i].predict(X_test)\n",
    "        return np.sum(y_pred*weight, axis=1)"
   ]
  },
  {
   "cell_type": "code",
   "execution_count": 6,
   "metadata": {},
   "outputs": [
    {
     "name": "stdout",
     "output_type": "stream",
     "text": [
      "linear regression: 0.3650\n",
      "SVR: 0.3252\n",
      "decisiontreeregressor: 0.3206\n"
     ]
    }
   ],
   "source": [
    "linear = LinearRegression()\n",
    "linear.fit(X_train, y_train)\n",
    "y_pred = linear.predict(X_test)\n",
    "print(f'linear regression: {mse(y_pred, y_test):.4f}')\n",
    "\n",
    "svr = SVR(gamma='auto')\n",
    "svr.fit(X_train, y_train)\n",
    "y_pred = svr.predict(X_test)\n",
    "print(f'SVR: {mse(y_pred, y_test):.4f}')\n",
    "\n",
    "tree = DecisionTreeRegressor(max_depth=5)\n",
    "tree.fit(X_train, y_train)\n",
    "y_pred = tree.predict(X_test)\n",
    "print(f'decisiontreeregressor: {mse(y_pred, y_test):.4f}')"
   ]
  },
  {
   "cell_type": "code",
   "execution_count": 7,
   "metadata": {},
   "outputs": [
    {
     "data": {
      "text/plain": [
       "0.30574468789172277"
      ]
     },
     "execution_count": 7,
     "metadata": {},
     "output_type": "execute_result"
    }
   ],
   "source": [
    "linear = LinearRegression()\n",
    "svr = SVR(gamma='auto')\n",
    "tree = DecisionTreeRegressor(max_depth=5)\n",
    "\n",
    "b = Blending(linear, svr, tree)\n",
    "b.fit(X_train, y_train)\n",
    "y_pred = b.predict(X_test, weight=[1/3, 1/3, 1/3])\n",
    "mse(y_pred, y_test)"
   ]
  },
  {
   "cell_type": "code",
   "execution_count": 8,
   "metadata": {},
   "outputs": [
    {
     "data": {
      "text/plain": [
       "0.30170700842677417"
      ]
     },
     "execution_count": 8,
     "metadata": {},
     "output_type": "execute_result"
    }
   ],
   "source": [
    "svr = SVR(gamma='auto')\n",
    "tree = DecisionTreeRegressor(max_depth=5)\n",
    "\n",
    "b = Blending(svr, tree)\n",
    "b.fit(X_train, y_train)\n",
    "y_pred = b.predict(X_test, weight=[2/3, 1/3])\n",
    "mse(y_pred, y_test)"
   ]
  },
  {
   "cell_type": "code",
   "execution_count": 9,
   "metadata": {},
   "outputs": [
    {
     "data": {
      "text/plain": [
       "0.3052890014081833"
      ]
     },
     "execution_count": 9,
     "metadata": {},
     "output_type": "execute_result"
    }
   ],
   "source": [
    "linear = LinearRegression()\n",
    "svr = SVR(C=0.5, gamma='auto')\n",
    "tree = DecisionTreeRegressor(max_depth=5)\n",
    "\n",
    "b = Blending(linear, svr, tree)\n",
    "b.fit(X_train, y_train)\n",
    "y_pred = b.predict(X_test, weight=[1/5, 2/5, 2/5])\n",
    "mse(y_pred, y_test)"
   ]
  },
  {
   "cell_type": "code",
   "execution_count": 10,
   "metadata": {},
   "outputs": [
    {
     "data": {
      "text/plain": [
       "0.33709299418406935"
      ]
     },
     "execution_count": 10,
     "metadata": {},
     "output_type": "execute_result"
    }
   ],
   "source": [
    "linear = LinearRegression()\n",
    "tree = DecisionTreeRegressor(max_depth=5)\n",
    "\n",
    "b = Blending(tree, linear)\n",
    "b.fit(X_train, y_train)\n",
    "y_pred = b.predict(X_test, weight=[1/6, 5/6])\n",
    "mse(y_pred, y_test)"
   ]
  },
  {
   "cell_type": "markdown",
   "metadata": {},
   "source": [
    "## 【問題2】バギングのスクラッチ実装\n",
    "バギングをスックラッチ実装し、単一モデルより精度が上がる例を最低一つ示してください。"
   ]
  },
  {
   "cell_type": "code",
   "execution_count": 11,
   "metadata": {},
   "outputs": [],
   "source": [
    "class Bagging():\n",
    "    def __init__(self, model, n=10, bs=0.8):\n",
    "        self.model_list = [model]*n\n",
    "        self.n = n\n",
    "        self.bs = bs\n",
    "        \n",
    "        \n",
    "    def fit(self, X, y):\n",
    "        for i in range(self.n):\n",
    "            X_train, _, y_train, _ = train_test_split(X, y, train_size=self.bs, shuffle=True)\n",
    "            self.model_list[i].fit(X_train, y_train)\n",
    "\n",
    "            \n",
    "    def predict(self, X_test):\n",
    "        y = 0\n",
    "        for i in range(self.n):\n",
    "            y += self.model_list[i].predict(X_test)\n",
    "        return y / self.n"
   ]
  },
  {
   "cell_type": "code",
   "execution_count": 12,
   "metadata": {},
   "outputs": [
    {
     "data": {
      "text/plain": [
       "0.30048340985757094"
      ]
     },
     "execution_count": 12,
     "metadata": {},
     "output_type": "execute_result"
    }
   ],
   "source": [
    "tree = DecisionTreeRegressor(max_depth=5)\n",
    "b = Bagging(tree, n=1000, bs=0.8)\n",
    "b.fit(X_train, y_train)\n",
    "y_pred = b.predict(X_test)\n",
    "mse(y_pred, y_test)"
   ]
  },
  {
   "cell_type": "markdown",
   "metadata": {},
   "source": [
    "##  【問題3】スタッキングのスクラッチ実装\n",
    "スタッキングをスクラッチ実装し、単一モデルより精度が上がる例を最低一つ示してください。"
   ]
  },
  {
   "cell_type": "code",
   "execution_count": 13,
   "metadata": {},
   "outputs": [],
   "source": [
    "from sklearn.model_selection import KFold\n",
    "\n",
    "class Stacking():\n",
    "    def __init__(self, *model, n_splits=2, last=None):\n",
    "        \"\"\"\n",
    "        行方向は使用するモデルの種類、列方向はfitさせるデータの種類が異なる\n",
    "        model_listの配列を使用する\n",
    "        \"\"\"\n",
    "        self.model_list = np.repeat(np.array(model).reshape(-1,1), n_splits, axis=1)\n",
    "        self.n_model = len(model)\n",
    "        self.n_splits = n_splits\n",
    "        self.last = last\n",
    "        self.blend = None\n",
    "        \n",
    "        \n",
    "    def fit(self, X, y):\n",
    "        kf = KFold(n_splits=self.n_splits, shuffle=True)\n",
    "        self.blend = np.zeros((len(X), self.n_model))\n",
    "        for i, idx in enumerate(kf.split(X, y)):\n",
    "            X_train, y_train = X[idx[0]], y[idx[0]]\n",
    "            X_val, y_val = X[idx[1]], y[idx[1]]\n",
    "            for j in range(self.n_model):\n",
    "                self.model_list[j,i].fit(X_train, y_train)\n",
    "                self.blend[idx[1],j] = self.model_list[j,i].predict(X_val)     \n",
    "        \n",
    "        self.last.fit(self.blend, y)\n",
    "        \n",
    "        \n",
    "    def predict(self, X_test):\n",
    "        y_blend = np.zeros((len(X_test), self.n_model))\n",
    "        for i in range(self.n_model):\n",
    "            tmp = np.zeros((len(X_test), self.n_splits))\n",
    "            for j in range(self.n_splits):\n",
    "                tmp[:,j] = self.model_list[i,j].predict(X_test)\n",
    "            y_blend[:,i] = np.mean(tmp, axis=1)\n",
    "            \n",
    "        return self.last.predict(y_blend)"
   ]
  },
  {
   "cell_type": "code",
   "execution_count": 14,
   "metadata": {},
   "outputs": [],
   "source": [
    "linear = LinearRegression()\n",
    "tree = DecisionTreeRegressor()\n",
    "svr = SVR(gamma='auto')\n",
    "\n",
    "stack = Stacking(svr, tree, n_splits=5, last=linear)\n",
    "stack.fit(X_train, y_train)"
   ]
  },
  {
   "cell_type": "code",
   "execution_count": 15,
   "metadata": {},
   "outputs": [
    {
     "data": {
      "text/plain": [
       "0.2935390975071535"
      ]
     },
     "execution_count": 15,
     "metadata": {},
     "output_type": "execute_result"
    }
   ],
   "source": [
    "y_pred = stack.predict(X_test)\n",
    "mse(y_pred, y_test)"
   ]
  }
 ],
 "metadata": {
  "kernelspec": {
   "display_name": "Python 3",
   "language": "python",
   "name": "python3"
  },
  "language_info": {
   "codemirror_mode": {
    "name": "ipython",
    "version": 3
   },
   "file_extension": ".py",
   "mimetype": "text/x-python",
   "name": "python",
   "nbconvert_exporter": "python",
   "pygments_lexer": "ipython3",
   "version": "3.7.4"
  }
 },
 "nbformat": 4,
 "nbformat_minor": 2
}
